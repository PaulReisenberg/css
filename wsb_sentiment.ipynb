{
 "cells": [
  {
   "cell_type": "markdown",
   "id": "46912650",
   "metadata": {},
   "source": [
    "# Imports"
   ]
  },
  {
   "cell_type": "code",
   "execution_count": 1,
   "id": "417b19b1",
   "metadata": {},
   "outputs": [],
   "source": [
    "import pandas as pd\n",
    "import requests\n",
    "import json\n",
    "import csv\n",
    "import time\n",
    "from collections import Counter\n",
    "import seaborn as sns\n",
    "import matplotlib.pyplot as plt\n",
    "import pandas_datareader as pdr\n",
    "import scipy"
   ]
  },
  {
   "cell_type": "code",
   "execution_count": 2,
   "id": "0325a5fa",
   "metadata": {},
   "outputs": [],
   "source": [
    "import pandas as pd\n",
    "import yfinance as yf\n",
    "\n",
    "#Achtung!\n",
    "from datetime import datetime\n",
    "import datetime as dt\n",
    "\n",
    "import time\n",
    "import requests\n",
    "import io\n",
    "import math\n",
    "from nltk.sentiment.vader import SentimentIntensityAnalyzer"
   ]
  },
  {
   "cell_type": "code",
   "execution_count": 3,
   "id": "bbc7f0da",
   "metadata": {},
   "outputs": [],
   "source": [
    "import nltk\n",
    "from nltk.corpus import stopwords\n",
    "import string"
   ]
  },
  {
   "cell_type": "code",
   "execution_count": 4,
   "id": "9ae6b02a",
   "metadata": {},
   "outputs": [],
   "source": [
    "import pandas as pd\n",
    "import numpy as np\n",
    "from sklearn import datasets, linear_model\n",
    "from sklearn.linear_model import LinearRegression\n",
    "import statsmodels.api as sm\n",
    "from scipy import stats"
   ]
  },
  {
   "cell_type": "code",
   "execution_count": 5,
   "id": "b3b58f9e",
   "metadata": {},
   "outputs": [],
   "source": [
    "from nltk.stem import WordNetLemmatizer, PorterStemmer\n",
    "\n",
    "lemmatizer = WordNetLemmatizer()"
   ]
  },
  {
   "cell_type": "code",
   "execution_count": 6,
   "id": "09d80fea",
   "metadata": {},
   "outputs": [],
   "source": [
    "from nltk.sentiment.vader import SentimentIntensityAnalyzer as SIA"
   ]
  },
  {
   "cell_type": "code",
   "execution_count": 86,
   "id": "1a6282b4",
   "metadata": {},
   "outputs": [],
   "source": [
    "plt.rcParams[\"figure.figsize\"] = (10,4)"
   ]
  },
  {
   "cell_type": "markdown",
   "id": "fb00c7f0",
   "metadata": {},
   "source": [
    "# Functions"
   ]
  },
  {
   "cell_type": "code",
   "execution_count": 8,
   "id": "9b07d43a",
   "metadata": {},
   "outputs": [],
   "source": [
    "def addDay(row):\n",
    "    day = row[\"Date\"]\n",
    "    date = datetime.strptime(day, '%Y-%m-%d') - dt.timedelta(days=1)\n",
    "    return str(date)[:-9]"
   ]
  },
  {
   "cell_type": "code",
   "execution_count": 9,
   "id": "1af7de68",
   "metadata": {},
   "outputs": [],
   "source": [
    "#conversts a datetime timestamp to a string in the format yyyy-mm-dd\n",
    "def timestamp_to_string(date):\n",
    "    return str(date)[:-9]"
   ]
  },
  {
   "cell_type": "code",
   "execution_count": 10,
   "id": "d09bd3e0",
   "metadata": {},
   "outputs": [],
   "source": [
    "# checks if words are in the body of a comment\n",
    "def check_for_words_comments(row, words):\n",
    "    text = row[\"body\"]\n",
    "    \n",
    "    for word in words:\n",
    "        if(type(text) == str and word in text):\n",
    "            return True\n",
    "        \n",
    "    return False"
   ]
  },
  {
   "cell_type": "code",
   "execution_count": 11,
   "id": "8ab651fa",
   "metadata": {},
   "outputs": [],
   "source": [
    "# converts a utc to a string in the format yyyy-mm-dd\n",
    "def utc_to_string(utc):\n",
    "    date = datetime.utcfromtimestamp(utc)\n",
    "    return str(date)[:-9]"
   ]
  },
  {
   "cell_type": "code",
   "execution_count": 12,
   "id": "317bf4b5",
   "metadata": {},
   "outputs": [],
   "source": [
    "# checks if any of the words in the words list are in the title or the body of a reddit post\n",
    "def check_for_words(row, words):\n",
    "    title = row[\"title\"]\n",
    "    text = row[\"selftext\"]\n",
    "    \n",
    "    for word in words:\n",
    "        if(word in title):\n",
    "            return True\n",
    "        if(type(text) == str and word in text):\n",
    "            return True\n",
    "        \n",
    "    return False"
   ]
  },
  {
   "cell_type": "code",
   "execution_count": 13,
   "id": "025ddf84",
   "metadata": {},
   "outputs": [],
   "source": [
    "# perpares text for text analysis\n",
    "stop_words = set(stopwords.words(\"english\"))\n",
    "def preprocess(raw_text):\n",
    "    text = raw_text.lower()\n",
    "    text = text.translate(str.maketrans(\"\", \"\", string.punctuation))\n",
    "    tokens = nltk.word_tokenize(text)\n",
    "    tokens = [w for w in tokens if not w in stop_words]\n",
    "    tokens = [w for w in tokens if not w.isdigit()]\n",
    "    tokens = [lemmatizer.lemmatize(word, pos = \"v\") for word in tokens]\n",
    "    return tokens"
   ]
  },
  {
   "cell_type": "code",
   "execution_count": 14,
   "id": "f474151a",
   "metadata": {},
   "outputs": [],
   "source": [
    "def preprocess_to_string(raw_text):\n",
    "    tokens = preprocess(raw_text)\n",
    "    return \" \".join(tokens)"
   ]
  },
  {
   "cell_type": "code",
   "execution_count": 15,
   "id": "9db9e0bd",
   "metadata": {},
   "outputs": [],
   "source": [
    "import math\n",
    "def take_log(x):\n",
    "    if(x > 0):\n",
    "        return math.log(x)\n",
    "    else:\n",
    "        return 0"
   ]
  },
  {
   "cell_type": "markdown",
   "id": "68bf25b0",
   "metadata": {},
   "source": [
    "# Importing Data"
   ]
  },
  {
   "cell_type": "markdown",
   "id": "fe9a02da",
   "metadata": {},
   "source": [
    "### WSB - Posts - All"
   ]
  },
  {
   "cell_type": "code",
   "execution_count": 16,
   "id": "b779bfef",
   "metadata": {},
   "outputs": [
    {
     "name": "stderr",
     "output_type": "stream",
     "text": [
      "C:\\Users\\paulr\\AppData\\Local\\Programs\\Python\\Python310\\lib\\site-packages\\IPython\\core\\interactiveshell.py:3361: DtypeWarning: Columns (4,68,75,77,79,82,83,84,85) have mixed types.Specify dtype option on import or set low_memory=False.\n",
      "  exec(code_obj, self.user_global_ns, self.user_ns)\n"
     ]
    }
   ],
   "source": [
    "df = pd.read_csv(\"./wsb_submissions.csv\")"
   ]
  },
  {
   "cell_type": "code",
   "execution_count": 17,
   "id": "d095072b",
   "metadata": {},
   "outputs": [],
   "source": [
    "df = df[df.num_comments >= 5]"
   ]
  },
  {
   "cell_type": "code",
   "execution_count": 18,
   "id": "bf282f59",
   "metadata": {},
   "outputs": [],
   "source": [
    "df = df[~df.title.isna()]"
   ]
  },
  {
   "cell_type": "code",
   "execution_count": 19,
   "id": "235ecd85",
   "metadata": {},
   "outputs": [],
   "source": [
    "df[\"Date\"] = df.created_utc.apply(lambda row: utc_to_string(row))"
   ]
  },
  {
   "cell_type": "code",
   "execution_count": 20,
   "id": "61aa0445",
   "metadata": {},
   "outputs": [],
   "source": [
    "df.title = df.title.apply(lambda x : preprocess_to_string(x))"
   ]
  },
  {
   "cell_type": "code",
   "execution_count": 21,
   "id": "78bc30da",
   "metadata": {},
   "outputs": [],
   "source": [
    "df.selftext = df.selftext.apply(lambda x : preprocess_to_string(x) if type(x) == str else x)"
   ]
  },
  {
   "cell_type": "code",
   "execution_count": 22,
   "id": "a7103413",
   "metadata": {},
   "outputs": [],
   "source": [
    "df = df.sort_values(\"Date\")"
   ]
  },
  {
   "cell_type": "code",
   "execution_count": 23,
   "id": "946d5d51",
   "metadata": {},
   "outputs": [],
   "source": [
    "wsb_data = df.copy()"
   ]
  },
  {
   "cell_type": "markdown",
   "id": "d4aa0798",
   "metadata": {},
   "source": [
    "### WSB - Posts - GME"
   ]
  },
  {
   "cell_type": "code",
   "execution_count": 24,
   "id": "db59b2ec",
   "metadata": {},
   "outputs": [],
   "source": [
    "df = wsb_data.copy()"
   ]
  },
  {
   "cell_type": "code",
   "execution_count": 25,
   "id": "6fcfa9f9",
   "metadata": {},
   "outputs": [],
   "source": [
    "words = [\"gme\", \"gamestop\", \"game stop\", \"gamestonks\", \"game stonks\"]\n",
    "\n",
    "df[\"contains_gme\"] = df.apply(lambda row : check_for_words(row, words), axis = 1)\n",
    "df = df[df[\"contains_gme\"]]"
   ]
  },
  {
   "cell_type": "code",
   "execution_count": 26,
   "id": "49313895",
   "metadata": {},
   "outputs": [],
   "source": [
    "wsb_gme_data = df.copy()"
   ]
  },
  {
   "cell_type": "markdown",
   "id": "f8608720",
   "metadata": {},
   "source": [
    "### WSB - Comments - ALL"
   ]
  },
  {
   "cell_type": "code",
   "execution_count": 27,
   "id": "ea322d47",
   "metadata": {},
   "outputs": [
    {
     "name": "stderr",
     "output_type": "stream",
     "text": [
      "C:\\Users\\paulr\\AppData\\Local\\Programs\\Python\\Python310\\lib\\site-packages\\IPython\\core\\interactiveshell.py:3361: DtypeWarning: Columns (4,37,38,39,40,42,46,47,48,50) have mixed types.Specify dtype option on import or set low_memory=False.\n",
      "  exec(code_obj, self.user_global_ns, self.user_ns)\n"
     ]
    }
   ],
   "source": [
    "df = pd.read_csv(\"./wsb_comments/c_wallstreetbets_full.csv\")"
   ]
  },
  {
   "cell_type": "code",
   "execution_count": 28,
   "id": "a1e4b7b6",
   "metadata": {},
   "outputs": [],
   "source": [
    "df = df[~df.body.isna()]"
   ]
  },
  {
   "cell_type": "code",
   "execution_count": 29,
   "id": "bb00f132",
   "metadata": {},
   "outputs": [],
   "source": [
    "df.body = df.body.apply(lambda x : preprocess_to_string(x) if type(x) == str else x)"
   ]
  },
  {
   "cell_type": "code",
   "execution_count": 30,
   "id": "304f58a9",
   "metadata": {},
   "outputs": [],
   "source": [
    "df[\"Date\"] = df.created_utc.apply(lambda row: utc_to_string(row))"
   ]
  },
  {
   "cell_type": "code",
   "execution_count": 31,
   "id": "a7d7b21d",
   "metadata": {},
   "outputs": [],
   "source": [
    "c_wsb_data = df.copy()"
   ]
  },
  {
   "cell_type": "markdown",
   "id": "fedb2d25",
   "metadata": {},
   "source": [
    "### WSB - Comments - GME"
   ]
  },
  {
   "cell_type": "code",
   "execution_count": 32,
   "id": "1f4e79b9",
   "metadata": {},
   "outputs": [],
   "source": [
    "df = c_wsb_data.copy()"
   ]
  },
  {
   "cell_type": "code",
   "execution_count": 33,
   "id": "7d17ca51",
   "metadata": {},
   "outputs": [],
   "source": [
    "words = [\"gme\", \"gamestop\", \"game stop\", \"gamestonks\", \"game stonks\"]\n",
    "\n",
    "df[\"contains_gme\"] = df.apply(lambda row : check_for_words_comments(row, words), axis = 1)\n",
    "df = df[df[\"contains_gme\"]]"
   ]
  },
  {
   "cell_type": "code",
   "execution_count": 34,
   "id": "148552bd",
   "metadata": {},
   "outputs": [],
   "source": [
    "c_wsb_gme_data = df.copy()"
   ]
  },
  {
   "cell_type": "markdown",
   "id": "8daf06d6",
   "metadata": {},
   "source": [
    "### Game Stop"
   ]
  },
  {
   "cell_type": "code",
   "execution_count": 188,
   "id": "07908dec",
   "metadata": {},
   "outputs": [],
   "source": [
    "ts = pdr.av.time_series.AVTimeSeriesReader('BB', api_key=\"L4AD6ZM4H22R60UI\")\n",
    "df = ts.read()\n",
    "df.index = pd.to_datetime(df.index, format='%Y-%m-%d')\n",
    "# plotting the opening and closing value \n",
    "#df[['open','close']].plot()"
   ]
  },
  {
   "cell_type": "code",
   "execution_count": 189,
   "id": "6a70f635",
   "metadata": {},
   "outputs": [],
   "source": [
    "df = df.reset_index()\n",
    "df = df.rename(columns = {\"index\":\"Date\"})"
   ]
  },
  {
   "cell_type": "code",
   "execution_count": 190,
   "id": "63f445b5",
   "metadata": {},
   "outputs": [],
   "source": [
    "df[\"Date\"] = df[\"Date\"].apply(lambda x : timestamp_to_string(x))"
   ]
  },
  {
   "cell_type": "code",
   "execution_count": 191,
   "id": "697328be",
   "metadata": {},
   "outputs": [
    {
     "name": "stderr",
     "output_type": "stream",
     "text": [
      "C:\\Users\\paulr\\AppData\\Local\\Temp\\ipykernel_23380\\3304754873.py:3: SettingWithCopyWarning: \n",
      "A value is trying to be set on a copy of a slice from a DataFrame\n",
      "\n",
      "See the caveats in the documentation: https://pandas.pydata.org/pandas-docs/stable/user_guide/indexing.html#returning-a-view-versus-a-copy\n",
      "  df[\"return\"][i] = df[\"close\"][i+1] / df[\"close\"][i] - 1.0\n"
     ]
    }
   ],
   "source": [
    "df[\"return\"] = df.apply(lambda x : 0.0, axis = 1)\n",
    "for i in range(0, len(df)-1):\n",
    "    df[\"return\"][i] = df[\"close\"][i+1] / df[\"close\"][i] - 1.0"
   ]
  },
  {
   "cell_type": "code",
   "execution_count": 192,
   "id": "e79b379e",
   "metadata": {},
   "outputs": [],
   "source": [
    "gme_data = df"
   ]
  },
  {
   "cell_type": "markdown",
   "id": "d40d6d04",
   "metadata": {},
   "source": [
    "# Building Data Sets"
   ]
  },
  {
   "cell_type": "markdown",
   "id": "75642160",
   "metadata": {},
   "source": [
    "### WSB - Post bullish/bearish senitment"
   ]
  },
  {
   "cell_type": "code",
   "execution_count": 40,
   "id": "13915890",
   "metadata": {},
   "outputs": [],
   "source": [
    "# Credit: https://medium.com/nerd-for-tech/wallstreetbets-sentiment-analysis-on-stock-prices-using-natural-language-processing-ed1e9e109a37\n",
    "blacklist = {'I', 'ELON', 'WSB', 'THE', 'A', 'ROPE', 'YOLO', 'TOS', 'CEO', 'DD', 'IT', 'OPEN', 'ATH', 'PM', 'IRS', 'FOR','DEC', 'BE', 'IMO', 'ALL', 'RH', 'EV', 'TOS', 'CFO', 'CTO', 'DD', 'BTFD', 'WSB', 'OK', 'PDT', 'RH', 'KYS', 'FD', 'TYS', 'US', 'USA', 'IT', 'ATH', 'RIP', 'BMW', 'GDP', 'OTM', 'ATM', 'ITM', 'IMO', 'LOL', 'AM', 'BE', 'PR', 'PRAY', 'PT', 'FBI', 'SEC', 'GOD', 'NOT', 'POS', 'FOMO', 'TL;DR', 'EDIT', 'STILL', 'WTF', 'RAW', 'PM', 'LMAO', 'LMFAO', 'ROFL', 'EZ', 'RED', 'BEZOS', 'TICK', 'IS', 'PM', 'LPT', 'GOAT', 'FL', 'CA', 'IL', 'MACD', 'HQ', 'OP', 'PS', 'AH', 'TL', 'JAN', 'FEB', 'JUL', 'AUG', 'SEP', 'SEPT', 'OCT', 'NOV', 'FDA', 'IV', 'ER', 'IPO', 'MILF', 'BUT', 'SSN', 'FIFA', 'USD', 'CPU', 'AT', 'GG', 'Mar'}\n",
    "\n",
    "# Adding wsb/reddit flavor to vader to improve sentiment analysis, score: 4.0 to -4.0\n",
    "new_words = {'citron': -4.0,      'hidenburg': -4.0,            'moon': 4.0,    'highs': 2.0,    'mooning': 4.0,    'long': 2.0,    'short': -2.0,    'call': 4.0,    'calls': 4.0,        'put': -4.0,    'puts': -4.0,        'break': 2.0,    'tendie': 2.0,     'tendies': 2.0,     'town': 2.0,          'overvalued': -3.0,     'undervalued': 3.0,     'buy': 4.0,     'sell': -4.0,     'gone': -1.0,     'gtfo': -1.7,     'paper': -1.7,     'bullish': 3.7,     'bearish': -3.7,'bagholder': -1.7,'stonk': 1.9,     'green': 1.9,     'money': 1.2,     'print': 2.2,     'rocket': 2.2,     'bull': 2.9,     'bear': -2.9,     'pumping': -1.0,     'sus': -3.0,     'offering': -2.3,     'rip': -4.0,     'downgrade': -3.0,     'upgrade': 3.0,          'maintain': 1.0,               'pump': 1.9,     'hot': 1.5,     'drop': -2.5,     'rebound': 1.5,       'crack': 2.5,}"
   ]
  },
  {
   "cell_type": "code",
   "execution_count": 41,
   "id": "c2f4abce",
   "metadata": {},
   "outputs": [],
   "source": [
    "vader = SentimentIntensityAnalyzer()\n",
    "# adding custom words from data.py\n",
    "vader.lexicon.update(new_words)\n",
    "score = vader.polarity_scores(\"I am totlly bull on GME\")"
   ]
  },
  {
   "cell_type": "code",
   "execution_count": 42,
   "id": "8d8e56dd",
   "metadata": {},
   "outputs": [],
   "source": [
    "sent_dict = {}\n",
    "\n",
    "title_dict = {}\n",
    "text_dict = {}\n",
    "\n",
    "for index, row in wsb_gme_data.iterrows():\n",
    "    post_id = row[\"id\"]\n",
    "    \n",
    "    title_text = row[\"title\"]\n",
    "    post_text = row[\"selftext\"]\n",
    "    if(type(title_text) == str):\n",
    "        title_dict[post_id] = vader.polarity_scores(title_text)[\"compound\"]\n",
    "    \n",
    "    if(type(post_text) == str and post_text not in [\"[removed]\", \"[deleted]\"]):\n",
    "        text_dict[post_id] = vader.polarity_scores(post_text)[\"compound\"]"
   ]
  },
  {
   "cell_type": "code",
   "execution_count": 43,
   "id": "64e3e2e2",
   "metadata": {},
   "outputs": [],
   "source": [
    "wsb_gme_data[\"sentiment\"] = wsb_gme_data.id.apply(lambda x : title_dict[x])"
   ]
  },
  {
   "cell_type": "code",
   "execution_count": 44,
   "id": "fd125481",
   "metadata": {},
   "outputs": [],
   "source": [
    "gme_sentiment = wsb_gme_data.groupby(\"Date\")[\"sentiment\"].mean().reset_index()"
   ]
  },
  {
   "cell_type": "markdown",
   "id": "711f67d5",
   "metadata": {},
   "source": [
    "### count data sets"
   ]
  },
  {
   "cell_type": "code",
   "execution_count": 45,
   "id": "68664617",
   "metadata": {},
   "outputs": [],
   "source": [
    "wsb_count = wsb_data.groupby(\"Date\")[\"id\"].count().reset_index().rename(columns={\"id\":\"count\"})\n",
    "wsb_gme_count = wsb_gme_data.groupby(\"Date\")[\"id\"].count().reset_index().rename(columns={\"id\":\"count\"})\n",
    "wsb_nan_count = wsb_data[wsb_data.selftext.isna()].groupby(\"Date\")[\"id\"].count().reset_index().rename(columns={\"id\":\"count\"})\n",
    "c_wsb_count = c_wsb_data.groupby(\"Date\")[\"id\"].count().reset_index().rename(columns={\"id\":\"count\"})\n",
    "c_wsb_gme_count = c_wsb_gme_data.groupby(\"Date\")[\"id\"].count().reset_index().rename(columns={\"id\":\"count\"})"
   ]
  },
  {
   "cell_type": "markdown",
   "id": "1aef0736",
   "metadata": {},
   "source": [
    "### New Users posting"
   ]
  },
  {
   "cell_type": "code",
   "execution_count": 46,
   "id": "4084b687",
   "metadata": {},
   "outputs": [],
   "source": [
    "gme_df = gme_data.copy()\n",
    "wsb_df = wsb_gme_data.copy()"
   ]
  },
  {
   "cell_type": "code",
   "execution_count": 47,
   "id": "9ec34180",
   "metadata": {},
   "outputs": [],
   "source": [
    "wsb_df = wsb_df[wsb_df[\"Date\"] >= \"2021-01-01\"]\n",
    "wsb_df = wsb_df[wsb_df[\"Date\"] <= \"2022-01-01\"]"
   ]
  },
  {
   "cell_type": "code",
   "execution_count": 48,
   "id": "9430fd8c",
   "metadata": {
    "scrolled": true
   },
   "outputs": [
    {
     "name": "stdout",
     "output_type": "stream",
     "text": [
      "2021-01-01\n",
      "2021-01-02\n",
      "2021-01-03\n",
      "2021-01-04\n",
      "2021-01-05\n",
      "2021-01-06\n",
      "2021-01-07\n",
      "2021-01-08\n",
      "2021-01-09\n",
      "2021-01-10\n",
      "2021-01-11\n",
      "2021-01-12\n",
      "2021-01-13\n",
      "2021-01-14\n",
      "2021-01-15\n",
      "2021-01-16\n",
      "2021-01-17\n",
      "2021-01-18\n",
      "2021-01-19\n",
      "2021-01-20\n",
      "2021-01-21\n",
      "2021-01-22\n",
      "2021-01-23\n",
      "2021-01-24\n",
      "2021-01-25\n",
      "2021-01-26\n",
      "2021-01-27\n",
      "2021-01-28\n",
      "2021-01-29\n",
      "2021-01-30\n",
      "2021-01-31\n",
      "2021-02-01\n",
      "2021-02-02\n",
      "2021-02-03\n",
      "2021-02-04\n",
      "2021-02-07\n",
      "2021-02-08\n",
      "2021-02-09\n",
      "2021-02-10\n",
      "2021-02-11\n",
      "2021-02-12\n",
      "2021-02-13\n",
      "2021-02-14\n",
      "2021-02-15\n",
      "2021-02-16\n",
      "2021-02-17\n",
      "2021-02-18\n",
      "2021-02-19\n",
      "2021-02-20\n",
      "2021-02-21\n",
      "2021-02-22\n",
      "2021-02-23\n",
      "2021-02-24\n",
      "2021-02-25\n",
      "2021-02-26\n",
      "2021-02-27\n",
      "2021-02-28\n",
      "2021-03-02\n",
      "2021-03-03\n",
      "2021-03-04\n",
      "2021-03-05\n",
      "2021-03-07\n",
      "2021-03-08\n",
      "2021-03-09\n",
      "2021-03-10\n",
      "2021-03-11\n",
      "2021-03-12\n",
      "2021-03-13\n",
      "2021-03-14\n",
      "2021-03-15\n",
      "2021-03-16\n",
      "2021-03-17\n",
      "2021-03-27\n",
      "2021-03-28\n",
      "2021-03-29\n",
      "2021-03-30\n",
      "2021-03-31\n"
     ]
    }
   ],
   "source": [
    "dates = wsb_df[\"Date\"].unique()\n",
    "all_authors = {}\n",
    "dates_dict = {}\n",
    "\n",
    "for d in dates:\n",
    "    counter = 0\n",
    "    for index, row in wsb_df.iterrows():\n",
    "        \n",
    "        author = row[\"author\"]\n",
    "        date = row[\"Date\"]\n",
    "        if date == d:\n",
    "            if author not in all_authors:\n",
    "                all_authors[author] = 1\n",
    "                counter += 1\n",
    "        \n",
    "    dates_dict[d] = counter\n",
    "    print(d)"
   ]
  },
  {
   "cell_type": "code",
   "execution_count": 49,
   "id": "e7a2aaf2",
   "metadata": {},
   "outputs": [],
   "source": [
    "df = pd.DataFrame()\n",
    "for date in dates:\n",
    "    day = {}\n",
    "    day[\"Date\"] = date\n",
    "    day[\"new\"] = dates_dict[date]\n",
    "    df = df.append(day, ignore_index=True)"
   ]
  },
  {
   "cell_type": "code",
   "execution_count": 50,
   "id": "55eb9ba8",
   "metadata": {},
   "outputs": [],
   "source": [
    "wsb_new_users = df.copy()"
   ]
  },
  {
   "cell_type": "markdown",
   "id": "a26f2b85",
   "metadata": {},
   "source": [
    "# Analysis"
   ]
  },
  {
   "cell_type": "markdown",
   "id": "86677eb8",
   "metadata": {},
   "source": [
    "## General Overview"
   ]
  },
  {
   "cell_type": "markdown",
   "id": "a7be190e",
   "metadata": {},
   "source": [
    "### Game Stop - Overview"
   ]
  },
  {
   "cell_type": "code",
   "execution_count": 257,
   "id": "38e179aa",
   "metadata": {},
   "outputs": [],
   "source": [
    "gme_df = gme_data.copy()"
   ]
  },
  {
   "cell_type": "code",
   "execution_count": 258,
   "id": "7c4fb636",
   "metadata": {},
   "outputs": [],
   "source": [
    "gme_df = gme_df[gme_df[\"Date\"] >= \"2020-01-01\"]\n",
    "gme_df = gme_df[gme_df[\"Date\"] <= \"2022-01-01\"]"
   ]
  },
  {
   "cell_type": "code",
   "execution_count": 255,
   "id": "a6087d7c",
   "metadata": {},
   "outputs": [],
   "source": [
    "gme_df[\"volume\"] = gme_df[\"volume\"].apply(lambda x : (x) * 100)"
   ]
  },
  {
   "cell_type": "code",
   "execution_count": 259,
   "id": "adbc9826",
   "metadata": {},
   "outputs": [
    {
     "data": {
      "text/plain": [
       "<AxesSubplot:xlabel='Date'>"
      ]
     },
     "execution_count": 259,
     "metadata": {},
     "output_type": "execute_result"
    },
    {
     "data": {
      "image/png": "[encoded data removed]",
      "text/plain": [
       "<Figure size 1152x288 with 1 Axes>"
      ]
     },
     "metadata": {
      "needs_background": "light"
     },
     "output_type": "display_data"
    }
   ],
   "source": [
    "gme_df.groupby(\"Date\")[\"close\"].sum().plot(figsize=(16,4))\n",
    "gme_df.groupby(\"Date\")[\"volume\"].sum().plot(figsize=(16,4))"
   ]
  },
  {
   "cell_type": "code",
   "execution_count": 261,
   "id": "ef41bda2",
   "metadata": {},
   "outputs": [
    {
     "data": {
      "image/png": "[encoded data removed]",
      "text/plain": [
       "<Figure size 1152x288 with 1 Axes>"
      ]
     },
     "metadata": {
      "needs_background": "light"
     },
     "output_type": "display_data"
    },
    {
     "data": {
      "image/png": "[encoded data removed]",
      "text/plain": [
       "<Figure size 1152x288 with 1 Axes>"
      ]
     },
     "metadata": {
      "needs_background": "light"
     },
     "output_type": "display_data"
    },
    {
     "data": {
      "image/png": "[encoded data removed]",
      "text/plain": [
       "<Figure size 1152x288 with 1 Axes>"
      ]
     },
     "metadata": {
      "needs_background": "light"
     },
     "output_type": "display_data"
    }
   ],
   "source": [
    "a = gme_df.groupby(\"Date\")[\"volume\"].sum().plot(figsize=(16,4))\n",
    "plt.xlabel('Time') \n",
    "plt.ylabel('Volume') \n",
    "plt.title(\"GME Trading Volume\")\n",
    "plt.show()\n",
    "gme_df.groupby(\"Date\")[\"close\"].sum().plot(figsize=(16,4), color = \"red\")\n",
    "plt.xlabel('Time') \n",
    "plt.ylabel('Price') \n",
    "plt.title(\"GME Stock Price\")\n",
    "plt.show()\n",
    "gme_df.groupby(\"Date\")[\"return\"].sum().plot(figsize=(16,4))\n",
    "plt.xlabel('Time') \n",
    "plt.ylabel('return') \n",
    "plt.title(\"GME One Day Return\")\n",
    "plt.show()"
   ]
  },
  {
   "cell_type": "markdown",
   "id": "75940532",
   "metadata": {},
   "source": [
    "### Wall Street Bets - Overview"
   ]
  },
  {
   "cell_type": "code",
   "execution_count": 196,
   "id": "dc8bfa05",
   "metadata": {},
   "outputs": [
    {
     "data": {
      "image/png": "[encoded data removed]",
      "text/plain": [
       "<Figure size 1152x288 with 1 Axes>"
      ]
     },
     "metadata": {
      "needs_background": "light"
     },
     "output_type": "display_data"
    },
    {
     "data": {
      "image/png": "[encoded data removed]",
      "text/plain": [
       "<Figure size 1152x288 with 1 Axes>"
      ]
     },
     "metadata": {
      "needs_background": "light"
     },
     "output_type": "display_data"
    }
   ],
   "source": [
    "wsb_data.groupby(\"Date\")[\"id\"].count().plot(figsize=(16,4))\n",
    "plt.xlabel('Time') \n",
    "plt.ylabel('num. Posts') \n",
    "plt.title(\"WSB Number of Posts\")\n",
    "plt.show()\n",
    "c_wsb_data.groupby(\"Date\")[\"id\"].count().plot(figsize=(16,4))\n",
    "plt.xlabel('Time') \n",
    "plt.ylabel('num. Comments') \n",
    "plt.title(\"WSB Number of Comments\")\n",
    "plt.show()"
   ]
  },
  {
   "cell_type": "code",
   "execution_count": 197,
   "id": "474eb3e4",
   "metadata": {},
   "outputs": [
    {
     "data": {
      "text/plain": [
       "Text(0.5, 1.0, 'GME Sentiment of Posts')"
      ]
     },
     "execution_count": 197,
     "metadata": {},
     "output_type": "execute_result"
    },
    {
     "data": {
      "image/png": "[encoded data removed]",
      "text/plain": [
       "<Figure size 1152x288 with 1 Axes>"
      ]
     },
     "metadata": {
      "needs_background": "light"
     },
     "output_type": "display_data"
    }
   ],
   "source": [
    "gme_sentiment.groupby(\"Date\")[\"sentiment\"].sum().plot(figsize=(16,4))\n",
    "plt.xlabel('Time') \n",
    "plt.ylabel('sentiment score') \n",
    "plt.title(\"GME Sentiment of Posts\")"
   ]
  },
  {
   "cell_type": "markdown",
   "id": "ed9c9fcf",
   "metadata": {},
   "source": [
    "#### show topic distribution"
   ]
  },
  {
   "cell_type": "code",
   "execution_count": 198,
   "id": "437ff6a5",
   "metadata": {},
   "outputs": [],
   "source": [
    "merge = wsb_count.merge(wsb_gme_count, left_on=\"Date\", right_on=\"Date\")#.merge(c_wsb_nan_count, left_on=\"Date\", right_on=\"Date\")\n",
    "merge[\"ratio_gme\"] = merge.apply(lambda row: row[\"count_y\"]/row[\"count_x\"], axis=1)\n",
    "#merge[\"ratio_nan\"] = merge.apply(lambda row: 1 - row[\"count\"]/row[\"count_x\"], axis=1)\n",
    "merge[\"one\"] = merge.Date.apply(lambda row: 1.0)"
   ]
  },
  {
   "cell_type": "code",
   "execution_count": 199,
   "id": "544e4743",
   "metadata": {},
   "outputs": [
    {
     "name": "stdout",
     "output_type": "stream",
     "text": [
      "ratio of posts that deal with gme\n"
     ]
    },
    {
     "data": {
      "text/plain": [
       "<matplotlib.collections.PolyCollection at 0x1865602e1d0>"
      ]
     },
     "execution_count": 199,
     "metadata": {},
     "output_type": "execute_result"
    },
    {
     "data": {
      "image/png": "[encoded data removed]",
      "text/plain": [
       "<Figure size 720x288 with 1 Axes>"
      ]
     },
     "metadata": {
      "needs_background": "light"
     },
     "output_type": "display_data"
    }
   ],
   "source": [
    "dates = merge[\"Date\"].tolist()\n",
    "ratio_gme = merge[\"ratio_gme\"].tolist()\n",
    "#ratio_nan = merge[\"ratio_nan\"].tolist()\n",
    "one = merge[\"one\"].tolist()\n",
    "\n",
    "print(\"ratio of posts that deal with gme\")\n",
    "plt.plot(dates, one)\n",
    "plt.plot(dates, ratio_gme,color=\"white\")\n",
    "plt.fill_between(dates, one)\n",
    "plt.fill_between(dates, ratio_gme,color=\"white\")"
   ]
  },
  {
   "cell_type": "markdown",
   "id": "1382b2c2",
   "metadata": {},
   "source": [
    "# Statistical Significance"
   ]
  },
  {
   "cell_type": "markdown",
   "id": "40e18e63",
   "metadata": {},
   "source": [
    "### 1. new Users on WSB"
   ]
  },
  {
   "cell_type": "markdown",
   "id": "ee4d8533",
   "metadata": {},
   "source": [
    "$Trading Volume_{T+2} = \\beta_0 + \\beta_1 New Users_T + \\epsilon$"
   ]
  },
  {
   "cell_type": "code",
   "execution_count": 200,
   "id": "ce58408d",
   "metadata": {},
   "outputs": [],
   "source": [
    "df_gme = gme_data.copy()\n",
    "df_new = wsb_new_users.copy()\n",
    "df_sentiment = gme_sentiment.copy()"
   ]
  },
  {
   "cell_type": "code",
   "execution_count": 201,
   "id": "7751bb3c",
   "metadata": {
    "scrolled": true
   },
   "outputs": [],
   "source": [
    "# um ein tag verschieben\n",
    "#df_new[\"Date\"] = df_new.apply(lambda row : addDay(row), axis = 1)\n",
    "df_new[\"Date\"] = df_new.apply(lambda row : addDay(row), axis = 1)"
   ]
  },
  {
   "cell_type": "code",
   "execution_count": 202,
   "id": "85ad3901",
   "metadata": {},
   "outputs": [],
   "source": [
    "merge = df_gme.merge(df_new).merge(df_sentiment)"
   ]
  },
  {
   "cell_type": "code",
   "execution_count": 203,
   "id": "e0c8f29b",
   "metadata": {},
   "outputs": [],
   "source": [
    "merge[\"new\"] = np.log(merge[\"new\"])"
   ]
  },
  {
   "cell_type": "code",
   "execution_count": 204,
   "id": "cf5bc097",
   "metadata": {
    "scrolled": true
   },
   "outputs": [],
   "source": [
    "#merge[\"volume\"] = np.log(merge[\"volume\"])\n",
    "#merge[\"close\"] = np.log(merge[\"close\"])\n",
    "#visualize:\n",
    "#mu, sigma = scipy.stats.norm.fit(data)\n",
    "#best_fit_line = scipy.stats.norm.pdf(bins, mu, sigma)\n",
    "#plt.plot(bins, best_fit_line)"
   ]
  },
  {
   "cell_type": "code",
   "execution_count": 205,
   "id": "c4a2c927",
   "metadata": {},
   "outputs": [],
   "source": [
    "merge = merge[merge[\"Date\"] >= \"2021-01-01\"]\n",
    "merge = merge[merge[\"Date\"] <= \"2021-02-15\"]"
   ]
  },
  {
   "cell_type": "code",
   "execution_count": 206,
   "id": "6beb281a",
   "metadata": {},
   "outputs": [],
   "source": [
    "merge[\"volume\"] = merge[\"volume\"].apply(lambda x : x-1)\n",
    "#merge[\"new\"] = merge[\"new\"].apply(lambda x : x)"
   ]
  },
  {
   "cell_type": "code",
   "execution_count": 207,
   "id": "c538e9b6",
   "metadata": {},
   "outputs": [
    {
     "name": "stdout",
     "output_type": "stream",
     "text": [
      "                            OLS Regression Results                            \n",
      "==============================================================================\n",
      "Dep. Variable:                 volume   R-squared:                       0.212\n",
      "Model:                            OLS   Adj. R-squared:                  0.180\n",
      "Method:                 Least Squares   F-statistic:                     6.718\n",
      "Date:                Tue, 19 Jul 2022   Prob (F-statistic):             0.0157\n",
      "Time:                        17:38:27   Log-Likelihood:                -532.36\n",
      "No. Observations:                  27   AIC:                             1069.\n",
      "Df Residuals:                      25   BIC:                             1071.\n",
      "Df Model:                           1                                         \n",
      "Covariance Type:            nonrobust                                         \n",
      "==============================================================================\n",
      "                 coef    std err          t      P>|t|      [0.025      0.975]\n",
      "------------------------------------------------------------------------------\n",
      "const      -5.143e+07   5.63e+07     -0.914      0.370   -1.67e+08    6.45e+07\n",
      "new         2.796e+07   1.08e+07      2.592      0.016    5.74e+06    5.02e+07\n",
      "==============================================================================\n",
      "Omnibus:                       28.810   Durbin-Watson:                   1.241\n",
      "Prob(Omnibus):                  0.000   Jarque-Bera (JB):               57.092\n",
      "Skew:                           2.231   Prob(JB):                     4.01e-13\n",
      "Kurtosis:                       8.554   Cond. No.                         17.2\n",
      "==============================================================================\n",
      "\n",
      "Notes:\n",
      "[1] Standard Errors assume that the covariance matrix of the errors is correctly specified.\n"
     ]
    }
   ],
   "source": [
    "X = merge[\"new\"]\n",
    "y = merge[\"volume\"]\n",
    "\n",
    "X2 = sm.add_constant(X)\n",
    "est = sm.OLS(y, X2)\n",
    "est2 = est.fit()\n",
    "print(est2.summary())\n",
    "#est2.pvalues.new"
   ]
  },
  {
   "cell_type": "code",
   "execution_count": 208,
   "id": "29ac7ee9",
   "metadata": {
    "scrolled": true
   },
   "outputs": [
    {
     "data": {
      "text/plain": [
       "<AxesSubplot:>"
      ]
     },
     "execution_count": 208,
     "metadata": {},
     "output_type": "execute_result"
    },
    {
     "data": {
      "image/png": "[encoded data removed]",
      "text/plain": [
       "<Figure size 1152x288 with 1 Axes>"
      ]
     },
     "metadata": {
      "needs_background": "light"
     },
     "output_type": "display_data"
    }
   ],
   "source": [
    "merge[\"new\"].plot(figsize=(16,4))\n",
    "merge[\"volume\"].plot(figsize=(16,4))\n",
    "#merge[\"return\"].plot(figsize=(16,4))\n",
    "#merge[\"return\"].plot(figsize=(16,4))"
   ]
  },
  {
   "cell_type": "code",
   "execution_count": 209,
   "id": "357a89c9",
   "metadata": {},
   "outputs": [
    {
     "data": {
      "text/plain": [
       "[<matplotlib.lines.Line2D at 0x186a308a320>]"
      ]
     },
     "execution_count": 209,
     "metadata": {},
     "output_type": "execute_result"
    },
    {
     "data": {
      "image/png": "[encoded data removed]",
      "text/plain": [
       "<Figure size 720x288 with 1 Axes>"
      ]
     },
     "metadata": {
      "needs_background": "light"
     },
     "output_type": "display_data"
    }
   ],
   "source": [
    "x = np.array(merge[\"new\"])\n",
    "y = np.array(merge[\"volume\"])\n",
    "a, b = np.polyfit(x, y, 1)\n",
    "plt.scatter(x, y)\n",
    "plt.plot(x, est2.params.new*x+est2.params.const) "
   ]
  },
  {
   "cell_type": "markdown",
   "id": "388a0654",
   "metadata": {},
   "source": [
    "### 2. relative Frequency"
   ]
  },
  {
   "cell_type": "code",
   "execution_count": 222,
   "id": "cc95ae8f",
   "metadata": {},
   "outputs": [],
   "source": [
    "words = [\"short squeeze\"]"
   ]
  },
  {
   "cell_type": "code",
   "execution_count": 223,
   "id": "4a7c1639",
   "metadata": {},
   "outputs": [],
   "source": [
    "gme_df = gme_data.copy()\n",
    "wsb_df = wsb_gme_data.copy()"
   ]
  },
  {
   "cell_type": "code",
   "execution_count": 224,
   "id": "994afec8",
   "metadata": {},
   "outputs": [],
   "source": [
    "dates = wsb_df[\"Date\"].unique()\n",
    "freq_dict = {}\n",
    "total_count = {}\n",
    "\n",
    "for date in dates:\n",
    "    total_count[date] = 0\n",
    "    freq_dict[date] = {}\n",
    "    for word in words:\n",
    "        freq_dict[date][word] = 0\n",
    "    \n",
    "\n",
    "for index, row in wsb_df.iterrows():\n",
    "    title = row[\"title\"]\n",
    "    text = row[\"selftext\"]\n",
    "    date = row[\"Date\"]\n",
    "    \n",
    "    total_count[date] +=1.\n",
    "    \n",
    "    for word in words:\n",
    "        if word in title:\n",
    "            freq_dict[date][word] += 1\n",
    "        elif type(text) == str and word in text:\n",
    "            freq_dict[date][word] += 1\n",
    "\n",
    "for date in dates:\n",
    "    for word in words:\n",
    "        freq_dict[date][word] /= total_count[date]"
   ]
  },
  {
   "cell_type": "code",
   "execution_count": 225,
   "id": "cae57bd3",
   "metadata": {},
   "outputs": [],
   "source": [
    "final = pd.DataFrame()\n",
    "\n",
    "for date in dates:\n",
    "    day = {}\n",
    "    day[\"Date\"] = date\n",
    "    \n",
    "    for word in words:\n",
    "        day[word] = freq_dict[date][word]\n",
    "    \n",
    "    final = final.append(day, ignore_index=True)"
   ]
  },
  {
   "cell_type": "code",
   "execution_count": 226,
   "id": "9940199b",
   "metadata": {},
   "outputs": [],
   "source": [
    "final[\"Date\"] = final.apply(lambda row : addDay(row), axis = 1)"
   ]
  },
  {
   "cell_type": "code",
   "execution_count": 227,
   "id": "1bbaf7d9",
   "metadata": {},
   "outputs": [],
   "source": [
    "merge = gme_data.merge(final)"
   ]
  },
  {
   "cell_type": "code",
   "execution_count": 228,
   "id": "c611e5da",
   "metadata": {},
   "outputs": [],
   "source": [
    "merge[\"close\"] = merge[\"close\"].apply(lambda x : x/1000)"
   ]
  },
  {
   "cell_type": "code",
   "execution_count": 229,
   "id": "9e96f9cd",
   "metadata": {},
   "outputs": [],
   "source": [
    "merge[\"volume\"] = merge[\"volume\"].apply(lambda x : x/300000000)"
   ]
  },
  {
   "cell_type": "markdown",
   "id": "2a6e2dc4",
   "metadata": {},
   "source": [
    "##### log transform data"
   ]
  },
  {
   "cell_type": "code",
   "execution_count": 230,
   "id": "bb51d268",
   "metadata": {},
   "outputs": [],
   "source": [
    "merge[\"volume\"] = np.log(merge[\"volume\"])"
   ]
  },
  {
   "cell_type": "code",
   "execution_count": 231,
   "id": "fe1ea6b9",
   "metadata": {
    "collapsed": true
   },
   "outputs": [
    {
     "ename": "KeyError",
     "evalue": "'buy'",
     "output_type": "error",
     "traceback": [
      "\u001b[1;31m---------------------------------------------------------------------------\u001b[0m",
      "\u001b[1;31mKeyError\u001b[0m                                  Traceback (most recent call last)",
      "File \u001b[1;32m~\\AppData\\Local\\Programs\\Python\\Python310\\lib\\site-packages\\pandas\\core\\indexes\\base.py:3361\u001b[0m, in \u001b[0;36mIndex.get_loc\u001b[1;34m(self, key, method, tolerance)\u001b[0m\n\u001b[0;32m   3360\u001b[0m \u001b[38;5;28;01mtry\u001b[39;00m:\n\u001b[1;32m-> 3361\u001b[0m     \u001b[38;5;28;01mreturn\u001b[39;00m \u001b[38;5;28;43mself\u001b[39;49m\u001b[38;5;241;43m.\u001b[39;49m\u001b[43m_engine\u001b[49m\u001b[38;5;241;43m.\u001b[39;49m\u001b[43mget_loc\u001b[49m\u001b[43m(\u001b[49m\u001b[43mcasted_key\u001b[49m\u001b[43m)\u001b[49m\n\u001b[0;32m   3362\u001b[0m \u001b[38;5;28;01mexcept\u001b[39;00m \u001b[38;5;167;01mKeyError\u001b[39;00m \u001b[38;5;28;01mas\u001b[39;00m err:\n",
      "File \u001b[1;32m~\\AppData\\Local\\Programs\\Python\\Python310\\lib\\site-packages\\pandas\\_libs\\index.pyx:76\u001b[0m, in \u001b[0;36mpandas._libs.index.IndexEngine.get_loc\u001b[1;34m()\u001b[0m\n",
      "File \u001b[1;32m~\\AppData\\Local\\Programs\\Python\\Python310\\lib\\site-packages\\pandas\\_libs\\index.pyx:108\u001b[0m, in \u001b[0;36mpandas._libs.index.IndexEngine.get_loc\u001b[1;34m()\u001b[0m\n",
      "File \u001b[1;32mpandas\\_libs\\hashtable_class_helper.pxi:5198\u001b[0m, in \u001b[0;36mpandas._libs.hashtable.PyObjectHashTable.get_item\u001b[1;34m()\u001b[0m\n",
      "File \u001b[1;32mpandas\\_libs\\hashtable_class_helper.pxi:5206\u001b[0m, in \u001b[0;36mpandas._libs.hashtable.PyObjectHashTable.get_item\u001b[1;34m()\u001b[0m\n",
      "\u001b[1;31mKeyError\u001b[0m: 'buy'",
      "\nThe above exception was the direct cause of the following exception:\n",
      "\u001b[1;31mKeyError\u001b[0m                                  Traceback (most recent call last)",
      "Input \u001b[1;32mIn [231]\u001b[0m, in \u001b[0;36m<cell line: 1>\u001b[1;34m()\u001b[0m\n\u001b[1;32m----> 1\u001b[0m \u001b[43mmerge\u001b[49m\u001b[43m[\u001b[49m\u001b[38;5;124;43m\"\u001b[39;49m\u001b[38;5;124;43mbuy\u001b[39;49m\u001b[38;5;124;43m\"\u001b[39;49m\u001b[43m]\u001b[49m\u001b[38;5;241m.\u001b[39mhist()\n",
      "File \u001b[1;32m~\\AppData\\Local\\Programs\\Python\\Python310\\lib\\site-packages\\pandas\\core\\frame.py:3458\u001b[0m, in \u001b[0;36mDataFrame.__getitem__\u001b[1;34m(self, key)\u001b[0m\n\u001b[0;32m   3456\u001b[0m \u001b[38;5;28;01mif\u001b[39;00m \u001b[38;5;28mself\u001b[39m\u001b[38;5;241m.\u001b[39mcolumns\u001b[38;5;241m.\u001b[39mnlevels \u001b[38;5;241m>\u001b[39m \u001b[38;5;241m1\u001b[39m:\n\u001b[0;32m   3457\u001b[0m     \u001b[38;5;28;01mreturn\u001b[39;00m \u001b[38;5;28mself\u001b[39m\u001b[38;5;241m.\u001b[39m_getitem_multilevel(key)\n\u001b[1;32m-> 3458\u001b[0m indexer \u001b[38;5;241m=\u001b[39m \u001b[38;5;28;43mself\u001b[39;49m\u001b[38;5;241;43m.\u001b[39;49m\u001b[43mcolumns\u001b[49m\u001b[38;5;241;43m.\u001b[39;49m\u001b[43mget_loc\u001b[49m\u001b[43m(\u001b[49m\u001b[43mkey\u001b[49m\u001b[43m)\u001b[49m\n\u001b[0;32m   3459\u001b[0m \u001b[38;5;28;01mif\u001b[39;00m is_integer(indexer):\n\u001b[0;32m   3460\u001b[0m     indexer \u001b[38;5;241m=\u001b[39m [indexer]\n",
      "File \u001b[1;32m~\\AppData\\Local\\Programs\\Python\\Python310\\lib\\site-packages\\pandas\\core\\indexes\\base.py:3363\u001b[0m, in \u001b[0;36mIndex.get_loc\u001b[1;34m(self, key, method, tolerance)\u001b[0m\n\u001b[0;32m   3361\u001b[0m         \u001b[38;5;28;01mreturn\u001b[39;00m \u001b[38;5;28mself\u001b[39m\u001b[38;5;241m.\u001b[39m_engine\u001b[38;5;241m.\u001b[39mget_loc(casted_key)\n\u001b[0;32m   3362\u001b[0m     \u001b[38;5;28;01mexcept\u001b[39;00m \u001b[38;5;167;01mKeyError\u001b[39;00m \u001b[38;5;28;01mas\u001b[39;00m err:\n\u001b[1;32m-> 3363\u001b[0m         \u001b[38;5;28;01mraise\u001b[39;00m \u001b[38;5;167;01mKeyError\u001b[39;00m(key) \u001b[38;5;28;01mfrom\u001b[39;00m \u001b[38;5;21;01merr\u001b[39;00m\n\u001b[0;32m   3365\u001b[0m \u001b[38;5;28;01mif\u001b[39;00m is_scalar(key) \u001b[38;5;129;01mand\u001b[39;00m isna(key) \u001b[38;5;129;01mand\u001b[39;00m \u001b[38;5;129;01mnot\u001b[39;00m \u001b[38;5;28mself\u001b[39m\u001b[38;5;241m.\u001b[39mhasnans:\n\u001b[0;32m   3366\u001b[0m     \u001b[38;5;28;01mraise\u001b[39;00m \u001b[38;5;167;01mKeyError\u001b[39;00m(key)\n",
      "\u001b[1;31mKeyError\u001b[0m: 'buy'"
     ]
    }
   ],
   "source": [
    "merge[\"buy\"].hist()"
   ]
  },
  {
   "cell_type": "code",
   "execution_count": 232,
   "id": "21757de4",
   "metadata": {},
   "outputs": [],
   "source": [
    "merge = merge[merge[\"Date\"] >= \"2021-01-10\"]\n",
    "merge = merge[merge[\"Date\"] <= \"2021-02-15\"]"
   ]
  },
  {
   "cell_type": "code",
   "execution_count": 235,
   "id": "56419151",
   "metadata": {},
   "outputs": [
    {
     "data": {
      "text/plain": [
       "<AxesSubplot:xlabel='Date'>"
      ]
     },
     "execution_count": 235,
     "metadata": {},
     "output_type": "execute_result"
    },
    {
     "data": {
      "image/png": "[encoded data removed]",
      "text/plain": [
       "<Figure size 1152x288 with 1 Axes>"
      ]
     },
     "metadata": {
      "needs_background": "light"
     },
     "output_type": "display_data"
    }
   ],
   "source": [
    "merge.groupby(\"Date\")[\"short squeeze\"].sum().plot(figsize=(16,4))"
   ]
  },
  {
   "cell_type": "code",
   "execution_count": 233,
   "id": "47703f7f",
   "metadata": {
    "scrolled": false
   },
   "outputs": [
    {
     "data": {
      "image/png": "[encoded data removed]",
      "text/plain": [
       "<Figure size 1152x288 with 1 Axes>"
      ]
     },
     "metadata": {
      "needs_background": "light"
     },
     "output_type": "display_data"
    }
   ],
   "source": [
    "#merge[\"close\"].plot(figsize=(16,4))\n",
    "for word in words:\n",
    "    merge[word].plot(figsize=(16,4))"
   ]
  },
  {
   "cell_type": "code",
   "execution_count": 82,
   "id": "f7742e52",
   "metadata": {},
   "outputs": [
    {
     "name": "stdout",
     "output_type": "stream",
     "text": [
      "                            OLS Regression Results                            \n",
      "==============================================================================\n",
      "Dep. Variable:                 volume   R-squared:                       0.555\n",
      "Model:                            OLS   Adj. R-squared:                  0.151\n",
      "Method:                 Least Squares   F-statistic:                     1.373\n",
      "Date:                Tue, 19 Jul 2022   Prob (F-statistic):              0.305\n",
      "Time:                        16:43:10   Log-Likelihood:                -24.138\n",
      "No. Observations:                  22   AIC:                             70.28\n",
      "Df Residuals:                      11   BIC:                             82.28\n",
      "Df Model:                          10                                         \n",
      "Covariance Type:            nonrobust                                         \n",
      "=================================================================================\n",
      "                    coef    std err          t      P>|t|      [0.025      0.975]\n",
      "---------------------------------------------------------------------------------\n",
      "const            -6.4814      1.877     -3.452      0.005     -10.614      -2.349\n",
      "invest          -12.6551      5.882     -2.152      0.054     -25.601       0.290\n",
      "buy              10.9118      4.604      2.370      0.037       0.779      21.045\n",
      "sell              6.8537      7.714      0.889      0.393     -10.124      23.831\n",
      "short squeeze    -9.5608     21.714     -0.440      0.668     -57.354      38.232\n",
      "hold             -0.1790      5.060     -0.035      0.972     -11.317      10.959\n",
      "short            -0.5239      9.001     -0.058      0.955     -20.335      19.287\n",
      "squeeze           4.9046     20.454      0.240      0.815     -40.114      49.924\n",
      "moon             12.9645     10.371      1.250      0.237      -9.861      35.790\n",
      "bullish         -10.4164     19.950     -0.522      0.612     -54.325      33.492\n",
      "yolo              9.6960     13.690      0.708      0.494     -20.435      39.827\n",
      "==============================================================================\n",
      "Omnibus:                        0.168   Durbin-Watson:                   1.501\n",
      "Prob(Omnibus):                  0.919   Jarque-Bera (JB):                0.019\n",
      "Skew:                          -0.020   Prob(JB):                        0.991\n",
      "Kurtosis:                       2.863   Cond. No.                         178.\n",
      "==============================================================================\n",
      "\n",
      "Notes:\n",
      "[1] Standard Errors assume that the covariance matrix of the errors is correctly specified.\n"
     ]
    }
   ],
   "source": [
    "X = merge[words]\n",
    "y = merge[\"volume\"]\n",
    "\n",
    "X2 = sm.add_constant(X)\n",
    "est = sm.OLS(y, X2)\n",
    "est2 = est.fit()\n",
    "print(est2.summary())\n"
   ]
  },
  {
   "cell_type": "code",
   "execution_count": 83,
   "id": "f157b56f",
   "metadata": {},
   "outputs": [
    {
     "name": "stdout",
     "output_type": "stream",
     "text": [
      "                            OLS Regression Results                            \n",
      "==============================================================================\n",
      "Dep. Variable:                 return   R-squared:                       0.617\n",
      "Model:                            OLS   Adj. R-squared:                  0.270\n",
      "Method:                 Least Squares   F-statistic:                     1.775\n",
      "Date:                Tue, 19 Jul 2022   Prob (F-statistic):              0.180\n",
      "Time:                        16:43:13   Log-Likelihood:                 20.216\n",
      "No. Observations:                  22   AIC:                            -18.43\n",
      "Df Residuals:                      11   BIC:                            -6.430\n",
      "Df Model:                          10                                         \n",
      "Covariance Type:            nonrobust                                         \n",
      "=================================================================================\n",
      "                    coef    std err          t      P>|t|      [0.025      0.975]\n",
      "---------------------------------------------------------------------------------\n",
      "const            -0.0731      0.250     -0.292      0.775      -0.623       0.477\n",
      "invest           -0.8005      0.783     -1.022      0.329      -2.525       0.924\n",
      "buy              -0.8806      0.613     -1.436      0.179      -2.230       0.469\n",
      "sell              0.2654      1.027      0.258      0.801      -1.996       2.526\n",
      "short squeeze    -2.3251      2.892     -0.804      0.438      -8.690       4.040\n",
      "hold              0.4660      0.674      0.692      0.504      -1.017       1.949\n",
      "short            -1.7984      1.199     -1.500      0.162      -4.437       0.840\n",
      "squeeze           3.6545      2.724      1.342      0.207      -2.341       9.650\n",
      "moon              2.5310      1.381      1.833      0.094      -0.509       5.571\n",
      "bullish          -0.5556      2.657     -0.209      0.838      -6.403       5.292\n",
      "yolo              2.3788      1.823      1.305      0.219      -1.634       6.392\n",
      "==============================================================================\n",
      "Omnibus:                       11.981   Durbin-Watson:                   2.882\n",
      "Prob(Omnibus):                  0.003   Jarque-Bera (JB):               10.222\n",
      "Skew:                           1.321   Prob(JB):                      0.00603\n",
      "Kurtosis:                       5.043   Cond. No.                         178.\n",
      "==============================================================================\n",
      "\n",
      "Notes:\n",
      "[1] Standard Errors assume that the covariance matrix of the errors is correctly specified.\n"
     ]
    }
   ],
   "source": [
    "X = merge[words]\n",
    "y = merge[\"return\"]\n",
    "\n",
    "X2 = sm.add_constant(X)\n",
    "est = sm.OLS(y, X2)\n",
    "est2 = est.fit()\n",
    "print(est2.summary())"
   ]
  },
  {
   "cell_type": "code",
   "execution_count": 84,
   "id": "6075a9c3",
   "metadata": {},
   "outputs": [
    {
     "name": "stdout",
     "output_type": "stream",
     "text": [
      "                            OLS Regression Results                            \n",
      "==============================================================================\n",
      "Dep. Variable:                  close   R-squared:                       0.646\n",
      "Model:                            OLS   Adj. R-squared:                  0.323\n",
      "Method:                 Least Squares   F-statistic:                     2.003\n",
      "Date:                Tue, 19 Jul 2022   Prob (F-statistic):              0.135\n",
      "Time:                        16:43:16   Log-Likelihood:                 102.30\n",
      "No. Observations:                  22   AIC:                            -182.6\n",
      "Df Residuals:                      11   BIC:                            -170.6\n",
      "Df Model:                          10                                         \n",
      "Covariance Type:            nonrobust                                         \n",
      "=================================================================================\n",
      "                    coef    std err          t      P>|t|      [0.025      0.975]\n",
      "---------------------------------------------------------------------------------\n",
      "const             0.0058      0.006      0.963      0.356      -0.007       0.019\n",
      "invest           -0.0098      0.019     -0.520      0.613      -0.051       0.032\n",
      "buy               0.0494      0.015      3.362      0.006       0.017       0.082\n",
      "sell             -0.0189      0.025     -0.766      0.460      -0.073       0.035\n",
      "short squeeze    -0.0127      0.069     -0.183      0.858      -0.165       0.140\n",
      "hold             -0.0077      0.016     -0.476      0.644      -0.043       0.028\n",
      "short            -0.0119      0.029     -0.414      0.686      -0.075       0.051\n",
      "squeeze           0.0172      0.065      0.263      0.797      -0.127       0.161\n",
      "moon             -0.0077      0.033     -0.231      0.821      -0.081       0.065\n",
      "bullish          -0.0942      0.064     -1.479      0.167      -0.234       0.046\n",
      "yolo              0.0375      0.044      0.858      0.409      -0.059       0.134\n",
      "==============================================================================\n",
      "Omnibus:                        0.715   Durbin-Watson:                   1.287\n",
      "Prob(Omnibus):                  0.699   Jarque-Bera (JB):                0.416\n",
      "Skew:                          -0.328   Prob(JB):                        0.812\n",
      "Kurtosis:                       2.845   Cond. No.                         178.\n",
      "==============================================================================\n",
      "\n",
      "Notes:\n",
      "[1] Standard Errors assume that the covariance matrix of the errors is correctly specified.\n"
     ]
    }
   ],
   "source": [
    "X = merge[words]\n",
    "y = merge[\"close\"]\n",
    "\n",
    "X2 = sm.add_constant(X)\n",
    "est = sm.OLS(y, X2)\n",
    "est2 = est.fit()\n",
    "print(est2.summary())\n"
   ]
  },
  {
   "cell_type": "code",
   "execution_count": 85,
   "id": "dad717c7",
   "metadata": {},
   "outputs": [
    {
     "data": {
      "text/plain": [
       "[<matplotlib.lines.Line2D at 0x1862bc11900>]"
      ]
     },
     "execution_count": 85,
     "metadata": {},
     "output_type": "execute_result"
    },
    {
     "data": {
      "image/png": "[encoded data removed]",
      "text/plain": [
       "<Figure size 1152x288 with 1 Axes>"
      ]
     },
     "metadata": {
      "needs_background": "light"
     },
     "output_type": "display_data"
    }
   ],
   "source": [
    "import numpy as np\n",
    "import matplotlib.pyplot as plt\n",
    "\n",
    "#define data\n",
    "x = np.array(merge[\"buy\"])\n",
    "y = np.array(merge[\"volume\"])\n",
    "\n",
    "#find line of best fit\n",
    "a, b = np.polyfit(x, y, 1)\n",
    "\n",
    "#add points to plot\n",
    "plt.scatter(x, y)\n",
    "\n",
    "#add line of best fit to plot\n",
    "plt.plot(x, a*x+b) "
   ]
  },
  {
   "cell_type": "markdown",
   "id": "4228c275",
   "metadata": {},
   "source": [
    "# Power Law"
   ]
  },
  {
   "cell_type": "code",
   "execution_count": 97,
   "id": "a1241203",
   "metadata": {},
   "outputs": [],
   "source": [
    "gme_data = wsb_gme_data.copy()"
   ]
  },
  {
   "cell_type": "code",
   "execution_count": 98,
   "id": "4c30fadf",
   "metadata": {},
   "outputs": [],
   "source": [
    "#gme_data = gme_data[gme_data.Date >= \"2021-01-15\"]\n",
    "#gme_data = gme_data[gme_data.Date <= \"2021-01-31\"]"
   ]
  },
  {
   "cell_type": "code",
   "execution_count": 99,
   "id": "804d326a",
   "metadata": {},
   "outputs": [],
   "source": [
    "comments_df = gme_data.groupby([\"Date\", \"author\"])[\"num_comments\"].sum().reset_index()"
   ]
  },
  {
   "cell_type": "code",
   "execution_count": 100,
   "id": "9ae79b5c",
   "metadata": {},
   "outputs": [
    {
     "data": {
      "text/html": [
       "<div>\n",
       "<style scoped>\n",
       "    .dataframe tbody tr th:only-of-type {\n",
       "        vertical-align: middle;\n",
       "    }\n",
       "\n",
       "    .dataframe tbody tr th {\n",
       "        vertical-align: top;\n",
       "    }\n",
       "\n",
       "    .dataframe thead th {\n",
       "        text-align: right;\n",
       "    }\n",
       "</style>\n",
       "<table border=\"1\" class=\"dataframe\">\n",
       "  <thead>\n",
       "    <tr style=\"text-align: right;\">\n",
       "      <th></th>\n",
       "      <th>Date</th>\n",
       "      <th>author</th>\n",
       "      <th>num_comments</th>\n",
       "    </tr>\n",
       "  </thead>\n",
       "  <tbody>\n",
       "    <tr>\n",
       "      <th>0</th>\n",
       "      <td>2020-11-30</td>\n",
       "      <td>Denvas4012</td>\n",
       "      <td>6</td>\n",
       "    </tr>\n",
       "    <tr>\n",
       "      <th>1</th>\n",
       "      <td>2020-11-30</td>\n",
       "      <td>LiberLilith</td>\n",
       "      <td>13</td>\n",
       "    </tr>\n",
       "    <tr>\n",
       "      <th>2</th>\n",
       "      <td>2020-11-30</td>\n",
       "      <td>applecees6</td>\n",
       "      <td>13</td>\n",
       "    </tr>\n",
       "    <tr>\n",
       "      <th>3</th>\n",
       "      <td>2020-11-30</td>\n",
       "      <td>encore2097</td>\n",
       "      <td>27</td>\n",
       "    </tr>\n",
       "    <tr>\n",
       "      <th>4</th>\n",
       "      <td>2020-11-30</td>\n",
       "      <td>ronoron</td>\n",
       "      <td>16</td>\n",
       "    </tr>\n",
       "    <tr>\n",
       "      <th>...</th>\n",
       "      <td>...</td>\n",
       "      <td>...</td>\n",
       "      <td>...</td>\n",
       "    </tr>\n",
       "    <tr>\n",
       "      <th>25042</th>\n",
       "      <td>2021-03-31</td>\n",
       "      <td>komoru-1</td>\n",
       "      <td>11</td>\n",
       "    </tr>\n",
       "    <tr>\n",
       "      <th>25043</th>\n",
       "      <td>2021-03-31</td>\n",
       "      <td>maksu22</td>\n",
       "      <td>48</td>\n",
       "    </tr>\n",
       "    <tr>\n",
       "      <th>25044</th>\n",
       "      <td>2021-03-31</td>\n",
       "      <td>nelwitch22</td>\n",
       "      <td>11</td>\n",
       "    </tr>\n",
       "    <tr>\n",
       "      <th>25045</th>\n",
       "      <td>2021-03-31</td>\n",
       "      <td>sundevilsucker</td>\n",
       "      <td>121</td>\n",
       "    </tr>\n",
       "    <tr>\n",
       "      <th>25046</th>\n",
       "      <td>2021-03-31</td>\n",
       "      <td>waleplay</td>\n",
       "      <td>9</td>\n",
       "    </tr>\n",
       "  </tbody>\n",
       "</table>\n",
       "<p>25047 rows × 3 columns</p>\n",
       "</div>"
      ],
      "text/plain": [
       "             Date          author  num_comments\n",
       "0      2020-11-30      Denvas4012             6\n",
       "1      2020-11-30     LiberLilith            13\n",
       "2      2020-11-30      applecees6            13\n",
       "3      2020-11-30      encore2097            27\n",
       "4      2020-11-30         ronoron            16\n",
       "...           ...             ...           ...\n",
       "25042  2021-03-31        komoru-1            11\n",
       "25043  2021-03-31         maksu22            48\n",
       "25044  2021-03-31      nelwitch22            11\n",
       "25045  2021-03-31  sundevilsucker           121\n",
       "25046  2021-03-31        waleplay             9\n",
       "\n",
       "[25047 rows x 3 columns]"
      ]
     },
     "execution_count": 100,
     "metadata": {},
     "output_type": "execute_result"
    }
   ],
   "source": [
    "comments_df"
   ]
  },
  {
   "cell_type": "code",
   "execution_count": 111,
   "id": "75f49b44",
   "metadata": {},
   "outputs": [
    {
     "name": "stderr",
     "output_type": "stream",
     "text": [
      "C:\\Users\\paulr\\AppData\\Local\\Temp\\ipykernel_23380\\4009438165.py:1: UserWarning: Boolean Series key will be reindexed to match DataFrame index.\n",
      "  comments_df[comments_df.Date >= \"2021-01-00\"][comments_df.Date < \"2021-01-05\"][\"num_comments\"].sort_values().reset_index()[\"num_comments\"].plot(color=\"#79AFFF\")\n"
     ]
    },
    {
     "data": {
      "text/plain": [
       "<AxesSubplot:>"
      ]
     },
     "execution_count": 111,
     "metadata": {},
     "output_type": "execute_result"
    },
    {
     "data": {
      "image/png": "[encoded data removed]",
      "text/plain": [
       "<Figure size 720x288 with 1 Axes>"
      ]
     },
     "metadata": {
      "needs_background": "light"
     },
     "output_type": "display_data"
    }
   ],
   "source": [
    "comments_df[comments_df.Date >= \"2021-01-00\"][comments_df.Date < \"2021-01-05\"][\"num_comments\"].sort_values().reset_index()[\"num_comments\"].plot(color=\"#79AFFF\")"
   ]
  },
  {
   "cell_type": "code",
   "execution_count": 112,
   "id": "50f58664",
   "metadata": {},
   "outputs": [
    {
     "name": "stderr",
     "output_type": "stream",
     "text": [
      "C:\\Users\\paulr\\AppData\\Local\\Temp\\ipykernel_23380\\1014416815.py:1: UserWarning: Boolean Series key will be reindexed to match DataFrame index.\n",
      "  comments_df[comments_df.Date >= \"2021-01-05\"][comments_df.Date < \"2021-01-10\"][\"num_comments\"].sort_values().reset_index()[\"num_comments\"].plot(color = \"#1574FF\")\n"
     ]
    },
    {
     "data": {
      "text/plain": [
       "<AxesSubplot:>"
      ]
     },
     "execution_count": 112,
     "metadata": {},
     "output_type": "execute_result"
    },
    {
     "data": {
      "image/png": "[encoded data removed]",
      "text/plain": [
       "<Figure size 720x288 with 1 Axes>"
      ]
     },
     "metadata": {
      "needs_background": "light"
     },
     "output_type": "display_data"
    }
   ],
   "source": [
    "comments_df[comments_df.Date >= \"2021-01-05\"][comments_df.Date < \"2021-01-10\"][\"num_comments\"].sort_values().reset_index()[\"num_comments\"].plot(color = \"#1574FF\")"
   ]
  },
  {
   "cell_type": "code",
   "execution_count": 113,
   "id": "eacbf5b7",
   "metadata": {
    "scrolled": false
   },
   "outputs": [
    {
     "name": "stderr",
     "output_type": "stream",
     "text": [
      "C:\\Users\\paulr\\AppData\\Local\\Temp\\ipykernel_23380\\1356466722.py:1: UserWarning: Boolean Series key will be reindexed to match DataFrame index.\n",
      "  comments_df[comments_df.Date >= \"2021-01-10\"][comments_df.Date < \"2021-01-15\"][\"num_comments\"].sort_values().reset_index()[\"num_comments\"].plot(color=\"#0049B4\")\n"
     ]
    },
    {
     "data": {
      "text/plain": [
       "<AxesSubplot:>"
      ]
     },
     "execution_count": 113,
     "metadata": {},
     "output_type": "execute_result"
    },
    {
     "data": {
      "image/png": "[encoded data removed]",
      "text/plain": [
       "<Figure size 720x288 with 1 Axes>"
      ]
     },
     "metadata": {
      "needs_background": "light"
     },
     "output_type": "display_data"
    }
   ],
   "source": [
    "comments_df[comments_df.Date >= \"2021-01-10\"][comments_df.Date < \"2021-01-15\"][\"num_comments\"].sort_values().reset_index()[\"num_comments\"].plot(color=\"#0049B4\")"
   ]
  },
  {
   "cell_type": "code",
   "execution_count": 114,
   "id": "5b29cd41",
   "metadata": {
    "scrolled": false
   },
   "outputs": [
    {
     "name": "stderr",
     "output_type": "stream",
     "text": [
      "C:\\Users\\paulr\\AppData\\Local\\Temp\\ipykernel_23380\\1650438767.py:1: UserWarning: Boolean Series key will be reindexed to match DataFrame index.\n",
      "  comments_df[comments_df.Date >= \"2021-01-15\"][comments_df.Date < \"2021-01-20\"][\"num_comments\"].sort_values().reset_index()[\"num_comments\"].plot(color=\"#00255C\")\n"
     ]
    },
    {
     "data": {
      "text/plain": [
       "<AxesSubplot:>"
      ]
     },
     "execution_count": 114,
     "metadata": {},
     "output_type": "execute_result"
    },
    {
     "data": {
      "image/png": "[encoded data removed]",
      "text/plain": [
       "<Figure size 720x288 with 1 Axes>"
      ]
     },
     "metadata": {
      "needs_background": "light"
     },
     "output_type": "display_data"
    }
   ],
   "source": [
    "comments_df[comments_df.Date >= \"2021-01-15\"][comments_df.Date < \"2021-01-20\"][\"num_comments\"].sort_values().reset_index()[\"num_comments\"].plot(color=\"#00255C\")"
   ]
  },
  {
   "cell_type": "code",
   "execution_count": 105,
   "id": "4e4f5f7d",
   "metadata": {
    "scrolled": true
   },
   "outputs": [
    {
     "name": "stderr",
     "output_type": "stream",
     "text": [
      "C:\\Users\\paulr\\AppData\\Local\\Temp\\ipykernel_35344\\1527360416.py:1: UserWarning: Boolean Series key will be reindexed to match DataFrame index.\n",
      "  comments_df[comments_df.Date >= \"2021-01-20\"][comments_df.Date < \"2021-01-25\"][\"num_comments\"].sort_values().reset_index()[\"num_comments\"].plot()\n"
     ]
    },
    {
     "data": {
      "text/plain": [
       "<AxesSubplot:>"
      ]
     },
     "execution_count": 105,
     "metadata": {},
     "output_type": "execute_result"
    },
    {
     "data": {
      "image/png": "[encoded data removed]",
      "text/plain": [
       "<Figure size 1152x288 with 1 Axes>"
      ]
     },
     "metadata": {
      "needs_background": "light"
     },
     "output_type": "display_data"
    }
   ],
   "source": [
    "comments_df[comments_df.Date >= \"2021-01-20\"][comments_df.Date < \"2021-01-25\"][\"num_comments\"].sort_values().reset_index()[\"num_comments\"].plot()"
   ]
  },
  {
   "cell_type": "code",
   "execution_count": 115,
   "id": "264215c1",
   "metadata": {},
   "outputs": [
    {
     "name": "stderr",
     "output_type": "stream",
     "text": [
      "C:\\Users\\paulr\\AppData\\Local\\Temp\\ipykernel_23380\\4238160161.py:1: UserWarning: Boolean Series key will be reindexed to match DataFrame index.\n",
      "  comments_df[comments_df.Date >= \"2021-01-25\"][comments_df.Date < \"2021-01-30\"][\"num_comments\"].sort_values().reset_index()[\"num_comments\"].plot()\n"
     ]
    },
    {
     "data": {
      "text/plain": [
       "<AxesSubplot:>"
      ]
     },
     "execution_count": 115,
     "metadata": {},
     "output_type": "execute_result"
    },
    {
     "data": {
      "image/png": "[encoded data removed]",
      "text/plain": [
       "<Figure size 720x288 with 1 Axes>"
      ]
     },
     "metadata": {
      "needs_background": "light"
     },
     "output_type": "display_data"
    }
   ],
   "source": [
    "comments_df[comments_df.Date >= \"2021-01-25\"][comments_df.Date < \"2021-01-30\"][\"num_comments\"].sort_values().reset_index()[\"num_comments\"].plot()"
   ]
  },
  {
   "cell_type": "code",
   "execution_count": 116,
   "id": "3bf76c9f",
   "metadata": {},
   "outputs": [
    {
     "data": {
      "text/plain": [
       "<AxesSubplot:xlabel='author'>"
      ]
     },
     "execution_count": 116,
     "metadata": {},
     "output_type": "execute_result"
    },
    {
     "data": {
      "image/png": "[encoded data removed]",
      "text/plain": [
       "<Figure size 720x288 with 1 Axes>"
      ]
     },
     "metadata": {
      "needs_background": "light"
     },
     "output_type": "display_data"
    }
   ],
   "source": [
    "comments_df.groupby(\"author\")[\"num_comments\"].sum().plot()"
   ]
  },
  {
   "cell_type": "code",
   "execution_count": 117,
   "id": "cd777f75",
   "metadata": {},
   "outputs": [
    {
     "data": {
      "text/plain": [
       "<AxesSubplot:xlabel='author'>"
      ]
     },
     "execution_count": 117,
     "metadata": {},
     "output_type": "execute_result"
    },
    {
     "data": {
      "image/png": "[encoded data removed]",
      "text/plain": [
       "<Figure size 720x288 with 1 Axes>"
      ]
     },
     "metadata": {
      "needs_background": "light"
     },
     "output_type": "display_data"
    }
   ],
   "source": [
    "authors_sorted = comments_df.groupby(\"author\")[\"num_comments\"].sum().sort_values()\n",
    "authors_sorted.plot()"
   ]
  },
  {
   "cell_type": "code",
   "execution_count": 118,
   "id": "4d7c192a",
   "metadata": {},
   "outputs": [],
   "source": [
    "total_comments = comments_df[\"num_comments\"].sum()"
   ]
  },
  {
   "cell_type": "code",
   "execution_count": 119,
   "id": "87b00913",
   "metadata": {},
   "outputs": [
    {
     "name": "stdout",
     "output_type": "stream",
     "text": [
      "90% at 1842\n",
      "95% at 4239\n",
      "99% at 12502\n",
      "total authors:21089\n"
     ]
    }
   ],
   "source": [
    "count = 0\n",
    "authors = 0\n",
    "found_90 = False\n",
    "found_95 = False\n",
    "found_99 = False\n",
    "\n",
    "for com in reversed(authors_sorted):\n",
    "    authors += 1\n",
    "    count += com\n",
    "    \n",
    "    if(not found_90 and total_comments*0.9 < count):\n",
    "        print(\"90% at \" + str(authors))\n",
    "        found_90 = True\n",
    "        \n",
    "    \n",
    "    if( not found_95 and total_comments*0.95 < count):\n",
    "        print(\"95% at \" + str(authors))\n",
    "        found_95 = True\n",
    "        \n",
    "    \n",
    "    if(not found_99 and total_comments*0.99 < count):\n",
    "        print(\"99% at \" + str(authors))\n",
    "        found_99 = True\n",
    "\n",
    "print(\"total authors:\" + str(len(authors_sorted)))"
   ]
  },
  {
   "cell_type": "code",
   "execution_count": 120,
   "id": "2eb717c1",
   "metadata": {},
   "outputs": [
    {
     "data": {
      "text/html": [
       "<div>\n",
       "<style scoped>\n",
       "    .dataframe tbody tr th:only-of-type {\n",
       "        vertical-align: middle;\n",
       "    }\n",
       "\n",
       "    .dataframe tbody tr th {\n",
       "        vertical-align: top;\n",
       "    }\n",
       "\n",
       "    .dataframe thead th {\n",
       "        text-align: right;\n",
       "    }\n",
       "</style>\n",
       "<table border=\"1\" class=\"dataframe\">\n",
       "  <thead>\n",
       "    <tr style=\"text-align: right;\">\n",
       "      <th></th>\n",
       "      <th>author</th>\n",
       "      <th>num_comments</th>\n",
       "    </tr>\n",
       "  </thead>\n",
       "  <tbody>\n",
       "    <tr>\n",
       "      <th>2881</th>\n",
       "      <td>Hairy-Philosopher-72</td>\n",
       "      <td>343</td>\n",
       "    </tr>\n",
       "    <tr>\n",
       "      <th>3053</th>\n",
       "      <td>shinereps</td>\n",
       "      <td>388</td>\n",
       "    </tr>\n",
       "    <tr>\n",
       "      <th>2960</th>\n",
       "      <td>Unlucky-Prize</td>\n",
       "      <td>470</td>\n",
       "    </tr>\n",
       "    <tr>\n",
       "      <th>2890</th>\n",
       "      <td>ImmortalCupcake</td>\n",
       "      <td>490</td>\n",
       "    </tr>\n",
       "    <tr>\n",
       "      <th>2952</th>\n",
       "      <td>TonyMiller81</td>\n",
       "      <td>545</td>\n",
       "    </tr>\n",
       "    <tr>\n",
       "      <th>2961</th>\n",
       "      <td>Vagabond_Hospitality</td>\n",
       "      <td>546</td>\n",
       "    </tr>\n",
       "    <tr>\n",
       "      <th>3057</th>\n",
       "      <td>spike142</td>\n",
       "      <td>621</td>\n",
       "    </tr>\n",
       "    <tr>\n",
       "      <th>2900</th>\n",
       "      <td>Kabdckmd</td>\n",
       "      <td>764</td>\n",
       "    </tr>\n",
       "    <tr>\n",
       "      <th>3033</th>\n",
       "      <td>only1parkjisung</td>\n",
       "      <td>955</td>\n",
       "    </tr>\n",
       "    <tr>\n",
       "      <th>2889</th>\n",
       "      <td>ITradeBaconFutures</td>\n",
       "      <td>36479</td>\n",
       "    </tr>\n",
       "    <tr>\n",
       "      <th>3101</th>\n",
       "      <td>CMCosMic</td>\n",
       "      <td>374</td>\n",
       "    </tr>\n",
       "    <tr>\n",
       "      <th>3133</th>\n",
       "      <td>LemniscateSideEight</td>\n",
       "      <td>383</td>\n",
       "    </tr>\n",
       "    <tr>\n",
       "      <th>3262</th>\n",
       "      <td>jpark28</td>\n",
       "      <td>411</td>\n",
       "    </tr>\n",
       "    <tr>\n",
       "      <th>3192</th>\n",
       "      <td>TwizzlyWizzle</td>\n",
       "      <td>518</td>\n",
       "    </tr>\n",
       "    <tr>\n",
       "      <th>3194</th>\n",
       "      <td>Unlucky-Prize</td>\n",
       "      <td>619</td>\n",
       "    </tr>\n",
       "    <tr>\n",
       "      <th>3220</th>\n",
       "      <td>blueteambluz</td>\n",
       "      <td>644</td>\n",
       "    </tr>\n",
       "    <tr>\n",
       "      <th>3222</th>\n",
       "      <td>boramalper</td>\n",
       "      <td>747</td>\n",
       "    </tr>\n",
       "    <tr>\n",
       "      <th>3179</th>\n",
       "      <td>Sportsman180</td>\n",
       "      <td>1154</td>\n",
       "    </tr>\n",
       "    <tr>\n",
       "      <th>3250</th>\n",
       "      <td>hangrypizzas</td>\n",
       "      <td>1214</td>\n",
       "    </tr>\n",
       "    <tr>\n",
       "      <th>3245</th>\n",
       "      <td>grebfar</td>\n",
       "      <td>57801</td>\n",
       "    </tr>\n",
       "  </tbody>\n",
       "</table>\n",
       "</div>"
      ],
      "text/plain": [
       "                    author num_comments\n",
       "2881  Hairy-Philosopher-72          343\n",
       "3053             shinereps          388\n",
       "2960         Unlucky-Prize          470\n",
       "2890       ImmortalCupcake          490\n",
       "2952          TonyMiller81          545\n",
       "2961  Vagabond_Hospitality          546\n",
       "3057              spike142          621\n",
       "2900              Kabdckmd          764\n",
       "3033       only1parkjisung          955\n",
       "2889    ITradeBaconFutures        36479\n",
       "3101              CMCosMic          374\n",
       "3133   LemniscateSideEight          383\n",
       "3262               jpark28          411\n",
       "3192         TwizzlyWizzle          518\n",
       "3194         Unlucky-Prize          619\n",
       "3220          blueteambluz          644\n",
       "3222            boramalper          747\n",
       "3179          Sportsman180         1154\n",
       "3250          hangrypizzas         1214\n",
       "3245               grebfar        57801"
      ]
     },
     "execution_count": 120,
     "metadata": {},
     "output_type": "execute_result"
    }
   ],
   "source": [
    "dates = comments_df[\"Date\"]\n",
    "top_authors = pd.DataFrame(columns=[\"author\",\"num_comments\"])\n",
    "\n",
    "daily_authors = comments_df[comments_df.Date == \"2021-01-20\"][[\"author\",\"num_comments\"]].sort_values('num_comments')[-10:]\n",
    "top_authors = top_authors.append(daily_authors)\n",
    "daily_authors = comments_df[comments_df.Date == \"2021-01-21\"][[\"author\",\"num_comments\"]].sort_values('num_comments')[-10:]\n",
    "top_authors = top_authors.append(daily_authors)\n",
    "\n",
    "top_authors"
   ]
  },
  {
   "cell_type": "code",
   "execution_count": 121,
   "id": "94d7fa52",
   "metadata": {},
   "outputs": [
    {
     "name": "stdout",
     "output_type": "stream",
     "text": [
      "2020-11-30\n",
      "2020-12-01\n",
      "2020-12-02\n",
      "2020-12-03\n",
      "2020-12-04\n",
      "2020-12-05\n",
      "2020-12-06\n",
      "2020-12-07\n",
      "2020-12-08\n",
      "2020-12-09\n",
      "2020-12-10\n",
      "2020-12-11\n",
      "2020-12-12\n",
      "2020-12-13\n",
      "2020-12-14\n",
      "2020-12-15\n",
      "2020-12-16\n",
      "2020-12-17\n",
      "2020-12-18\n",
      "2020-12-19\n",
      "2020-12-20\n",
      "2020-12-21\n",
      "2020-12-22\n",
      "2020-12-23\n",
      "2020-12-24\n",
      "2020-12-25\n",
      "2020-12-26\n",
      "2020-12-27\n",
      "2020-12-28\n",
      "2020-12-29\n",
      "2020-12-30\n",
      "2020-12-31\n",
      "2021-01-01\n",
      "2021-01-02\n",
      "2021-01-03\n",
      "2021-01-04\n",
      "2021-01-05\n",
      "2021-01-06\n",
      "2021-01-07\n",
      "2021-01-08\n",
      "2021-01-09\n",
      "2021-01-10\n",
      "2021-01-11\n",
      "2021-01-12\n",
      "2021-01-13\n",
      "2021-01-14\n",
      "2021-01-15\n",
      "2021-01-16\n",
      "2021-01-17\n",
      "2021-01-18\n",
      "2021-01-19\n",
      "2021-01-20\n",
      "2021-01-21\n",
      "2021-01-22\n",
      "2021-01-23\n",
      "2021-01-24\n",
      "2021-01-25\n",
      "2021-01-26\n",
      "2021-01-27\n",
      "2021-01-28\n",
      "2021-01-29\n",
      "2021-01-30\n",
      "2021-01-31\n",
      "2021-02-01\n",
      "2021-02-02\n",
      "2021-02-03\n",
      "2021-02-04\n",
      "2021-02-07\n",
      "2021-02-08\n",
      "2021-02-09\n",
      "2021-02-10\n",
      "2021-02-11\n",
      "2021-02-12\n",
      "2021-02-13\n",
      "2021-02-14\n",
      "2021-02-15\n",
      "2021-02-16\n",
      "2021-02-17\n",
      "2021-02-18\n",
      "2021-02-19\n",
      "2021-02-20\n",
      "2021-02-21\n",
      "2021-02-22\n",
      "2021-02-23\n",
      "2021-02-24\n",
      "2021-02-25\n",
      "2021-02-26\n",
      "2021-02-27\n",
      "2021-02-28\n",
      "2021-03-02\n",
      "2021-03-03\n",
      "2021-03-04\n",
      "2021-03-05\n",
      "2021-03-07\n",
      "2021-03-08\n",
      "2021-03-09\n",
      "2021-03-10\n",
      "2021-03-11\n",
      "2021-03-12\n",
      "2021-03-13\n",
      "2021-03-14\n",
      "2021-03-15\n",
      "2021-03-16\n",
      "2021-03-17\n",
      "2021-03-27\n",
      "2021-03-28\n",
      "2021-03-29\n",
      "2021-03-30\n",
      "2021-03-31\n"
     ]
    },
    {
     "data": {
      "text/html": [
       "<div>\n",
       "<style scoped>\n",
       "    .dataframe tbody tr th:only-of-type {\n",
       "        vertical-align: middle;\n",
       "    }\n",
       "\n",
       "    .dataframe tbody tr th {\n",
       "        vertical-align: top;\n",
       "    }\n",
       "\n",
       "    .dataframe thead th {\n",
       "        text-align: right;\n",
       "    }\n",
       "</style>\n",
       "<table border=\"1\" class=\"dataframe\">\n",
       "  <thead>\n",
       "    <tr style=\"text-align: right;\">\n",
       "      <th></th>\n",
       "      <th>author</th>\n",
       "      <th>num_comments</th>\n",
       "    </tr>\n",
       "  </thead>\n",
       "  <tbody>\n",
       "    <tr>\n",
       "      <th>0</th>\n",
       "      <td>Denvas4012</td>\n",
       "      <td>6</td>\n",
       "    </tr>\n",
       "    <tr>\n",
       "      <th>1</th>\n",
       "      <td>LiberLilith</td>\n",
       "      <td>13</td>\n",
       "    </tr>\n",
       "    <tr>\n",
       "      <th>2</th>\n",
       "      <td>applecees6</td>\n",
       "      <td>13</td>\n",
       "    </tr>\n",
       "    <tr>\n",
       "      <th>4</th>\n",
       "      <td>ronoron</td>\n",
       "      <td>16</td>\n",
       "    </tr>\n",
       "    <tr>\n",
       "      <th>3</th>\n",
       "      <td>encore2097</td>\n",
       "      <td>27</td>\n",
       "    </tr>\n",
       "    <tr>\n",
       "      <th>...</th>\n",
       "      <td>...</td>\n",
       "      <td>...</td>\n",
       "    </tr>\n",
       "    <tr>\n",
       "      <th>25011</th>\n",
       "      <td>Baarluh</td>\n",
       "      <td>244</td>\n",
       "    </tr>\n",
       "    <tr>\n",
       "      <th>25010</th>\n",
       "      <td>Apeguru123</td>\n",
       "      <td>537</td>\n",
       "    </tr>\n",
       "    <tr>\n",
       "      <th>25025</th>\n",
       "      <td>JuxtaposeLife</td>\n",
       "      <td>988</td>\n",
       "    </tr>\n",
       "    <tr>\n",
       "      <th>25017</th>\n",
       "      <td>DeepFuckingValue</td>\n",
       "      <td>4334</td>\n",
       "    </tr>\n",
       "    <tr>\n",
       "      <th>25029</th>\n",
       "      <td>OPINION_IS_UNPOPULAR</td>\n",
       "      <td>25518</td>\n",
       "    </tr>\n",
       "  </tbody>\n",
       "</table>\n",
       "<p>2028 rows × 2 columns</p>\n",
       "</div>"
      ],
      "text/plain": [
       "                     author num_comments\n",
       "0                Denvas4012            6\n",
       "1               LiberLilith           13\n",
       "2                applecees6           13\n",
       "4                   ronoron           16\n",
       "3                encore2097           27\n",
       "...                     ...          ...\n",
       "25011               Baarluh          244\n",
       "25010            Apeguru123          537\n",
       "25025         JuxtaposeLife          988\n",
       "25017      DeepFuckingValue         4334\n",
       "25029  OPINION_IS_UNPOPULAR        25518\n",
       "\n",
       "[2028 rows x 2 columns]"
      ]
     },
     "execution_count": 121,
     "metadata": {},
     "output_type": "execute_result"
    }
   ],
   "source": [
    "dates = comments_df[\"Date\"].unique()\n",
    "top_authors = pd.DataFrame(columns=[\"author\",\"num_comments\"])\n",
    "\n",
    "for date in dates:\n",
    "    print(date)\n",
    "    daily_authors = comments_df[comments_df.Date == date][[\"author\",\"num_comments\"]].sort_values('num_comments')[-20:]\n",
    "    \n",
    "    top_authors = top_authors.append(daily_authors)\n",
    "\n",
    "top_authors"
   ]
  },
  {
   "cell_type": "code",
   "execution_count": 122,
   "id": "b74c25ae",
   "metadata": {},
   "outputs": [
    {
     "data": {
      "text/plain": [
       "2028"
      ]
     },
     "execution_count": 122,
     "metadata": {},
     "output_type": "execute_result"
    }
   ],
   "source": [
    "len(top_authors)"
   ]
  },
  {
   "cell_type": "code",
   "execution_count": 123,
   "id": "3d905571",
   "metadata": {},
   "outputs": [
    {
     "data": {
      "text/plain": [
       "1600"
      ]
     },
     "execution_count": 123,
     "metadata": {},
     "output_type": "execute_result"
    }
   ],
   "source": [
    "len(top_authors[\"author\"].unique())"
   ]
  },
  {
   "cell_type": "code",
   "execution_count": 150,
   "id": "2a5f6371",
   "metadata": {
    "scrolled": true
   },
   "outputs": [],
   "source": [
    "l = top_authors.author.value_counts()\n",
    "text = \"\"\n",
    "for i in range(0, 30):\n",
    "    for n in range(0, l[i]):\n",
    "        text += l.index[i] + \", \""
   ]
  },
  {
   "cell_type": "code",
   "execution_count": 151,
   "id": "d98812d2",
   "metadata": {},
   "outputs": [
    {
     "data": {
      "image/png": "[encoded data removed]",
      "text/plain": [
       "<Figure size 720x288 with 1 Axes>"
      ]
     },
     "metadata": {
      "needs_background": "light"
     },
     "output_type": "display_data"
    }
   ],
   "source": [
    "from wordcloud import WordCloud\n",
    "import matplotlib.pyplot as plt\n",
    "\n",
    "#text = \"OPINION_IS_UNPOPULAR OPINION_IS_UNPOPULAR OPINION_IS_UNPOPULAR OPINION_IS_UNPOPULAR OPINION_IS_UNPOPULAR OPINION_IS_UNPOPULAR OPINION_IS_UNPOPULAR OPINION_IS_UNPOPULAR OPINION_IS_UNPOPULAR OPINION_IS_UNPOPULAR OPINION_IS_UNPOPULAR OPINION_IS_UNPOPULAR OPINION_IS_UNPOPULAR OPINION_IS_UNPOPULAR OPINION_IS_UNPOPULAR OPINION_IS_UNPOPULAR OPINION_IS_UNPOPULAR OPINION_IS_UNPOPULAR OPINION_IS_UNPOPULAR OPINION_IS_UNPOPULAR OPINION_IS_UNPOPULAR OPINION_IS_UNPOPULAR OPINION_IS_UNPOPULAR DeepFuckingValue DeepFuckingValue DeepFuckingValue DeepFuckingValue DeepFuckingValue DeepFuckingValue DeepFuckingValue DeepFuckingValue DeepFuckingValue DeepFuckingValue DeepFuckingValue DeepFuckingValue DeepFuckingValue DeepFuckingValue DeepFuckingValue DeepFuckingValue DeepFuckingValue DeepFuckingValue Uberkikz11 Uberkikz11 Uberkikz11 Uberkikz11 Uberkikz11 Uberkikz11 Uberkikz11 Uberkikz11 Unlucky-Prize Unlucky-Prize Unlucky-Prize Unlucky-Prize Unlucky-Prize Unlucky-Prize Unlucky-Prize Unlucky-Prize SnooWalruses7854 SnooWalruses7854 SnooWalruses7854 SnooWalruses7854 SnooWalruses7854 SnooWalruses7854 SnooWalruses7854 SnooWalruses7854 quantkim quantkim quantkim quantkim quantkim quantkim quantkim quantkim The_Bossss The_Bossss The_Bossss The_Bossss The_Bossss The_Bossss The_Bossss MotorizedDoucheCanoe MotorizedDoucheCanoe MotorizedDoucheCanoe MotorizedDoucheCanoe MotorizedDoucheCanoe MotorizedDoucheCanoe MotorizedDoucheCanoe robbinhood69 robbinhood69 robbinhood69 robbinhood69 robbinhood69 robbinhood69 robbinhood69 imposter22 imposter22 imposter22 imposter22 imposter22 imposter22 imposter22 jackietsaah jackietsaah jackietsaah jackietsaah jackietsaah jackietsaah napkins33e napkins33e napkins33e napkins33e napkins33e napkins33e maxfort86 maxfort86 maxfort86 maxfort86 maxfort86 maxfort86 cyanlce cyanlce cyanlce cyanlce cyanlce cyanlce jbro12345 jbro12345 jbro12345 jbro12345 jbro12345 jbro12345 KYJELLYTIME69 KYJELLYTIME69 KYJELLYTIME69 KYJELLYTIME69 KYJELLYTIME69 KYJELLYTIME69 FatAspirations FatAspirations FatAspirations FatAspirations FatAspirations FatAspirations sneakersourcerer sneakersourcerer sneakersourcerer sneakersourcerer sneakersourcerer sneakersourcerer pdwp90 pdwp90 pdwp90 pdwp90 pdwp90 \"\n",
    "\n",
    "\n",
    "wordcloud = WordCloud(background_color=\"white\").generate(text)\n",
    "\n",
    "plt.imshow(wordcloud, interpolation=\"bilinear\")\n",
    "plt.axis(\"off\")\n",
    "plt.show()"
   ]
  },
  {
   "cell_type": "code",
   "execution_count": 114,
   "id": "2e390d52",
   "metadata": {},
   "outputs": [
    {
     "data": {
      "text/plain": [
       "<AxesSubplot:>"
      ]
     },
     "execution_count": 114,
     "metadata": {},
     "output_type": "execute_result"
    },
    {
     "data": {
      "image/png": "[encoded data removed]",
      "text/plain": [
       "<Figure size 1152x288 with 1 Axes>"
      ]
     },
     "metadata": {
      "needs_background": "light"
     },
     "output_type": "display_data"
    }
   ],
   "source": [
    "top_authors.author.value_counts().reset_index().plot()"
   ]
  },
  {
   "cell_type": "code",
   "execution_count": 115,
   "id": "a21a36cb",
   "metadata": {},
   "outputs": [
    {
     "data": {
      "text/plain": [
       "6749249"
      ]
     },
     "execution_count": 115,
     "metadata": {},
     "output_type": "execute_result"
    }
   ],
   "source": [
    "total_comments"
   ]
  },
  {
   "cell_type": "code",
   "execution_count": 116,
   "id": "d751e488",
   "metadata": {},
   "outputs": [
    {
     "data": {
      "text/html": [
       "<div>\n",
       "<style scoped>\n",
       "    .dataframe tbody tr th:only-of-type {\n",
       "        vertical-align: middle;\n",
       "    }\n",
       "\n",
       "    .dataframe tbody tr th {\n",
       "        vertical-align: top;\n",
       "    }\n",
       "\n",
       "    .dataframe thead th {\n",
       "        text-align: right;\n",
       "    }\n",
       "</style>\n",
       "<table border=\"1\" class=\"dataframe\">\n",
       "  <thead>\n",
       "    <tr style=\"text-align: right;\">\n",
       "      <th></th>\n",
       "      <th>author</th>\n",
       "      <th>num_comments</th>\n",
       "    </tr>\n",
       "  </thead>\n",
       "  <tbody>\n",
       "    <tr>\n",
       "      <th>10544</th>\n",
       "      <td>TheNotoriousA</td>\n",
       "      <td>5</td>\n",
       "    </tr>\n",
       "    <tr>\n",
       "      <th>1144</th>\n",
       "      <td>BS_Degree</td>\n",
       "      <td>5</td>\n",
       "    </tr>\n",
       "    <tr>\n",
       "      <th>19762</th>\n",
       "      <td>thealaskanlumberjack</td>\n",
       "      <td>5</td>\n",
       "    </tr>\n",
       "    <tr>\n",
       "      <th>11742</th>\n",
       "      <td>YangGiou</td>\n",
       "      <td>5</td>\n",
       "    </tr>\n",
       "    <tr>\n",
       "      <th>6056</th>\n",
       "      <td>Live-On-Pool</td>\n",
       "      <td>5</td>\n",
       "    </tr>\n",
       "    <tr>\n",
       "      <th>...</th>\n",
       "      <td>...</td>\n",
       "      <td>...</td>\n",
       "    </tr>\n",
       "    <tr>\n",
       "      <th>19944</th>\n",
       "      <td>theycallmeryan</td>\n",
       "      <td>160612</td>\n",
       "    </tr>\n",
       "    <tr>\n",
       "      <th>20513</th>\n",
       "      <td>wallstreetboyfriend</td>\n",
       "      <td>482549</td>\n",
       "    </tr>\n",
       "    <tr>\n",
       "      <th>14890</th>\n",
       "      <td>grebfar</td>\n",
       "      <td>491063</td>\n",
       "    </tr>\n",
       "    <tr>\n",
       "      <th>6834</th>\n",
       "      <td>MotorizedDoucheCanoe</td>\n",
       "      <td>541012</td>\n",
       "    </tr>\n",
       "    <tr>\n",
       "      <th>7438</th>\n",
       "      <td>OPINION_IS_UNPOPULAR</td>\n",
       "      <td>1953467</td>\n",
       "    </tr>\n",
       "  </tbody>\n",
       "</table>\n",
       "<p>21089 rows × 2 columns</p>\n",
       "</div>"
      ],
      "text/plain": [
       "                     author  num_comments\n",
       "10544         TheNotoriousA             5\n",
       "1144              BS_Degree             5\n",
       "19762  thealaskanlumberjack             5\n",
       "11742              YangGiou             5\n",
       "6056           Live-On-Pool             5\n",
       "...                     ...           ...\n",
       "19944        theycallmeryan        160612\n",
       "20513   wallstreetboyfriend        482549\n",
       "14890               grebfar        491063\n",
       "6834   MotorizedDoucheCanoe        541012\n",
       "7438   OPINION_IS_UNPOPULAR       1953467\n",
       "\n",
       "[21089 rows x 2 columns]"
      ]
     },
     "execution_count": 116,
     "metadata": {},
     "output_type": "execute_result"
    }
   ],
   "source": [
    "comments_df.groupby(\"author\").num_comments.sum().reset_index().sort_values('num_comments')"
   ]
  },
  {
   "cell_type": "code",
   "execution_count": 117,
   "id": "313df3eb",
   "metadata": {},
   "outputs": [
    {
     "data": {
      "text/plain": [
       "1953467"
      ]
     },
     "execution_count": 117,
     "metadata": {},
     "output_type": "execute_result"
    }
   ],
   "source": [
    "comments_df[comments_df.author == \"OPINION_IS_UNPOPULAR\"][\"num_comments\"].sum()"
   ]
  },
  {
   "cell_type": "code",
   "execution_count": 880,
   "id": "d2703f50",
   "metadata": {},
   "outputs": [
    {
     "data": {
      "text/plain": [
       "95355"
      ]
     },
     "execution_count": 880,
     "metadata": {},
     "output_type": "execute_result"
    }
   ],
   "source": [
    "comments_df[comments_df.author == \"DeepFuckingValue\"][\"num_comments\"].sum()"
   ]
  },
  {
   "cell_type": "markdown",
   "id": "1801b711",
   "metadata": {},
   "source": [
    "# Impact on external, related parties: "
   ]
  },
  {
   "cell_type": "code",
   "execution_count": 152,
   "id": "01167657",
   "metadata": {},
   "outputs": [
    {
     "name": "stderr",
     "output_type": "stream",
     "text": [
      "C:\\Users\\paulr\\AppData\\Local\\Programs\\Python\\Python310\\lib\\site-packages\\IPython\\core\\interactiveshell.py:3361: DtypeWarning: Columns (80,82,83,86,87,88,89,90,91,92,93,94,95,96,97,100,101,102,104,106,108) have mixed types.Specify dtype option on import or set low_memory=False.\n",
      "  exec(code_obj, self.user_global_ns, self.user_ns)\n"
     ]
    }
   ],
   "source": [
    "df = pd.read_csv(\"robinhood_data.csv\")"
   ]
  },
  {
   "cell_type": "code",
   "execution_count": 153,
   "id": "2d5b8811",
   "metadata": {},
   "outputs": [
    {
     "data": {
      "text/html": [
       "<div>\n",
       "<style scoped>\n",
       "    .dataframe tbody tr th:only-of-type {\n",
       "        vertical-align: middle;\n",
       "    }\n",
       "\n",
       "    .dataframe tbody tr th {\n",
       "        vertical-align: top;\n",
       "    }\n",
       "\n",
       "    .dataframe thead th {\n",
       "        text-align: right;\n",
       "    }\n",
       "</style>\n",
       "<table border=\"1\" class=\"dataframe\">\n",
       "  <thead>\n",
       "    <tr style=\"text-align: right;\">\n",
       "      <th></th>\n",
       "      <th>Unnamed: 0</th>\n",
       "      <th>all_awardings</th>\n",
       "      <th>allow_live_comments</th>\n",
       "      <th>author</th>\n",
       "      <th>author_flair_css_class</th>\n",
       "      <th>author_flair_richtext</th>\n",
       "      <th>author_flair_text</th>\n",
       "      <th>author_flair_type</th>\n",
       "      <th>author_fullname</th>\n",
       "      <th>author_patreon_flair</th>\n",
       "      <th>...</th>\n",
       "      <th>gallery_data</th>\n",
       "      <th>rpan_video</th>\n",
       "      <th>collections</th>\n",
       "      <th>is_created_from_ads_ui</th>\n",
       "      <th>event_end</th>\n",
       "      <th>event_is_live</th>\n",
       "      <th>event_start</th>\n",
       "      <th>author_is_blocked</th>\n",
       "      <th>category</th>\n",
       "      <th>is_survey_ad</th>\n",
       "    </tr>\n",
       "  </thead>\n",
       "  <tbody>\n",
       "    <tr>\n",
       "      <th>0</th>\n",
       "      <td>0</td>\n",
       "      <td>[]</td>\n",
       "      <td>False</td>\n",
       "      <td>BigJoeBalliN</td>\n",
       "      <td>NaN</td>\n",
       "      <td>[]</td>\n",
       "      <td>NaN</td>\n",
       "      <td>text</td>\n",
       "      <td>t2_5j3h8cg2</td>\n",
       "      <td>False</td>\n",
       "      <td>...</td>\n",
       "      <td>NaN</td>\n",
       "      <td>NaN</td>\n",
       "      <td>NaN</td>\n",
       "      <td>NaN</td>\n",
       "      <td>NaN</td>\n",
       "      <td>NaN</td>\n",
       "      <td>NaN</td>\n",
       "      <td>NaN</td>\n",
       "      <td>NaN</td>\n",
       "      <td>NaN</td>\n",
       "    </tr>\n",
       "    <tr>\n",
       "      <th>1</th>\n",
       "      <td>1</td>\n",
       "      <td>[]</td>\n",
       "      <td>False</td>\n",
       "      <td>IowaFarmboy</td>\n",
       "      <td>NaN</td>\n",
       "      <td>[]</td>\n",
       "      <td>NaN</td>\n",
       "      <td>text</td>\n",
       "      <td>t2_a90rg</td>\n",
       "      <td>False</td>\n",
       "      <td>...</td>\n",
       "      <td>NaN</td>\n",
       "      <td>NaN</td>\n",
       "      <td>NaN</td>\n",
       "      <td>NaN</td>\n",
       "      <td>NaN</td>\n",
       "      <td>NaN</td>\n",
       "      <td>NaN</td>\n",
       "      <td>NaN</td>\n",
       "      <td>NaN</td>\n",
       "      <td>NaN</td>\n",
       "    </tr>\n",
       "    <tr>\n",
       "      <th>2</th>\n",
       "      <td>2</td>\n",
       "      <td>[]</td>\n",
       "      <td>False</td>\n",
       "      <td>[deleted]</td>\n",
       "      <td>NaN</td>\n",
       "      <td>NaN</td>\n",
       "      <td>NaN</td>\n",
       "      <td>NaN</td>\n",
       "      <td>NaN</td>\n",
       "      <td>NaN</td>\n",
       "      <td>...</td>\n",
       "      <td>NaN</td>\n",
       "      <td>NaN</td>\n",
       "      <td>NaN</td>\n",
       "      <td>NaN</td>\n",
       "      <td>NaN</td>\n",
       "      <td>NaN</td>\n",
       "      <td>NaN</td>\n",
       "      <td>NaN</td>\n",
       "      <td>NaN</td>\n",
       "      <td>NaN</td>\n",
       "    </tr>\n",
       "    <tr>\n",
       "      <th>3</th>\n",
       "      <td>3</td>\n",
       "      <td>[]</td>\n",
       "      <td>False</td>\n",
       "      <td>[deleted]</td>\n",
       "      <td>NaN</td>\n",
       "      <td>NaN</td>\n",
       "      <td>NaN</td>\n",
       "      <td>NaN</td>\n",
       "      <td>NaN</td>\n",
       "      <td>NaN</td>\n",
       "      <td>...</td>\n",
       "      <td>NaN</td>\n",
       "      <td>NaN</td>\n",
       "      <td>NaN</td>\n",
       "      <td>NaN</td>\n",
       "      <td>NaN</td>\n",
       "      <td>NaN</td>\n",
       "      <td>NaN</td>\n",
       "      <td>NaN</td>\n",
       "      <td>NaN</td>\n",
       "      <td>NaN</td>\n",
       "    </tr>\n",
       "    <tr>\n",
       "      <th>4</th>\n",
       "      <td>4</td>\n",
       "      <td>[]</td>\n",
       "      <td>False</td>\n",
       "      <td>fullsendwrx</td>\n",
       "      <td>NaN</td>\n",
       "      <td>[]</td>\n",
       "      <td>NaN</td>\n",
       "      <td>text</td>\n",
       "      <td>t2_6iv0ud4t</td>\n",
       "      <td>False</td>\n",
       "      <td>...</td>\n",
       "      <td>NaN</td>\n",
       "      <td>NaN</td>\n",
       "      <td>NaN</td>\n",
       "      <td>NaN</td>\n",
       "      <td>NaN</td>\n",
       "      <td>NaN</td>\n",
       "      <td>NaN</td>\n",
       "      <td>NaN</td>\n",
       "      <td>NaN</td>\n",
       "      <td>NaN</td>\n",
       "    </tr>\n",
       "    <tr>\n",
       "      <th>...</th>\n",
       "      <td>...</td>\n",
       "      <td>...</td>\n",
       "      <td>...</td>\n",
       "      <td>...</td>\n",
       "      <td>...</td>\n",
       "      <td>...</td>\n",
       "      <td>...</td>\n",
       "      <td>...</td>\n",
       "      <td>...</td>\n",
       "      <td>...</td>\n",
       "      <td>...</td>\n",
       "      <td>...</td>\n",
       "      <td>...</td>\n",
       "      <td>...</td>\n",
       "      <td>...</td>\n",
       "      <td>...</td>\n",
       "      <td>...</td>\n",
       "      <td>...</td>\n",
       "      <td>...</td>\n",
       "      <td>...</td>\n",
       "      <td>...</td>\n",
       "    </tr>\n",
       "    <tr>\n",
       "      <th>577746</th>\n",
       "      <td>77086</td>\n",
       "      <td>[]</td>\n",
       "      <td>False</td>\n",
       "      <td>[deleted]</td>\n",
       "      <td>NaN</td>\n",
       "      <td>NaN</td>\n",
       "      <td>NaN</td>\n",
       "      <td>NaN</td>\n",
       "      <td>NaN</td>\n",
       "      <td>NaN</td>\n",
       "      <td>...</td>\n",
       "      <td>NaN</td>\n",
       "      <td>NaN</td>\n",
       "      <td>NaN</td>\n",
       "      <td>NaN</td>\n",
       "      <td>NaN</td>\n",
       "      <td>NaN</td>\n",
       "      <td>NaN</td>\n",
       "      <td>NaN</td>\n",
       "      <td>NaN</td>\n",
       "      <td>NaN</td>\n",
       "    </tr>\n",
       "    <tr>\n",
       "      <th>577747</th>\n",
       "      <td>77087</td>\n",
       "      <td>[]</td>\n",
       "      <td>False</td>\n",
       "      <td>Homemadeduck102</td>\n",
       "      <td>NaN</td>\n",
       "      <td>[]</td>\n",
       "      <td>NaN</td>\n",
       "      <td>text</td>\n",
       "      <td>t2_2x3h512q</td>\n",
       "      <td>False</td>\n",
       "      <td>...</td>\n",
       "      <td>NaN</td>\n",
       "      <td>NaN</td>\n",
       "      <td>NaN</td>\n",
       "      <td>NaN</td>\n",
       "      <td>NaN</td>\n",
       "      <td>NaN</td>\n",
       "      <td>NaN</td>\n",
       "      <td>NaN</td>\n",
       "      <td>NaN</td>\n",
       "      <td>NaN</td>\n",
       "    </tr>\n",
       "    <tr>\n",
       "      <th>577748</th>\n",
       "      <td>77088</td>\n",
       "      <td>[]</td>\n",
       "      <td>False</td>\n",
       "      <td>Popular-Ad1061</td>\n",
       "      <td>NaN</td>\n",
       "      <td>[]</td>\n",
       "      <td>NaN</td>\n",
       "      <td>text</td>\n",
       "      <td>t2_a0fxbhey</td>\n",
       "      <td>False</td>\n",
       "      <td>...</td>\n",
       "      <td>NaN</td>\n",
       "      <td>NaN</td>\n",
       "      <td>NaN</td>\n",
       "      <td>NaN</td>\n",
       "      <td>NaN</td>\n",
       "      <td>NaN</td>\n",
       "      <td>NaN</td>\n",
       "      <td>NaN</td>\n",
       "      <td>NaN</td>\n",
       "      <td>NaN</td>\n",
       "    </tr>\n",
       "    <tr>\n",
       "      <th>577749</th>\n",
       "      <td>77089</td>\n",
       "      <td>[]</td>\n",
       "      <td>False</td>\n",
       "      <td>GeneralKoei</td>\n",
       "      <td>NaN</td>\n",
       "      <td>[]</td>\n",
       "      <td>NaN</td>\n",
       "      <td>text</td>\n",
       "      <td>t2_1hxaim08</td>\n",
       "      <td>False</td>\n",
       "      <td>...</td>\n",
       "      <td>NaN</td>\n",
       "      <td>NaN</td>\n",
       "      <td>NaN</td>\n",
       "      <td>NaN</td>\n",
       "      <td>NaN</td>\n",
       "      <td>NaN</td>\n",
       "      <td>NaN</td>\n",
       "      <td>NaN</td>\n",
       "      <td>NaN</td>\n",
       "      <td>NaN</td>\n",
       "    </tr>\n",
       "    <tr>\n",
       "      <th>577750</th>\n",
       "      <td>77090</td>\n",
       "      <td>[]</td>\n",
       "      <td>False</td>\n",
       "      <td>PuzzleheadedWar9523</td>\n",
       "      <td>NaN</td>\n",
       "      <td>[]</td>\n",
       "      <td>NaN</td>\n",
       "      <td>text</td>\n",
       "      <td>t2_4dp8sdug</td>\n",
       "      <td>False</td>\n",
       "      <td>...</td>\n",
       "      <td>NaN</td>\n",
       "      <td>NaN</td>\n",
       "      <td>NaN</td>\n",
       "      <td>NaN</td>\n",
       "      <td>NaN</td>\n",
       "      <td>NaN</td>\n",
       "      <td>NaN</td>\n",
       "      <td>NaN</td>\n",
       "      <td>NaN</td>\n",
       "      <td>NaN</td>\n",
       "    </tr>\n",
       "  </tbody>\n",
       "</table>\n",
       "<p>577751 rows × 109 columns</p>\n",
       "</div>"
      ],
      "text/plain": [
       "        Unnamed: 0 all_awardings  allow_live_comments               author  \\\n",
       "0                0            []                False         BigJoeBalliN   \n",
       "1                1            []                False          IowaFarmboy   \n",
       "2                2            []                False            [deleted]   \n",
       "3                3            []                False            [deleted]   \n",
       "4                4            []                False          fullsendwrx   \n",
       "...            ...           ...                  ...                  ...   \n",
       "577746       77086            []                False            [deleted]   \n",
       "577747       77087            []                False      Homemadeduck102   \n",
       "577748       77088            []                False       Popular-Ad1061   \n",
       "577749       77089            []                False          GeneralKoei   \n",
       "577750       77090            []                False  PuzzleheadedWar9523   \n",
       "\n",
       "       author_flair_css_class author_flair_richtext author_flair_text  \\\n",
       "0                         NaN                    []               NaN   \n",
       "1                         NaN                    []               NaN   \n",
       "2                         NaN                   NaN               NaN   \n",
       "3                         NaN                   NaN               NaN   \n",
       "4                         NaN                    []               NaN   \n",
       "...                       ...                   ...               ...   \n",
       "577746                    NaN                   NaN               NaN   \n",
       "577747                    NaN                    []               NaN   \n",
       "577748                    NaN                    []               NaN   \n",
       "577749                    NaN                    []               NaN   \n",
       "577750                    NaN                    []               NaN   \n",
       "\n",
       "       author_flair_type author_fullname author_patreon_flair  ...  \\\n",
       "0                   text     t2_5j3h8cg2                False  ...   \n",
       "1                   text        t2_a90rg                False  ...   \n",
       "2                    NaN             NaN                  NaN  ...   \n",
       "3                    NaN             NaN                  NaN  ...   \n",
       "4                   text     t2_6iv0ud4t                False  ...   \n",
       "...                  ...             ...                  ...  ...   \n",
       "577746               NaN             NaN                  NaN  ...   \n",
       "577747              text     t2_2x3h512q                False  ...   \n",
       "577748              text     t2_a0fxbhey                False  ...   \n",
       "577749              text     t2_1hxaim08                False  ...   \n",
       "577750              text     t2_4dp8sdug                False  ...   \n",
       "\n",
       "       gallery_data rpan_video  collections  is_created_from_ads_ui  \\\n",
       "0               NaN        NaN          NaN                     NaN   \n",
       "1               NaN        NaN          NaN                     NaN   \n",
       "2               NaN        NaN          NaN                     NaN   \n",
       "3               NaN        NaN          NaN                     NaN   \n",
       "4               NaN        NaN          NaN                     NaN   \n",
       "...             ...        ...          ...                     ...   \n",
       "577746          NaN        NaN          NaN                     NaN   \n",
       "577747          NaN        NaN          NaN                     NaN   \n",
       "577748          NaN        NaN          NaN                     NaN   \n",
       "577749          NaN        NaN          NaN                     NaN   \n",
       "577750          NaN        NaN          NaN                     NaN   \n",
       "\n",
       "        event_end event_is_live event_start author_is_blocked category  \\\n",
       "0             NaN           NaN         NaN               NaN      NaN   \n",
       "1             NaN           NaN         NaN               NaN      NaN   \n",
       "2             NaN           NaN         NaN               NaN      NaN   \n",
       "3             NaN           NaN         NaN               NaN      NaN   \n",
       "4             NaN           NaN         NaN               NaN      NaN   \n",
       "...           ...           ...         ...               ...      ...   \n",
       "577746        NaN           NaN         NaN               NaN      NaN   \n",
       "577747        NaN           NaN         NaN               NaN      NaN   \n",
       "577748        NaN           NaN         NaN               NaN      NaN   \n",
       "577749        NaN           NaN         NaN               NaN      NaN   \n",
       "577750        NaN           NaN         NaN               NaN      NaN   \n",
       "\n",
       "        is_survey_ad  \n",
       "0                NaN  \n",
       "1                NaN  \n",
       "2                NaN  \n",
       "3                NaN  \n",
       "4                NaN  \n",
       "...              ...  \n",
       "577746           NaN  \n",
       "577747           NaN  \n",
       "577748           NaN  \n",
       "577749           NaN  \n",
       "577750           NaN  \n",
       "\n",
       "[577751 rows x 109 columns]"
      ]
     },
     "execution_count": 153,
     "metadata": {},
     "output_type": "execute_result"
    }
   ],
   "source": [
    "df"
   ]
  },
  {
   "cell_type": "code",
   "execution_count": 154,
   "id": "96f399f0",
   "metadata": {},
   "outputs": [],
   "source": [
    "vader = SentimentIntensityAnalyzer()\n",
    "# adding custom words from data.py\n",
    "score = vader.polarity_scores(\"I am totlly bull on GME\")"
   ]
  },
  {
   "cell_type": "code",
   "execution_count": 155,
   "id": "66337686",
   "metadata": {},
   "outputs": [
    {
     "data": {
      "text/plain": [
       "0.0"
      ]
     },
     "execution_count": 155,
     "metadata": {},
     "output_type": "execute_result"
    }
   ],
   "source": [
    "score[\"compound\"]"
   ]
  },
  {
   "cell_type": "code",
   "execution_count": null,
   "id": "e8d55ebd",
   "metadata": {},
   "outputs": [],
   "source": []
  },
  {
   "cell_type": "code",
   "execution_count": 156,
   "id": "99ac8afc",
   "metadata": {},
   "outputs": [],
   "source": [
    "df[\"sentiment\"] = df.title.apply(lambda x : vader.polarity_scores(x)[\"compound\"])"
   ]
  },
  {
   "cell_type": "code",
   "execution_count": 157,
   "id": "de56be92",
   "metadata": {},
   "outputs": [],
   "source": [
    "df[\"Date\"] = df.created_utc.apply(lambda row: utc_to_string(row))"
   ]
  },
  {
   "cell_type": "code",
   "execution_count": 160,
   "id": "4fa62ec7",
   "metadata": {},
   "outputs": [],
   "source": [
    "df = df[df.Date <= \"2021-07-01\"]\n",
    "df = df[df.Date >= \"2020-09-01\"]"
   ]
  },
  {
   "cell_type": "code",
   "execution_count": 161,
   "id": "32dbf0ca",
   "metadata": {},
   "outputs": [
    {
     "data": {
      "text/plain": [
       "<AxesSubplot:xlabel='Date'>"
      ]
     },
     "execution_count": 161,
     "metadata": {},
     "output_type": "execute_result"
    },
    {
     "data": {
      "image/png": "[encoded data removed]",
      "text/plain": [
       "<Figure size 720x288 with 1 Axes>"
      ]
     },
     "metadata": {
      "needs_background": "light"
     },
     "output_type": "display_data"
    }
   ],
   "source": [
    "df.groupby(\"Date\")[\"sentiment\"].mean().plot()"
   ]
  },
  {
   "cell_type": "code",
   "execution_count": null,
   "id": "c5b4176b",
   "metadata": {},
   "outputs": [],
   "source": []
  },
  {
   "cell_type": "code",
   "execution_count": null,
   "id": "42a3b163",
   "metadata": {},
   "outputs": [],
   "source": []
  },
  {
   "cell_type": "code",
   "execution_count": null,
   "id": "f2f0b350",
   "metadata": {},
   "outputs": [],
   "source": []
  },
  {
   "cell_type": "code",
   "execution_count": null,
   "id": "b0bea0a8",
   "metadata": {},
   "outputs": [],
   "source": []
  },
  {
   "cell_type": "markdown",
   "id": "1583d45b",
   "metadata": {},
   "source": [
    "## Count Posts"
   ]
  },
  {
   "cell_type": "code",
   "execution_count": 21,
   "id": "4939e14e",
   "metadata": {},
   "outputs": [],
   "source": [
    "date_count = wsb_gme_data.groupby(\"Date\")[\"id\"].count().reset_index()"
   ]
  },
  {
   "cell_type": "markdown",
   "id": "fb21dfa8",
   "metadata": {},
   "source": [
    "## Plot Sentiment"
   ]
  },
  {
   "cell_type": "code",
   "execution_count": 1334,
   "id": "ad042943",
   "metadata": {},
   "outputs": [],
   "source": [
    "merge = date_sentiment.merge(gme_data)"
   ]
  },
  {
   "cell_type": "code",
   "execution_count": 325,
   "id": "5201b25d",
   "metadata": {},
   "outputs": [],
   "source": [
    "merge = merge[merge[\"Date\"] >= \"2021-01-01\"]\n",
    "merge = merge[merge[\"Date\"] <= \"2021-03-01\"]"
   ]
  },
  {
   "cell_type": "code",
   "execution_count": 143,
   "id": "aaa3ef09",
   "metadata": {},
   "outputs": [],
   "source": []
  },
  {
   "cell_type": "code",
   "execution_count": null,
   "id": "54aa5277",
   "metadata": {},
   "outputs": [],
   "source": [
    "merge[\"volume\"] = merge[\"volume\"].apply(lambda x : 0.5 *(x))"
   ]
  },
  {
   "cell_type": "code",
   "execution_count": 66,
   "id": "cc3246f7",
   "metadata": {},
   "outputs": [],
   "source": [
    "merge[\"sentiment\"] = merge[\"sentiment\"].apply(lambda x : x*1000000000)"
   ]
  },
  {
   "cell_type": "code",
   "execution_count": null,
   "id": "8682637d",
   "metadata": {},
   "outputs": [],
   "source": [
    "merge[\"return\"] = merge[\"return\"].apply(lambda x : take_log(x))"
   ]
  },
  {
   "cell_type": "code",
   "execution_count": null,
   "id": "8c0996fa",
   "metadata": {},
   "outputs": [],
   "source": [
    "merge[\"high\"] = merge[\"high\"].apply(lambda x : 10 * (x))"
   ]
  },
  {
   "cell_type": "code",
   "execution_count": 1335,
   "id": "6f40c566",
   "metadata": {
    "scrolled": true
   },
   "outputs": [
    {
     "data": {
      "text/plain": [
       "<AxesSubplot:xlabel='Date'>"
      ]
     },
     "execution_count": 1335,
     "metadata": {},
     "output_type": "execute_result"
    },
    {
     "data": {
      "image/png": "[encoded data removed]",
      "text/plain": [
       "<Figure size 1152x288 with 1 Axes>"
      ]
     },
     "metadata": {
      "needs_background": "light"
     },
     "output_type": "display_data"
    }
   ],
   "source": [
    "merge.groupby(\"Date\")[\"sentiment\"].sum().plot(figsize=(16,4))\n",
    "#merge.groupby(\"Date\")[\"volume\"].sum().plot(figsize=(16,4))\n",
    "#merge.groupby(\"Date\")[\"volume\"].sum().plot(figsize=(16,4))\n",
    "#merge.groupby(\"Date\")[\"high\"].sum().plot(figsize=(16,4))"
   ]
  },
  {
   "cell_type": "code",
   "execution_count": 328,
   "id": "07488d95",
   "metadata": {
    "scrolled": false
   },
   "outputs": [
    {
     "data": {
      "text/plain": [
       "[<matplotlib.lines.Line2D at 0x29d73e3a470>]"
      ]
     },
     "execution_count": 328,
     "metadata": {},
     "output_type": "execute_result"
    },
    {
     "data": {
      "image/png": "[encoded data removed]",
      "text/plain": [
       "<Figure size 432x288 with 1 Axes>"
      ]
     },
     "metadata": {
      "needs_background": "light"
     },
     "output_type": "display_data"
    }
   ],
   "source": [
    "import numpy as np\n",
    "import matplotlib.pyplot as plt\n",
    "\n",
    "#define data\n",
    "x = np.array(merge[\"sentiment\"])\n",
    "y = np.array(merge[\"return\"])\n",
    "\n",
    "#find line of best fit\n",
    "a, b = np.polyfit(x, y, 1)\n",
    "\n",
    "#add points to plot\n",
    "plt.scatter(x, y)\n",
    "\n",
    "#add line of best fit to plot\n",
    "plt.plot(x, a*x+b) "
   ]
  },
  {
   "cell_type": "code",
   "execution_count": 1491,
   "id": "75c2ded0",
   "metadata": {},
   "outputs": [
    {
     "name": "stdout",
     "output_type": "stream",
     "text": [
      "                            OLS Regression Results                            \n",
      "==============================================================================\n",
      "Dep. Variable:                 return   R-squared:                       0.000\n",
      "Model:                            OLS   Adj. R-squared:                 -0.020\n",
      "Method:                 Least Squares   F-statistic:                 0.0003084\n",
      "Date:                Tue, 28 Jun 2022   Prob (F-statistic):              0.986\n",
      "Time:                        14:05:35   Log-Likelihood:                -16.675\n",
      "No. Observations:                  53   AIC:                             37.35\n",
      "Df Residuals:                      51   BIC:                             41.29\n",
      "Df Model:                           1                                         \n",
      "Covariance Type:            nonrobust                                         \n",
      "==============================================================================\n",
      "                 coef    std err          t      P>|t|      [0.025      0.975]\n",
      "------------------------------------------------------------------------------\n",
      "const          0.0938      0.083      1.129      0.264      -0.073       0.261\n",
      "sentiment     -0.0120      0.683     -0.018      0.986      -1.383       1.359\n",
      "==============================================================================\n",
      "Omnibus:                       27.798   Durbin-Watson:                   1.837\n",
      "Prob(Omnibus):                  0.000   Jarque-Bera (JB):               55.992\n",
      "Skew:                           1.591   Prob(JB):                     6.94e-13\n",
      "Kurtosis:                       6.903   Cond. No.                         14.9\n",
      "==============================================================================\n",
      "\n",
      "Notes:\n",
      "[1] Standard Errors assume that the covariance matrix of the errors is correctly specified.\n"
     ]
    }
   ],
   "source": [
    "import pandas as pd\n",
    "import numpy as np\n",
    "from sklearn import datasets, linear_model\n",
    "from sklearn.linear_model import LinearRegression\n",
    "import statsmodels.api as sm\n",
    "from scipy import stats\n",
    "\n",
    "X = merge[\"sentiment\"]\n",
    "y = merge[\"return\"]\n",
    "\n",
    "X2 = sm.add_constant(X)\n",
    "est = sm.OLS(y, X2)\n",
    "est2 = est.fit()\n",
    "print(est2.summary())"
   ]
  },
  {
   "cell_type": "markdown",
   "id": "7c0965c8",
   "metadata": {},
   "source": [
    "## Plot count"
   ]
  },
  {
   "cell_type": "code",
   "execution_count": 35,
   "id": "70be3f22",
   "metadata": {},
   "outputs": [],
   "source": [
    "word = \"buy\""
   ]
  },
  {
   "cell_type": "code",
   "execution_count": 36,
   "id": "d8441af6",
   "metadata": {},
   "outputs": [],
   "source": [
    "gme_df = gme_data.copy()\n",
    "wsb_df = wsb_gme_data.copy()"
   ]
  },
  {
   "cell_type": "code",
   "execution_count": 37,
   "id": "b9b9e9b9",
   "metadata": {},
   "outputs": [],
   "source": [
    "# Achtung um ein Tag verschieben:\n",
    "def addDay(row):\n",
    "    day = row[\"Date\"]\n",
    "    date = datetime.strptime(day, '%Y-%m-%d') + dt.timedelta(days=1)\n",
    "    return str(date)[:-9]\n",
    "\n",
    "wsb_df[\"Date\"] = wsb_df.apply(lambda row : addDay(row), axis = 1)"
   ]
  },
  {
   "cell_type": "code",
   "execution_count": 38,
   "id": "8ece79e9",
   "metadata": {},
   "outputs": [],
   "source": [
    "wsb_df = wsb_df[wsb_df[\"Date\"] >= \"2021-01-01\"]\n",
    "wsb_df = wsb_df[wsb_df[\"Date\"] <= \"2021-03-01\"]"
   ]
  },
  {
   "cell_type": "code",
   "execution_count": 39,
   "id": "04e6070d",
   "metadata": {},
   "outputs": [],
   "source": [
    "dates = wsb_df[\"Date\"]\n",
    "date_dict = {}\n",
    "\n",
    "for date in dates:\n",
    "    date_dict[date] = 0"
   ]
  },
  {
   "cell_type": "code",
   "execution_count": 40,
   "id": "85dbe623",
   "metadata": {},
   "outputs": [],
   "source": [
    "word = \"\"\n",
    "for index, row in wsb_df.iterrows():\n",
    "    title = row[\"title\"]\n",
    "    text = row[\"selftext\"]\n",
    "    date = row[\"Date\"]\n",
    "    \n",
    "    if word in title:\n",
    "        date_dict[date] += 1\n",
    "    elif type(text) == str and word in text:\n",
    "        date_dict[date] += 1\n",
    "\n",
    "    \n",
    "\n",
    "gme_df[\"count\"] = gme_df.Date.apply(lambda date : date_dict[date] if date in date_dict else 0)\n",
    "gme_df = gme_df[gme_df[\"Date\"] >= \"2021-01-01\"]\n",
    "gme_df = gme_df[gme_df[\"Date\"] <= \"2021-03-01\"]"
   ]
  },
  {
   "cell_type": "code",
   "execution_count": 317,
   "id": "64c61921",
   "metadata": {},
   "outputs": [],
   "source": [
    "gme_df[\"count\"] = gme_df[\"count\"].apply(lambda x : x/10.0)"
   ]
  },
  {
   "cell_type": "code",
   "execution_count": 41,
   "id": "8e4b6dcf",
   "metadata": {
    "scrolled": false
   },
   "outputs": [
    {
     "data": {
      "text/plain": [
       "<AxesSubplot:xlabel='Date'>"
      ]
     },
     "execution_count": 41,
     "metadata": {},
     "output_type": "execute_result"
    },
    {
     "data": {
      "image/png": "[encoded data removed]",
      "text/plain": [
       "<Figure size 1152x288 with 1 Axes>"
      ]
     },
     "metadata": {
      "needs_background": "light"
     },
     "output_type": "display_data"
    }
   ],
   "source": [
    "gme_df.groupby(\"Date\")[\"count\"].sum().plot(figsize=(16,4))\n",
    "#gme_df.groupby(\"Date\")[\"word_count\"].sum().plot(figsize=(16,4))"
   ]
  },
  {
   "cell_type": "code",
   "execution_count": null,
   "id": "b4e0597f",
   "metadata": {},
   "outputs": [],
   "source": [
    "# Achtung um ein Tag verschieben:\n",
    "def addDay(row):\n",
    "    day = row[\"Date\"]\n",
    "    date = datetime.strptime(day, '%Y-%m-%d') + dt.timedelta(days=1)\n",
    "    return str(date)[:-9]\n",
    "\n",
    "date_sentiment[\"Date\"] = date_sentiment.apply(lambda row : addDay(row), axis = 1)"
   ]
  },
  {
   "cell_type": "code",
   "execution_count": 42,
   "id": "9dc3862b",
   "metadata": {
    "scrolled": true
   },
   "outputs": [
    {
     "data": {
      "text/plain": [
       "<matplotlib.collections.PathCollection at 0x29d122b7670>"
      ]
     },
     "execution_count": 42,
     "metadata": {},
     "output_type": "execute_result"
    },
    {
     "data": {
      "image/png": "[encoded data removed]",
      "text/plain": [
       "<Figure size 432x288 with 1 Axes>"
      ]
     },
     "metadata": {
      "needs_background": "light"
     },
     "output_type": "display_data"
    }
   ],
   "source": [
    "matplotlib.pyplot.scatter(x = gme_df[\"count\"], y = gme_df[\"close\"])"
   ]
  },
  {
   "cell_type": "code",
   "execution_count": 43,
   "id": "4ea73266",
   "metadata": {
    "collapsed": true
   },
   "outputs": [
    {
     "name": "stdout",
     "output_type": "stream",
     "text": [
      "                            OLS Regression Results                            \n",
      "==============================================================================\n",
      "Dep. Variable:                  close   R-squared:                       0.329\n",
      "Model:                            OLS   Adj. R-squared:                  0.311\n",
      "Method:                 Least Squares   F-statistic:                     18.16\n",
      "Date:                Sun, 26 Jun 2022   Prob (F-statistic):           0.000134\n",
      "Time:                        20:32:44   Log-Likelihood:                -216.23\n",
      "No. Observations:                  39   AIC:                             436.5\n",
      "Df Residuals:                      37   BIC:                             439.8\n",
      "Df Model:                           1                                         \n",
      "Covariance Type:            nonrobust                                         \n",
      "==============================================================================\n",
      "                 coef    std err          t      P>|t|      [0.025      0.975]\n",
      "------------------------------------------------------------------------------\n",
      "const         57.0616     11.174      5.107      0.000      34.421      79.702\n",
      "count          0.0466      0.011      4.262      0.000       0.024       0.069\n",
      "==============================================================================\n",
      "Omnibus:                       49.001   Durbin-Watson:                   1.334\n",
      "Prob(Omnibus):                  0.000   Jarque-Bera (JB):              229.831\n",
      "Skew:                           2.986   Prob(JB):                     1.24e-50\n",
      "Kurtosis:                      13.284   Cond. No.                     1.12e+03\n",
      "==============================================================================\n",
      "\n",
      "Notes:\n",
      "[1] Standard Errors assume that the covariance matrix of the errors is correctly specified.\n",
      "[2] The condition number is large, 1.12e+03. This might indicate that there are\n",
      "strong multicollinearity or other numerical problems.\n"
     ]
    }
   ],
   "source": [
    "import pandas as pd\n",
    "import numpy as np\n",
    "from sklearn import datasets, linear_model\n",
    "from sklearn.linear_model import LinearRegression\n",
    "import statsmodels.api as sm\n",
    "from scipy import stats\n",
    "\n",
    "diabetes = datasets.load_diabetes()\n",
    "X = gme_df[\"count\"]\n",
    "y = gme_df[\"close\"]\n",
    "\n",
    "X2 = sm.add_constant(X)\n",
    "est = sm.OLS(y, X2)\n",
    "est2 = est.fit()\n",
    "print(est2.summary())"
   ]
  },
  {
   "cell_type": "markdown",
   "id": "84e3b951",
   "metadata": {},
   "source": [
    "## relative frequency"
   ]
  },
  {
   "cell_type": "code",
   "execution_count": 586,
   "id": "9464521f",
   "metadata": {},
   "outputs": [],
   "source": [
    "# significant results: buy -> close, open, return\n",
    "# squeeze -> close\n",
    "# invest -> return"
   ]
  },
  {
   "cell_type": "markdown",
   "id": "f041925a",
   "metadata": {},
   "source": [
    "## New Users"
   ]
  },
  {
   "cell_type": "code",
   "execution_count": 428,
   "id": "b08e2c8f",
   "metadata": {},
   "outputs": [],
   "source": [
    "gme_df = gme_data.copy()\n",
    "wsb_df = wsb_gme_data.copy()"
   ]
  },
  {
   "cell_type": "code",
   "execution_count": 432,
   "id": "095b6423",
   "metadata": {
    "collapsed": true
   },
   "outputs": [
    {
     "data": {
      "text/plain": [
       "array(['2020-12-31', '2021-01-01', '2021-01-02', '2021-01-03',\n",
       "       '2021-01-04', '2021-01-05', '2021-01-06', '2021-01-07',\n",
       "       '2021-01-08', '2021-01-09', '2021-01-10', '2021-01-11',\n",
       "       '2021-01-12', '2021-01-13', '2021-01-14', '2021-01-15',\n",
       "       '2021-01-16', '2021-01-17', '2021-01-18', '2021-01-19',\n",
       "       '2021-01-20', '2021-01-21', '2021-01-22', '2021-01-23',\n",
       "       '2021-01-24', '2021-01-25', '2021-01-26', '2021-01-27',\n",
       "       '2021-01-28', '2021-01-29', '2021-01-30', '2021-01-31',\n",
       "       '2021-02-01', '2021-02-02', '2021-02-03', '2021-02-04',\n",
       "       '2021-02-07', '2021-02-08', '2021-02-09', '2021-02-10',\n",
       "       '2021-02-11', '2021-02-12', '2021-02-13', '2021-02-14',\n",
       "       '2021-02-15', '2021-02-16', '2021-02-17', '2021-02-18',\n",
       "       '2021-02-19', '2021-02-20', '2021-02-21', '2021-02-22',\n",
       "       '2021-02-23', '2021-02-24', '2021-02-25', '2021-02-26',\n",
       "       '2021-02-27', '2021-02-28', '2021-03-02', '2021-03-03',\n",
       "       '2021-03-04', '2021-03-05', '2021-03-07', '2021-03-08',\n",
       "       '2021-03-09', '2021-03-10', '2021-03-11', '2021-03-12',\n",
       "       '2021-03-13', '2021-03-14', '2021-03-15', '2021-03-16',\n",
       "       '2021-03-17', '2021-03-27', '2021-03-28', '2021-03-29',\n",
       "       '2021-03-30', '2021-03-31'], dtype=object)"
      ]
     },
     "execution_count": 432,
     "metadata": {},
     "output_type": "execute_result"
    }
   ],
   "source": [
    "dates = wsb_df[\"Date\"].unique()\n",
    "dates"
   ]
  },
  {
   "cell_type": "code",
   "execution_count": 438,
   "id": "4740159a",
   "metadata": {
    "collapsed": true
   },
   "outputs": [
    {
     "name": "stdout",
     "output_type": "stream",
     "text": [
      "2020-12-31\n",
      "2021-01-01\n",
      "2021-01-02\n",
      "2021-01-03\n",
      "2021-01-04\n",
      "2021-01-05\n",
      "2021-01-06\n",
      "2021-01-07\n",
      "2021-01-08\n",
      "2021-01-09\n",
      "2021-01-10\n",
      "2021-01-11\n",
      "2021-01-12\n",
      "2021-01-13\n",
      "2021-01-14\n",
      "2021-01-15\n",
      "2021-01-16\n",
      "2021-01-17\n",
      "2021-01-18\n",
      "2021-01-19\n",
      "2021-01-20\n",
      "2021-01-21\n",
      "2021-01-22\n",
      "2021-01-23\n",
      "2021-01-24\n",
      "2021-01-25\n",
      "2021-01-26\n",
      "2021-01-27\n",
      "2021-01-28\n",
      "2021-01-29\n",
      "2021-01-30\n",
      "2021-01-31\n",
      "2021-02-01\n",
      "2021-02-02\n",
      "2021-02-03\n",
      "2021-02-04\n",
      "2021-02-07\n",
      "2021-02-08\n",
      "2021-02-09\n",
      "2021-02-10\n",
      "2021-02-11\n",
      "2021-02-12\n",
      "2021-02-13\n",
      "2021-02-14\n",
      "2021-02-15\n",
      "2021-02-16\n",
      "2021-02-17\n",
      "2021-02-18\n",
      "2021-02-19\n",
      "2021-02-20\n",
      "2021-02-21\n",
      "2021-02-22\n",
      "2021-02-23\n",
      "2021-02-24\n",
      "2021-02-25\n",
      "2021-02-26\n",
      "2021-02-27\n",
      "2021-02-28\n",
      "2021-03-02\n",
      "2021-03-03\n",
      "2021-03-04\n",
      "2021-03-05\n",
      "2021-03-07\n",
      "2021-03-08\n",
      "2021-03-09\n",
      "2021-03-10\n",
      "2021-03-11\n",
      "2021-03-12\n",
      "2021-03-13\n",
      "2021-03-14\n",
      "2021-03-15\n",
      "2021-03-16\n",
      "2021-03-17\n",
      "2021-03-27\n",
      "2021-03-28\n",
      "2021-03-29\n",
      "2021-03-30\n",
      "2021-03-31\n"
     ]
    }
   ],
   "source": [
    "dates = wsb_df[\"Date\"].unique()\n",
    "all_authors = {}\n",
    "dates_dict = {}\n",
    "\n",
    "for d in dates:\n",
    "    counter = 0\n",
    "    for index, row in wsb_df.iterrows():\n",
    "        \n",
    "        author = row[\"author\"]\n",
    "        date = row[\"Date\"]\n",
    "        if date == d:\n",
    "            if author not in all_authors:\n",
    "                all_authors[author] = 1\n",
    "                counter += 1\n",
    "        \n",
    "    dates_dict[d] = counter\n",
    "    print(d)"
   ]
  },
  {
   "cell_type": "code",
   "execution_count": 1267,
   "id": "e9743947",
   "metadata": {},
   "outputs": [],
   "source": [
    "df = pd.DataFrame()\n",
    "for date in dates:\n",
    "    day = {}\n",
    "    day[\"Date\"] = date\n",
    "    day[\"new\"] = dates_dict[date]\n",
    "    df = df.append(day, ignore_index=True)"
   ]
  },
  {
   "cell_type": "code",
   "execution_count": 1268,
   "id": "c9490ad8",
   "metadata": {
    "scrolled": true
   },
   "outputs": [
    {
     "data": {
      "text/plain": [
       "<AxesSubplot:>"
      ]
     },
     "execution_count": 1268,
     "metadata": {},
     "output_type": "execute_result"
    },
    {
     "data": {
      "image/png": "[encoded data removed]",
      "text/plain": [
       "<Figure size 432x288 with 1 Axes>"
      ]
     },
     "metadata": {
      "needs_background": "light"
     },
     "output_type": "display_data"
    }
   ],
   "source": [
    "df[\"new\"].plot()"
   ]
  },
  {
   "cell_type": "code",
   "execution_count": 1015,
   "id": "3ebefe2d",
   "metadata": {},
   "outputs": [
    {
     "data": {
      "text/plain": [
       "<AxesSubplot:>"
      ]
     },
     "execution_count": 1015,
     "metadata": {},
     "output_type": "execute_result"
    },
    {
     "data": {
      "image/png": "[encoded data removed]",
      "text/plain": [
       "<Figure size 432x288 with 1 Axes>"
      ]
     },
     "metadata": {
      "needs_background": "light"
     },
     "output_type": "display_data"
    }
   ],
   "source": [
    "merge[\"volume\"].hist()"
   ]
  },
  {
   "cell_type": "markdown",
   "id": "93a5e555",
   "metadata": {},
   "source": [
    "## compare comment sentiment to post sentiment"
   ]
  },
  {
   "cell_type": "code",
   "execution_count": 1017,
   "id": "4c6e659f",
   "metadata": {},
   "outputs": [
    {
     "name": "stderr",
     "output_type": "stream",
     "text": [
      "C:\\Users\\paulr\\AppData\\Local\\Programs\\Python\\Python310\\lib\\site-packages\\IPython\\core\\interactiveshell.py:3361: DtypeWarning: Columns (4,37,38,39,40,42,46,47,48,50) have mixed types.Specify dtype option on import or set low_memory=False.\n",
      "  exec(code_obj, self.user_global_ns, self.user_ns)\n"
     ]
    }
   ],
   "source": [
    "comments_df = pd.read_csv(\"./wsb_comments/c_wallstreetbets_full.csv\")"
   ]
  },
  {
   "cell_type": "code",
   "execution_count": 1024,
   "id": "b9cdc408",
   "metadata": {},
   "outputs": [],
   "source": [
    "comments_df = comments_df[~comments_df.body.isna()]"
   ]
  },
  {
   "cell_type": "code",
   "execution_count": 1026,
   "id": "6590f057",
   "metadata": {},
   "outputs": [],
   "source": [
    "def check_for_words_comments(row, words):\n",
    "    text = row[\"body\"]\n",
    "    \n",
    "    for word in words:\n",
    "        if(type(text) == str and word in text):\n",
    "            return True\n",
    "        \n",
    "    return False"
   ]
  },
  {
   "cell_type": "code",
   "execution_count": 1027,
   "id": "b3f7c82f",
   "metadata": {},
   "outputs": [],
   "source": [
    "words = [\"GME\", \"Gamestop\", \"game stop\", \"Game stop\"]\n",
    "\n",
    "comments_df[\"contains_gme\"] = comments_df.apply(lambda row : check_for_words_comments(row, words), axis = 1)\n",
    "comments_df = comments_df[comments_df[\"contains_gme\"]]"
   ]
  },
  {
   "cell_type": "code",
   "execution_count": 1037,
   "id": "777a398e",
   "metadata": {},
   "outputs": [
    {
     "data": {
      "text/plain": [
       "Index(['all_awardings', 'associated_award', 'author',\n",
       "       'author_flair_background_color', 'author_flair_css_class',\n",
       "       'author_flair_richtext', 'author_flair_template_id',\n",
       "       'author_flair_text', 'author_flair_text_color', 'author_flair_type',\n",
       "       'author_fullname', 'author_patreon_flair', 'author_premium', 'awarders',\n",
       "       'body', 'collapsed_because_crowd_control', 'comment_type',\n",
       "       'created_utc', 'gildings', 'id', 'is_submitter', 'link_id', 'locked',\n",
       "       'no_follow', 'parent_id', 'permalink', 'retrieved_on', 'score',\n",
       "       'send_replies', 'stickied', 'subreddit', 'subreddit_id',\n",
       "       'top_awarded_type', 'total_awards_received', 'treatment_tags',\n",
       "       'distinguished', 'author_cakeday', 'archived', 'body_sha1', 'can_gild',\n",
       "       'collapsed', 'collapsed_reason', 'collapsed_reason_code',\n",
       "       'controversiality', 'gilded', 'retrieved_utc', 'score_hidden',\n",
       "       'subreddit_name_prefixed', 'subreddit_type', 'edited', 'media_metadata',\n",
       "       'contains_gme', 'Date'],\n",
       "      dtype='object')"
      ]
     },
     "execution_count": 1037,
     "metadata": {},
     "output_type": "execute_result"
    }
   ],
   "source": [
    "comments_df.columns"
   ]
  },
  {
   "cell_type": "code",
   "execution_count": 1132,
   "id": "60f14443",
   "metadata": {},
   "outputs": [],
   "source": [
    "comments_df[\"Date\"] = comments_df.created_utc.apply(lambda row: utc_to_string(row))"
   ]
  },
  {
   "cell_type": "code",
   "execution_count": 1207,
   "id": "4ddb9f7f",
   "metadata": {},
   "outputs": [],
   "source": [
    "wsb_comments = comments_df.copy()"
   ]
  },
  {
   "cell_type": "code",
   "execution_count": 1136,
   "id": "748d34ad",
   "metadata": {},
   "outputs": [],
   "source": [
    "from nltk.sentiment.vader import SentimentIntensityAnalyzer as SIA"
   ]
  },
  {
   "cell_type": "code",
   "execution_count": 13,
   "id": "cff07d63",
   "metadata": {},
   "outputs": [],
   "source": [
    "new_words = {\n",
    "    \"🚀\": 2.0,\n",
    "    \"squeeze\": 2.0,\n",
    "    \"short\":2.0,\n",
    "    \"buy\": 2.0   \n",
    "}"
   ]
  },
  {
   "cell_type": "code",
   "execution_count": 1137,
   "id": "a0427258",
   "metadata": {},
   "outputs": [],
   "source": [
    "sia = SIA()"
   ]
  },
  {
   "cell_type": "code",
   "execution_count": 1138,
   "id": "ea734a9b",
   "metadata": {},
   "outputs": [],
   "source": [
    "sia.lexicon.update(new_words)"
   ]
  },
  {
   "cell_type": "code",
   "execution_count": 1222,
   "id": "5b5dfd12",
   "metadata": {},
   "outputs": [],
   "source": [
    "sent_dict = {}\n",
    "\n",
    "text_dict = {}\n",
    "\n",
    "for index, row in wsb_comments.iterrows():\n",
    "    comment_id = row[\"id\"]\n",
    "    post_text = row[\"body\"]\n",
    "    \n",
    "    if(type(post_text) == str and post_text not in [\"[removed]\", \"[deleted]\"]):\n",
    "        text_dict[comment_id] = sia.polarity_scores(post_text)[\"compound\"]\n",
    "    \n",
    "    "
   ]
  },
  {
   "cell_type": "code",
   "execution_count": 1208,
   "id": "f30592ec",
   "metadata": {},
   "outputs": [],
   "source": [
    "wsb_comments[\"sentiment\"] = wsb_comments.id.apply(lambda x : text_dict[x])"
   ]
  },
  {
   "cell_type": "code",
   "execution_count": 1209,
   "id": "c030f30a",
   "metadata": {},
   "outputs": [],
   "source": [
    "wsb_comments[\"parent_id\"] = wsb_comments[\"parent_id\"].apply(lambda x: x[3:] if type(x) == str else x )"
   ]
  },
  {
   "cell_type": "code",
   "execution_count": 1210,
   "id": "0c98c0b1",
   "metadata": {},
   "outputs": [],
   "source": [
    "sent_merge = wsb_gme_data.merge(wsb_comments, left_on=\"id\", right_on=\"parent_id\", how = \"inner\")"
   ]
  },
  {
   "cell_type": "code",
   "execution_count": 1212,
   "id": "da6b02fc",
   "metadata": {},
   "outputs": [],
   "source": [
    "sent_merge = sent_merge[~sent_merge[\"selftext\"].isna()]"
   ]
  },
  {
   "cell_type": "code",
   "execution_count": 1213,
   "id": "d40d3dab",
   "metadata": {},
   "outputs": [],
   "source": [
    "sent_merge = sent_merge[[\"Date_x\", \"sentiment_y\", \"sentiment_x\"]]"
   ]
  },
  {
   "cell_type": "code",
   "execution_count": 1214,
   "id": "009b0a12",
   "metadata": {},
   "outputs": [],
   "source": [
    "sent_merge[\"sent_difference\"] = sent_merge.apply(lambda row : row[\"sentiment_x\"] - row[\"sentiment_y\"], axis = 1)"
   ]
  },
  {
   "cell_type": "code",
   "execution_count": 1215,
   "id": "db669265",
   "metadata": {},
   "outputs": [],
   "source": [
    "sent_merge = sent_merge.groupby(\"Date_x\")[\"sent_difference\"].mean().reset_index()"
   ]
  },
  {
   "cell_type": "code",
   "execution_count": 1221,
   "id": "00ceb961",
   "metadata": {},
   "outputs": [
    {
     "data": {
      "text/plain": [
       "<AxesSubplot:>"
      ]
     },
     "execution_count": 1221,
     "metadata": {},
     "output_type": "execute_result"
    },
    {
     "data": {
      "image/png": "[encoded data removed]",
      "text/plain": [
       "<Figure size 432x288 with 1 Axes>"
      ]
     },
     "metadata": {
      "needs_background": "light"
     },
     "output_type": "display_data"
    }
   ],
   "source": [
    "sent_merge[\"sent_difference\"].plot()"
   ]
  },
  {
   "cell_type": "code",
   "execution_count": 1332,
   "id": "6f67c832",
   "metadata": {
    "scrolled": true
   },
   "outputs": [
    {
     "ename": "FileNotFoundError",
     "evalue": "[Errno 2] No such file or directory: '/kw_robinhood/kw_robinhood.csv'",
     "output_type": "error",
     "traceback": [
      "\u001b[1;31m---------------------------------------------------------------------------\u001b[0m",
      "\u001b[1;31mFileNotFoundError\u001b[0m                         Traceback (most recent call last)",
      "Input \u001b[1;32mIn [1332]\u001b[0m, in \u001b[0;36m<cell line: 1>\u001b[1;34m()\u001b[0m\n\u001b[1;32m----> 1\u001b[0m \u001b[43mpd\u001b[49m\u001b[38;5;241;43m.\u001b[39;49m\u001b[43mread_csv\u001b[49m\u001b[43m(\u001b[49m\u001b[38;5;124;43m\"\u001b[39;49m\u001b[38;5;124;43m/kw_robinhood/kw_robinhood.csv\u001b[39;49m\u001b[38;5;124;43m\"\u001b[39;49m\u001b[43m)\u001b[49m\n",
      "File \u001b[1;32m~\\AppData\\Local\\Programs\\Python\\Python310\\lib\\site-packages\\pandas\\util\\_decorators.py:311\u001b[0m, in \u001b[0;36mdeprecate_nonkeyword_arguments.<locals>.decorate.<locals>.wrapper\u001b[1;34m(*args, **kwargs)\u001b[0m\n\u001b[0;32m    305\u001b[0m \u001b[38;5;28;01mif\u001b[39;00m \u001b[38;5;28mlen\u001b[39m(args) \u001b[38;5;241m>\u001b[39m num_allow_args:\n\u001b[0;32m    306\u001b[0m     warnings\u001b[38;5;241m.\u001b[39mwarn(\n\u001b[0;32m    307\u001b[0m         msg\u001b[38;5;241m.\u001b[39mformat(arguments\u001b[38;5;241m=\u001b[39marguments),\n\u001b[0;32m    308\u001b[0m         \u001b[38;5;167;01mFutureWarning\u001b[39;00m,\n\u001b[0;32m    309\u001b[0m         stacklevel\u001b[38;5;241m=\u001b[39mstacklevel,\n\u001b[0;32m    310\u001b[0m     )\n\u001b[1;32m--> 311\u001b[0m \u001b[38;5;28;01mreturn\u001b[39;00m func(\u001b[38;5;241m*\u001b[39margs, \u001b[38;5;241m*\u001b[39m\u001b[38;5;241m*\u001b[39mkwargs)\n",
      "File \u001b[1;32m~\\AppData\\Local\\Programs\\Python\\Python310\\lib\\site-packages\\pandas\\io\\parsers\\readers.py:586\u001b[0m, in \u001b[0;36mread_csv\u001b[1;34m(filepath_or_buffer, sep, delimiter, header, names, index_col, usecols, squeeze, prefix, mangle_dupe_cols, dtype, engine, converters, true_values, false_values, skipinitialspace, skiprows, skipfooter, nrows, na_values, keep_default_na, na_filter, verbose, skip_blank_lines, parse_dates, infer_datetime_format, keep_date_col, date_parser, dayfirst, cache_dates, iterator, chunksize, compression, thousands, decimal, lineterminator, quotechar, quoting, doublequote, escapechar, comment, encoding, encoding_errors, dialect, error_bad_lines, warn_bad_lines, on_bad_lines, delim_whitespace, low_memory, memory_map, float_precision, storage_options)\u001b[0m\n\u001b[0;32m    571\u001b[0m kwds_defaults \u001b[38;5;241m=\u001b[39m _refine_defaults_read(\n\u001b[0;32m    572\u001b[0m     dialect,\n\u001b[0;32m    573\u001b[0m     delimiter,\n\u001b[1;32m   (...)\u001b[0m\n\u001b[0;32m    582\u001b[0m     defaults\u001b[38;5;241m=\u001b[39m{\u001b[38;5;124m\"\u001b[39m\u001b[38;5;124mdelimiter\u001b[39m\u001b[38;5;124m\"\u001b[39m: \u001b[38;5;124m\"\u001b[39m\u001b[38;5;124m,\u001b[39m\u001b[38;5;124m\"\u001b[39m},\n\u001b[0;32m    583\u001b[0m )\n\u001b[0;32m    584\u001b[0m kwds\u001b[38;5;241m.\u001b[39mupdate(kwds_defaults)\n\u001b[1;32m--> 586\u001b[0m \u001b[38;5;28;01mreturn\u001b[39;00m \u001b[43m_read\u001b[49m\u001b[43m(\u001b[49m\u001b[43mfilepath_or_buffer\u001b[49m\u001b[43m,\u001b[49m\u001b[43m \u001b[49m\u001b[43mkwds\u001b[49m\u001b[43m)\u001b[49m\n",
      "File \u001b[1;32m~\\AppData\\Local\\Programs\\Python\\Python310\\lib\\site-packages\\pandas\\io\\parsers\\readers.py:482\u001b[0m, in \u001b[0;36m_read\u001b[1;34m(filepath_or_buffer, kwds)\u001b[0m\n\u001b[0;32m    479\u001b[0m _validate_names(kwds\u001b[38;5;241m.\u001b[39mget(\u001b[38;5;124m\"\u001b[39m\u001b[38;5;124mnames\u001b[39m\u001b[38;5;124m\"\u001b[39m, \u001b[38;5;28;01mNone\u001b[39;00m))\n\u001b[0;32m    481\u001b[0m \u001b[38;5;66;03m# Create the parser.\u001b[39;00m\n\u001b[1;32m--> 482\u001b[0m parser \u001b[38;5;241m=\u001b[39m TextFileReader(filepath_or_buffer, \u001b[38;5;241m*\u001b[39m\u001b[38;5;241m*\u001b[39mkwds)\n\u001b[0;32m    484\u001b[0m \u001b[38;5;28;01mif\u001b[39;00m chunksize \u001b[38;5;129;01mor\u001b[39;00m iterator:\n\u001b[0;32m    485\u001b[0m     \u001b[38;5;28;01mreturn\u001b[39;00m parser\n",
      "File \u001b[1;32m~\\AppData\\Local\\Programs\\Python\\Python310\\lib\\site-packages\\pandas\\io\\parsers\\readers.py:811\u001b[0m, in \u001b[0;36mTextFileReader.__init__\u001b[1;34m(self, f, engine, **kwds)\u001b[0m\n\u001b[0;32m    808\u001b[0m \u001b[38;5;28;01mif\u001b[39;00m \u001b[38;5;124m\"\u001b[39m\u001b[38;5;124mhas_index_names\u001b[39m\u001b[38;5;124m\"\u001b[39m \u001b[38;5;129;01min\u001b[39;00m kwds:\n\u001b[0;32m    809\u001b[0m     \u001b[38;5;28mself\u001b[39m\u001b[38;5;241m.\u001b[39moptions[\u001b[38;5;124m\"\u001b[39m\u001b[38;5;124mhas_index_names\u001b[39m\u001b[38;5;124m\"\u001b[39m] \u001b[38;5;241m=\u001b[39m kwds[\u001b[38;5;124m\"\u001b[39m\u001b[38;5;124mhas_index_names\u001b[39m\u001b[38;5;124m\"\u001b[39m]\n\u001b[1;32m--> 811\u001b[0m \u001b[38;5;28mself\u001b[39m\u001b[38;5;241m.\u001b[39m_engine \u001b[38;5;241m=\u001b[39m \u001b[38;5;28;43mself\u001b[39;49m\u001b[38;5;241;43m.\u001b[39;49m\u001b[43m_make_engine\u001b[49m\u001b[43m(\u001b[49m\u001b[38;5;28;43mself\u001b[39;49m\u001b[38;5;241;43m.\u001b[39;49m\u001b[43mengine\u001b[49m\u001b[43m)\u001b[49m\n",
      "File \u001b[1;32m~\\AppData\\Local\\Programs\\Python\\Python310\\lib\\site-packages\\pandas\\io\\parsers\\readers.py:1040\u001b[0m, in \u001b[0;36mTextFileReader._make_engine\u001b[1;34m(self, engine)\u001b[0m\n\u001b[0;32m   1036\u001b[0m     \u001b[38;5;28;01mraise\u001b[39;00m \u001b[38;5;167;01mValueError\u001b[39;00m(\n\u001b[0;32m   1037\u001b[0m         \u001b[38;5;124mf\u001b[39m\u001b[38;5;124m\"\u001b[39m\u001b[38;5;124mUnknown engine: \u001b[39m\u001b[38;5;132;01m{\u001b[39;00mengine\u001b[38;5;132;01m}\u001b[39;00m\u001b[38;5;124m (valid options are \u001b[39m\u001b[38;5;132;01m{\u001b[39;00mmapping\u001b[38;5;241m.\u001b[39mkeys()\u001b[38;5;132;01m}\u001b[39;00m\u001b[38;5;124m)\u001b[39m\u001b[38;5;124m\"\u001b[39m\n\u001b[0;32m   1038\u001b[0m     )\n\u001b[0;32m   1039\u001b[0m \u001b[38;5;66;03m# error: Too many arguments for \"ParserBase\"\u001b[39;00m\n\u001b[1;32m-> 1040\u001b[0m \u001b[38;5;28;01mreturn\u001b[39;00m mapping[engine](\u001b[38;5;28mself\u001b[39m\u001b[38;5;241m.\u001b[39mf, \u001b[38;5;241m*\u001b[39m\u001b[38;5;241m*\u001b[39m\u001b[38;5;28mself\u001b[39m\u001b[38;5;241m.\u001b[39moptions)\n",
      "File \u001b[1;32m~\\AppData\\Local\\Programs\\Python\\Python310\\lib\\site-packages\\pandas\\io\\parsers\\c_parser_wrapper.py:51\u001b[0m, in \u001b[0;36mCParserWrapper.__init__\u001b[1;34m(self, src, **kwds)\u001b[0m\n\u001b[0;32m     48\u001b[0m kwds[\u001b[38;5;124m\"\u001b[39m\u001b[38;5;124musecols\u001b[39m\u001b[38;5;124m\"\u001b[39m] \u001b[38;5;241m=\u001b[39m \u001b[38;5;28mself\u001b[39m\u001b[38;5;241m.\u001b[39musecols\n\u001b[0;32m     50\u001b[0m \u001b[38;5;66;03m# open handles\u001b[39;00m\n\u001b[1;32m---> 51\u001b[0m \u001b[38;5;28;43mself\u001b[39;49m\u001b[38;5;241;43m.\u001b[39;49m\u001b[43m_open_handles\u001b[49m\u001b[43m(\u001b[49m\u001b[43msrc\u001b[49m\u001b[43m,\u001b[49m\u001b[43m \u001b[49m\u001b[43mkwds\u001b[49m\u001b[43m)\u001b[49m\n\u001b[0;32m     52\u001b[0m \u001b[38;5;28;01massert\u001b[39;00m \u001b[38;5;28mself\u001b[39m\u001b[38;5;241m.\u001b[39mhandles \u001b[38;5;129;01mis\u001b[39;00m \u001b[38;5;129;01mnot\u001b[39;00m \u001b[38;5;28;01mNone\u001b[39;00m\n\u001b[0;32m     54\u001b[0m \u001b[38;5;66;03m# Have to pass int, would break tests using TextReader directly otherwise :(\u001b[39;00m\n",
      "File \u001b[1;32m~\\AppData\\Local\\Programs\\Python\\Python310\\lib\\site-packages\\pandas\\io\\parsers\\base_parser.py:222\u001b[0m, in \u001b[0;36mParserBase._open_handles\u001b[1;34m(self, src, kwds)\u001b[0m\n\u001b[0;32m    218\u001b[0m \u001b[38;5;28;01mdef\u001b[39;00m \u001b[38;5;21m_open_handles\u001b[39m(\u001b[38;5;28mself\u001b[39m, src: FilePathOrBuffer, kwds: \u001b[38;5;28mdict\u001b[39m[\u001b[38;5;28mstr\u001b[39m, Any]) \u001b[38;5;241m-\u001b[39m\u001b[38;5;241m>\u001b[39m \u001b[38;5;28;01mNone\u001b[39;00m:\n\u001b[0;32m    219\u001b[0m     \u001b[38;5;124;03m\"\"\"\u001b[39;00m\n\u001b[0;32m    220\u001b[0m \u001b[38;5;124;03m    Let the readers open IOHandles after they are done with their potential raises.\u001b[39;00m\n\u001b[0;32m    221\u001b[0m \u001b[38;5;124;03m    \"\"\"\u001b[39;00m\n\u001b[1;32m--> 222\u001b[0m     \u001b[38;5;28mself\u001b[39m\u001b[38;5;241m.\u001b[39mhandles \u001b[38;5;241m=\u001b[39m \u001b[43mget_handle\u001b[49m\u001b[43m(\u001b[49m\n\u001b[0;32m    223\u001b[0m \u001b[43m        \u001b[49m\u001b[43msrc\u001b[49m\u001b[43m,\u001b[49m\n\u001b[0;32m    224\u001b[0m \u001b[43m        \u001b[49m\u001b[38;5;124;43m\"\u001b[39;49m\u001b[38;5;124;43mr\u001b[39;49m\u001b[38;5;124;43m\"\u001b[39;49m\u001b[43m,\u001b[49m\n\u001b[0;32m    225\u001b[0m \u001b[43m        \u001b[49m\u001b[43mencoding\u001b[49m\u001b[38;5;241;43m=\u001b[39;49m\u001b[43mkwds\u001b[49m\u001b[38;5;241;43m.\u001b[39;49m\u001b[43mget\u001b[49m\u001b[43m(\u001b[49m\u001b[38;5;124;43m\"\u001b[39;49m\u001b[38;5;124;43mencoding\u001b[39;49m\u001b[38;5;124;43m\"\u001b[39;49m\u001b[43m,\u001b[49m\u001b[43m \u001b[49m\u001b[38;5;28;43;01mNone\u001b[39;49;00m\u001b[43m)\u001b[49m\u001b[43m,\u001b[49m\n\u001b[0;32m    226\u001b[0m \u001b[43m        \u001b[49m\u001b[43mcompression\u001b[49m\u001b[38;5;241;43m=\u001b[39;49m\u001b[43mkwds\u001b[49m\u001b[38;5;241;43m.\u001b[39;49m\u001b[43mget\u001b[49m\u001b[43m(\u001b[49m\u001b[38;5;124;43m\"\u001b[39;49m\u001b[38;5;124;43mcompression\u001b[39;49m\u001b[38;5;124;43m\"\u001b[39;49m\u001b[43m,\u001b[49m\u001b[43m \u001b[49m\u001b[38;5;28;43;01mNone\u001b[39;49;00m\u001b[43m)\u001b[49m\u001b[43m,\u001b[49m\n\u001b[0;32m    227\u001b[0m \u001b[43m        \u001b[49m\u001b[43mmemory_map\u001b[49m\u001b[38;5;241;43m=\u001b[39;49m\u001b[43mkwds\u001b[49m\u001b[38;5;241;43m.\u001b[39;49m\u001b[43mget\u001b[49m\u001b[43m(\u001b[49m\u001b[38;5;124;43m\"\u001b[39;49m\u001b[38;5;124;43mmemory_map\u001b[39;49m\u001b[38;5;124;43m\"\u001b[39;49m\u001b[43m,\u001b[49m\u001b[43m \u001b[49m\u001b[38;5;28;43;01mFalse\u001b[39;49;00m\u001b[43m)\u001b[49m\u001b[43m,\u001b[49m\n\u001b[0;32m    228\u001b[0m \u001b[43m        \u001b[49m\u001b[43mstorage_options\u001b[49m\u001b[38;5;241;43m=\u001b[39;49m\u001b[43mkwds\u001b[49m\u001b[38;5;241;43m.\u001b[39;49m\u001b[43mget\u001b[49m\u001b[43m(\u001b[49m\u001b[38;5;124;43m\"\u001b[39;49m\u001b[38;5;124;43mstorage_options\u001b[39;49m\u001b[38;5;124;43m\"\u001b[39;49m\u001b[43m,\u001b[49m\u001b[43m \u001b[49m\u001b[38;5;28;43;01mNone\u001b[39;49;00m\u001b[43m)\u001b[49m\u001b[43m,\u001b[49m\n\u001b[0;32m    229\u001b[0m \u001b[43m        \u001b[49m\u001b[43merrors\u001b[49m\u001b[38;5;241;43m=\u001b[39;49m\u001b[43mkwds\u001b[49m\u001b[38;5;241;43m.\u001b[39;49m\u001b[43mget\u001b[49m\u001b[43m(\u001b[49m\u001b[38;5;124;43m\"\u001b[39;49m\u001b[38;5;124;43mencoding_errors\u001b[39;49m\u001b[38;5;124;43m\"\u001b[39;49m\u001b[43m,\u001b[49m\u001b[43m \u001b[49m\u001b[38;5;124;43m\"\u001b[39;49m\u001b[38;5;124;43mstrict\u001b[39;49m\u001b[38;5;124;43m\"\u001b[39;49m\u001b[43m)\u001b[49m\u001b[43m,\u001b[49m\n\u001b[0;32m    230\u001b[0m \u001b[43m    \u001b[49m\u001b[43m)\u001b[49m\n",
      "File \u001b[1;32m~\\AppData\\Local\\Programs\\Python\\Python310\\lib\\site-packages\\pandas\\io\\common.py:702\u001b[0m, in \u001b[0;36mget_handle\u001b[1;34m(path_or_buf, mode, encoding, compression, memory_map, is_text, errors, storage_options)\u001b[0m\n\u001b[0;32m    697\u001b[0m \u001b[38;5;28;01melif\u001b[39;00m \u001b[38;5;28misinstance\u001b[39m(handle, \u001b[38;5;28mstr\u001b[39m):\n\u001b[0;32m    698\u001b[0m     \u001b[38;5;66;03m# Check whether the filename is to be opened in binary mode.\u001b[39;00m\n\u001b[0;32m    699\u001b[0m     \u001b[38;5;66;03m# Binary mode does not support 'encoding' and 'newline'.\u001b[39;00m\n\u001b[0;32m    700\u001b[0m     \u001b[38;5;28;01mif\u001b[39;00m ioargs\u001b[38;5;241m.\u001b[39mencoding \u001b[38;5;129;01mand\u001b[39;00m \u001b[38;5;124m\"\u001b[39m\u001b[38;5;124mb\u001b[39m\u001b[38;5;124m\"\u001b[39m \u001b[38;5;129;01mnot\u001b[39;00m \u001b[38;5;129;01min\u001b[39;00m ioargs\u001b[38;5;241m.\u001b[39mmode:\n\u001b[0;32m    701\u001b[0m         \u001b[38;5;66;03m# Encoding\u001b[39;00m\n\u001b[1;32m--> 702\u001b[0m         handle \u001b[38;5;241m=\u001b[39m \u001b[38;5;28;43mopen\u001b[39;49m\u001b[43m(\u001b[49m\n\u001b[0;32m    703\u001b[0m \u001b[43m            \u001b[49m\u001b[43mhandle\u001b[49m\u001b[43m,\u001b[49m\n\u001b[0;32m    704\u001b[0m \u001b[43m            \u001b[49m\u001b[43mioargs\u001b[49m\u001b[38;5;241;43m.\u001b[39;49m\u001b[43mmode\u001b[49m\u001b[43m,\u001b[49m\n\u001b[0;32m    705\u001b[0m \u001b[43m            \u001b[49m\u001b[43mencoding\u001b[49m\u001b[38;5;241;43m=\u001b[39;49m\u001b[43mioargs\u001b[49m\u001b[38;5;241;43m.\u001b[39;49m\u001b[43mencoding\u001b[49m\u001b[43m,\u001b[49m\n\u001b[0;32m    706\u001b[0m \u001b[43m            \u001b[49m\u001b[43merrors\u001b[49m\u001b[38;5;241;43m=\u001b[39;49m\u001b[43merrors\u001b[49m\u001b[43m,\u001b[49m\n\u001b[0;32m    707\u001b[0m \u001b[43m            \u001b[49m\u001b[43mnewline\u001b[49m\u001b[38;5;241;43m=\u001b[39;49m\u001b[38;5;124;43m\"\u001b[39;49m\u001b[38;5;124;43m\"\u001b[39;49m\u001b[43m,\u001b[49m\n\u001b[0;32m    708\u001b[0m \u001b[43m        \u001b[49m\u001b[43m)\u001b[49m\n\u001b[0;32m    709\u001b[0m     \u001b[38;5;28;01melse\u001b[39;00m:\n\u001b[0;32m    710\u001b[0m         \u001b[38;5;66;03m# Binary mode\u001b[39;00m\n\u001b[0;32m    711\u001b[0m         handle \u001b[38;5;241m=\u001b[39m \u001b[38;5;28mopen\u001b[39m(handle, ioargs\u001b[38;5;241m.\u001b[39mmode)\n",
      "\u001b[1;31mFileNotFoundError\u001b[0m: [Errno 2] No such file or directory: '/kw_robinhood/kw_robinhood.csv'"
     ]
    }
   ],
   "source": [
    "pd.read_csv(\"/kw_robinhood/kw_robinhood.csv\")"
   ]
  },
  {
   "cell_type": "code",
   "execution_count": null,
   "id": "5cf0cd0c",
   "metadata": {},
   "outputs": [],
   "source": [
    "##"
   ]
  },
  {
   "cell_type": "code",
   "execution_count": null,
   "id": "64a7968f",
   "metadata": {},
   "outputs": [],
   "source": []
  },
  {
   "cell_type": "code",
   "execution_count": 175,
   "id": "21a2b7a9",
   "metadata": {},
   "outputs": [],
   "source": [
    "authors = wsb_gme_data[\"author\"]\n",
    "author_dict = {}\n",
    "\n",
    "for author in authors:\n",
    "    author_dict[author] = 0"
   ]
  },
  {
   "cell_type": "code",
   "execution_count": 152,
   "id": "ffe77cd3",
   "metadata": {},
   "outputs": [
    {
     "data": {
      "text/plain": [
       "1778"
      ]
     },
     "execution_count": 152,
     "metadata": {},
     "output_type": "execute_result"
    }
   ],
   "source": [
    "len(authors.unique())"
   ]
  },
  {
   "cell_type": "code",
   "execution_count": 153,
   "id": "ee17e1a7",
   "metadata": {},
   "outputs": [],
   "source": [
    "for index, row in test.iterrows():\n",
    "    comments = row[\"num_comments\"]\n",
    "    author = row[\"author\"]\n",
    "    \n",
    "    author_dict[author] += comments"
   ]
  },
  {
   "cell_type": "code",
   "execution_count": 157,
   "id": "f10aaa23",
   "metadata": {},
   "outputs": [],
   "source": [
    "num_comments_list =  sorted(num_comments_list)"
   ]
  },
  {
   "cell_type": "code",
   "execution_count": 158,
   "id": "124248f1",
   "metadata": {
    "collapsed": true
   },
   "outputs": [
    {
     "data": {
      "text/plain": [
       "[0,\n",
       " 0,\n",
       " 0,\n",
       " 0,\n",
       " 0,\n",
       " 0,\n",
       " 0,\n",
       " 0,\n",
       " 0,\n",
       " 0,\n",
       " 0,\n",
       " 0,\n",
       " 0,\n",
       " 0,\n",
       " 0,\n",
       " 0,\n",
       " 0,\n",
       " 0,\n",
       " 0,\n",
       " 0,\n",
       " 0,\n",
       " 0,\n",
       " 0,\n",
       " 0,\n",
       " 0,\n",
       " 0,\n",
       " 0,\n",
       " 0,\n",
       " 0,\n",
       " 0,\n",
       " 0,\n",
       " 0,\n",
       " 0,\n",
       " 0,\n",
       " 0,\n",
       " 0,\n",
       " 0,\n",
       " 0,\n",
       " 0,\n",
       " 0,\n",
       " 0,\n",
       " 0,\n",
       " 0,\n",
       " 0,\n",
       " 0,\n",
       " 0,\n",
       " 0,\n",
       " 0,\n",
       " 0,\n",
       " 0,\n",
       " 0,\n",
       " 0,\n",
       " 0,\n",
       " 0,\n",
       " 0,\n",
       " 0,\n",
       " 0,\n",
       " 0,\n",
       " 0,\n",
       " 0,\n",
       " 0,\n",
       " 0,\n",
       " 0,\n",
       " 0,\n",
       " 0,\n",
       " 0,\n",
       " 0,\n",
       " 0,\n",
       " 0,\n",
       " 0,\n",
       " 0,\n",
       " 0,\n",
       " 0,\n",
       " 0,\n",
       " 0,\n",
       " 0,\n",
       " 0,\n",
       " 0,\n",
       " 0,\n",
       " 0,\n",
       " 0,\n",
       " 0,\n",
       " 0,\n",
       " 0,\n",
       " 0,\n",
       " 0,\n",
       " 0,\n",
       " 0,\n",
       " 0,\n",
       " 0,\n",
       " 0,\n",
       " 0,\n",
       " 0,\n",
       " 0,\n",
       " 0,\n",
       " 0,\n",
       " 0,\n",
       " 0,\n",
       " 0,\n",
       " 0,\n",
       " 0,\n",
       " 0,\n",
       " 0,\n",
       " 0,\n",
       " 0,\n",
       " 0,\n",
       " 0,\n",
       " 0,\n",
       " 0,\n",
       " 0,\n",
       " 0,\n",
       " 0,\n",
       " 0,\n",
       " 0,\n",
       " 0,\n",
       " 0,\n",
       " 0,\n",
       " 0,\n",
       " 0,\n",
       " 0,\n",
       " 0,\n",
       " 0,\n",
       " 0,\n",
       " 0,\n",
       " 0,\n",
       " 0,\n",
       " 0,\n",
       " 0,\n",
       " 0,\n",
       " 0,\n",
       " 0,\n",
       " 0,\n",
       " 0,\n",
       " 0,\n",
       " 0,\n",
       " 0,\n",
       " 0,\n",
       " 0,\n",
       " 0,\n",
       " 0,\n",
       " 0,\n",
       " 0,\n",
       " 0,\n",
       " 0,\n",
       " 0,\n",
       " 0,\n",
       " 0,\n",
       " 0,\n",
       " 0,\n",
       " 0,\n",
       " 0,\n",
       " 0,\n",
       " 0,\n",
       " 0,\n",
       " 0,\n",
       " 0,\n",
       " 0,\n",
       " 0,\n",
       " 0,\n",
       " 0,\n",
       " 0,\n",
       " 0,\n",
       " 0,\n",
       " 0,\n",
       " 0,\n",
       " 0,\n",
       " 0,\n",
       " 0,\n",
       " 0,\n",
       " 0,\n",
       " 0,\n",
       " 0,\n",
       " 0,\n",
       " 0,\n",
       " 0,\n",
       " 0,\n",
       " 0,\n",
       " 0,\n",
       " 0,\n",
       " 0,\n",
       " 0,\n",
       " 0,\n",
       " 0,\n",
       " 0,\n",
       " 0,\n",
       " 0,\n",
       " 0,\n",
       " 0,\n",
       " 0,\n",
       " 0,\n",
       " 0,\n",
       " 0,\n",
       " 0,\n",
       " 0,\n",
       " 0,\n",
       " 0,\n",
       " 0,\n",
       " 0,\n",
       " 0,\n",
       " 0,\n",
       " 0,\n",
       " 0,\n",
       " 0,\n",
       " 0,\n",
       " 0,\n",
       " 0,\n",
       " 0,\n",
       " 0,\n",
       " 0,\n",
       " 0,\n",
       " 0,\n",
       " 0,\n",
       " 0,\n",
       " 0,\n",
       " 0,\n",
       " 0,\n",
       " 0,\n",
       " 0,\n",
       " 0,\n",
       " 0,\n",
       " 0,\n",
       " 0,\n",
       " 0,\n",
       " 0,\n",
       " 0,\n",
       " 0,\n",
       " 0,\n",
       " 0,\n",
       " 0,\n",
       " 0,\n",
       " 0,\n",
       " 0,\n",
       " 0,\n",
       " 0,\n",
       " 0,\n",
       " 0,\n",
       " 0,\n",
       " 0,\n",
       " 0,\n",
       " 0,\n",
       " 0,\n",
       " 0,\n",
       " 0,\n",
       " 0,\n",
       " 0,\n",
       " 0,\n",
       " 0,\n",
       " 0,\n",
       " 0,\n",
       " 0,\n",
       " 0,\n",
       " 0,\n",
       " 0,\n",
       " 0,\n",
       " 0,\n",
       " 0,\n",
       " 0,\n",
       " 0,\n",
       " 0,\n",
       " 0,\n",
       " 0,\n",
       " 0,\n",
       " 0,\n",
       " 0,\n",
       " 0,\n",
       " 0,\n",
       " 0,\n",
       " 0,\n",
       " 0,\n",
       " 0,\n",
       " 0,\n",
       " 0,\n",
       " 0,\n",
       " 0,\n",
       " 0,\n",
       " 0,\n",
       " 0,\n",
       " 0,\n",
       " 0,\n",
       " 0,\n",
       " 0,\n",
       " 0,\n",
       " 0,\n",
       " 0,\n",
       " 0,\n",
       " 0,\n",
       " 0,\n",
       " 0,\n",
       " 0,\n",
       " 0,\n",
       " 0,\n",
       " 0,\n",
       " 0,\n",
       " 0,\n",
       " 0,\n",
       " 0,\n",
       " 0,\n",
       " 0,\n",
       " 0,\n",
       " 0,\n",
       " 0,\n",
       " 0,\n",
       " 0,\n",
       " 0,\n",
       " 0,\n",
       " 0,\n",
       " 0,\n",
       " 0,\n",
       " 0,\n",
       " 0,\n",
       " 0,\n",
       " 0,\n",
       " 0,\n",
       " 0,\n",
       " 0,\n",
       " 0,\n",
       " 0,\n",
       " 0,\n",
       " 0,\n",
       " 0,\n",
       " 0,\n",
       " 0,\n",
       " 0,\n",
       " 0,\n",
       " 0,\n",
       " 0,\n",
       " 0,\n",
       " 0,\n",
       " 0,\n",
       " 0,\n",
       " 0,\n",
       " 0,\n",
       " 0,\n",
       " 0,\n",
       " 0,\n",
       " 0,\n",
       " 0,\n",
       " 0,\n",
       " 0,\n",
       " 0,\n",
       " 0,\n",
       " 0,\n",
       " 0,\n",
       " 0,\n",
       " 0,\n",
       " 0,\n",
       " 0,\n",
       " 0,\n",
       " 0,\n",
       " 0,\n",
       " 0,\n",
       " 0,\n",
       " 0,\n",
       " 0,\n",
       " 0,\n",
       " 0,\n",
       " 0,\n",
       " 0,\n",
       " 0,\n",
       " 0,\n",
       " 0,\n",
       " 0,\n",
       " 0,\n",
       " 0,\n",
       " 0,\n",
       " 0,\n",
       " 0,\n",
       " 0,\n",
       " 0,\n",
       " 0,\n",
       " 0,\n",
       " 0,\n",
       " 0,\n",
       " 0,\n",
       " 0,\n",
       " 0,\n",
       " 0,\n",
       " 0,\n",
       " 0,\n",
       " 0,\n",
       " 0,\n",
       " 0,\n",
       " 0,\n",
       " 0,\n",
       " 0,\n",
       " 0,\n",
       " 0,\n",
       " 0,\n",
       " 0,\n",
       " 0,\n",
       " 0,\n",
       " 0,\n",
       " 0,\n",
       " 0,\n",
       " 0,\n",
       " 0,\n",
       " 0,\n",
       " 0,\n",
       " 0,\n",
       " 0,\n",
       " 0,\n",
       " 0,\n",
       " 0,\n",
       " 0,\n",
       " 0,\n",
       " 0,\n",
       " 0,\n",
       " 0,\n",
       " 0,\n",
       " 0,\n",
       " 0,\n",
       " 0,\n",
       " 0,\n",
       " 0,\n",
       " 0,\n",
       " 0,\n",
       " 0,\n",
       " 0,\n",
       " 0,\n",
       " 0,\n",
       " 0,\n",
       " 0,\n",
       " 0,\n",
       " 0,\n",
       " 0,\n",
       " 0,\n",
       " 0,\n",
       " 0,\n",
       " 0,\n",
       " 0,\n",
       " 0,\n",
       " 0,\n",
       " 0,\n",
       " 0,\n",
       " 0,\n",
       " 0,\n",
       " 0,\n",
       " 0,\n",
       " 0,\n",
       " 0,\n",
       " 0,\n",
       " 0,\n",
       " 0,\n",
       " 0,\n",
       " 0,\n",
       " 0,\n",
       " 0,\n",
       " 0,\n",
       " 0,\n",
       " 0,\n",
       " 0,\n",
       " 0,\n",
       " 0,\n",
       " 0,\n",
       " 0,\n",
       " 0,\n",
       " 0,\n",
       " 0,\n",
       " 0,\n",
       " 0,\n",
       " 0,\n",
       " 0,\n",
       " 0,\n",
       " 0,\n",
       " 0,\n",
       " 0,\n",
       " 0,\n",
       " 0,\n",
       " 0,\n",
       " 0,\n",
       " 0,\n",
       " 0,\n",
       " 0,\n",
       " 0,\n",
       " 0,\n",
       " 0,\n",
       " 0,\n",
       " 0,\n",
       " 0,\n",
       " 0,\n",
       " 0,\n",
       " 0,\n",
       " 0,\n",
       " 0,\n",
       " 0,\n",
       " 0,\n",
       " 0,\n",
       " 0,\n",
       " 0,\n",
       " 0,\n",
       " 0,\n",
       " 0,\n",
       " 0,\n",
       " 0,\n",
       " 0,\n",
       " 0,\n",
       " 0,\n",
       " 0,\n",
       " 0,\n",
       " 0,\n",
       " 0,\n",
       " 0,\n",
       " 0,\n",
       " 0,\n",
       " 0,\n",
       " 0,\n",
       " 0,\n",
       " 0,\n",
       " 0,\n",
       " 0,\n",
       " 0,\n",
       " 0,\n",
       " 0,\n",
       " 0,\n",
       " 0,\n",
       " 0,\n",
       " 0,\n",
       " 0,\n",
       " 0,\n",
       " 0,\n",
       " 0,\n",
       " 0,\n",
       " 0,\n",
       " 0,\n",
       " 0,\n",
       " 0,\n",
       " 0,\n",
       " 0,\n",
       " 0,\n",
       " 0,\n",
       " 0,\n",
       " 0,\n",
       " 0,\n",
       " 0,\n",
       " 0,\n",
       " 0,\n",
       " 0,\n",
       " 0,\n",
       " 0,\n",
       " 0,\n",
       " 0,\n",
       " 0,\n",
       " 0,\n",
       " 0,\n",
       " 0,\n",
       " 0,\n",
       " 0,\n",
       " 0,\n",
       " 0,\n",
       " 0,\n",
       " 0,\n",
       " 0,\n",
       " 0,\n",
       " 0,\n",
       " 0,\n",
       " 0,\n",
       " 0,\n",
       " 0,\n",
       " 0,\n",
       " 0,\n",
       " 0,\n",
       " 0,\n",
       " 0,\n",
       " 0,\n",
       " 0,\n",
       " 0,\n",
       " 0,\n",
       " 0,\n",
       " 0,\n",
       " 0,\n",
       " 0,\n",
       " 0,\n",
       " 0,\n",
       " 0,\n",
       " 0,\n",
       " 0,\n",
       " 0,\n",
       " 0,\n",
       " 0,\n",
       " 0,\n",
       " 0,\n",
       " 0,\n",
       " 0,\n",
       " 0,\n",
       " 0,\n",
       " 0,\n",
       " 0,\n",
       " 0,\n",
       " 0,\n",
       " 0,\n",
       " 0,\n",
       " 0,\n",
       " 0,\n",
       " 0,\n",
       " 0,\n",
       " 0,\n",
       " 0,\n",
       " 0,\n",
       " 0,\n",
       " 0,\n",
       " 0,\n",
       " 0,\n",
       " 0,\n",
       " 0,\n",
       " 0,\n",
       " 0,\n",
       " 0,\n",
       " 0,\n",
       " 0,\n",
       " 0,\n",
       " 0,\n",
       " 0,\n",
       " 0,\n",
       " 0,\n",
       " 0,\n",
       " 0,\n",
       " 0,\n",
       " 0,\n",
       " 0,\n",
       " 0,\n",
       " 0,\n",
       " 1,\n",
       " 1,\n",
       " 1,\n",
       " 1,\n",
       " 1,\n",
       " 1,\n",
       " 1,\n",
       " 1,\n",
       " 1,\n",
       " 1,\n",
       " 1,\n",
       " 1,\n",
       " 1,\n",
       " 1,\n",
       " 1,\n",
       " 1,\n",
       " 1,\n",
       " 1,\n",
       " 1,\n",
       " 1,\n",
       " 1,\n",
       " 1,\n",
       " 1,\n",
       " 1,\n",
       " 1,\n",
       " 1,\n",
       " 1,\n",
       " 1,\n",
       " 1,\n",
       " 1,\n",
       " 1,\n",
       " 1,\n",
       " 1,\n",
       " 1,\n",
       " 1,\n",
       " 1,\n",
       " 1,\n",
       " 1,\n",
       " 1,\n",
       " 1,\n",
       " 1,\n",
       " 1,\n",
       " 1,\n",
       " 1,\n",
       " 1,\n",
       " 1,\n",
       " 1,\n",
       " 1,\n",
       " 1,\n",
       " 1,\n",
       " 1,\n",
       " 1,\n",
       " 1,\n",
       " 1,\n",
       " 1,\n",
       " 1,\n",
       " 1,\n",
       " 1,\n",
       " 1,\n",
       " 1,\n",
       " 1,\n",
       " 1,\n",
       " 1,\n",
       " 1,\n",
       " 1,\n",
       " 1,\n",
       " 1,\n",
       " 1,\n",
       " 1,\n",
       " 1,\n",
       " 1,\n",
       " 1,\n",
       " 1,\n",
       " 1,\n",
       " 1,\n",
       " 1,\n",
       " 1,\n",
       " 1,\n",
       " 1,\n",
       " 1,\n",
       " 1,\n",
       " 1,\n",
       " 1,\n",
       " 1,\n",
       " 1,\n",
       " 1,\n",
       " 1,\n",
       " 1,\n",
       " 1,\n",
       " 1,\n",
       " 1,\n",
       " 1,\n",
       " 1,\n",
       " 1,\n",
       " 1,\n",
       " 1,\n",
       " 1,\n",
       " 1,\n",
       " 1,\n",
       " 1,\n",
       " 1,\n",
       " 1,\n",
       " 1,\n",
       " 1,\n",
       " 1,\n",
       " 2,\n",
       " 2,\n",
       " 2,\n",
       " 2,\n",
       " 2,\n",
       " 2,\n",
       " 2,\n",
       " 2,\n",
       " 2,\n",
       " 2,\n",
       " 2,\n",
       " 2,\n",
       " 2,\n",
       " 2,\n",
       " 2,\n",
       " 2,\n",
       " 2,\n",
       " 2,\n",
       " 2,\n",
       " 2,\n",
       " 2,\n",
       " 2,\n",
       " 2,\n",
       " 2,\n",
       " 2,\n",
       " 2,\n",
       " 2,\n",
       " 2,\n",
       " 2,\n",
       " 2,\n",
       " 2,\n",
       " 2,\n",
       " 2,\n",
       " 2,\n",
       " 2,\n",
       " 2,\n",
       " 2,\n",
       " 2,\n",
       " 2,\n",
       " 2,\n",
       " 2,\n",
       " 2,\n",
       " 2,\n",
       " 2,\n",
       " 2,\n",
       " 2,\n",
       " 2,\n",
       " 2,\n",
       " 2,\n",
       " 2,\n",
       " 2,\n",
       " 2,\n",
       " 2,\n",
       " 2,\n",
       " 2,\n",
       " 2,\n",
       " 2,\n",
       " 2,\n",
       " 2,\n",
       " 2,\n",
       " 2,\n",
       " 2,\n",
       " 2,\n",
       " 2,\n",
       " 2,\n",
       " 2,\n",
       " 2,\n",
       " 2,\n",
       " 2,\n",
       " 2,\n",
       " 2,\n",
       " 2,\n",
       " 2,\n",
       " 2,\n",
       " 2,\n",
       " 2,\n",
       " 2,\n",
       " 2,\n",
       " 2,\n",
       " 2,\n",
       " 2,\n",
       " 2,\n",
       " 2,\n",
       " 2,\n",
       " 2,\n",
       " 2,\n",
       " 2,\n",
       " 2,\n",
       " 2,\n",
       " 2,\n",
       " 2,\n",
       " 2,\n",
       " 2,\n",
       " 2,\n",
       " 2,\n",
       " 2,\n",
       " 2,\n",
       " 2,\n",
       " 2,\n",
       " 2,\n",
       " 2,\n",
       " 2,\n",
       " 2,\n",
       " 2,\n",
       " 2,\n",
       " 2,\n",
       " 2,\n",
       " 2,\n",
       " 2,\n",
       " 2,\n",
       " 2,\n",
       " 2,\n",
       " 2,\n",
       " 2,\n",
       " 2,\n",
       " 2,\n",
       " 2,\n",
       " 2,\n",
       " 2,\n",
       " 2,\n",
       " 2,\n",
       " 2,\n",
       " 2,\n",
       " 2,\n",
       " 2,\n",
       " 2,\n",
       " 2,\n",
       " 2,\n",
       " 2,\n",
       " 2,\n",
       " 2,\n",
       " 2,\n",
       " 2,\n",
       " 2,\n",
       " 2,\n",
       " 2,\n",
       " 2,\n",
       " 2,\n",
       " 2,\n",
       " 2,\n",
       " 2,\n",
       " 2,\n",
       " 2,\n",
       " 2,\n",
       " 2,\n",
       " 2,\n",
       " 2,\n",
       " 2,\n",
       " 2,\n",
       " 2,\n",
       " 2,\n",
       " 2,\n",
       " 2,\n",
       " 2,\n",
       " 2,\n",
       " 2,\n",
       " 2,\n",
       " 2,\n",
       " 2,\n",
       " 2,\n",
       " 2,\n",
       " 2,\n",
       " 2,\n",
       " 2,\n",
       " 2,\n",
       " 2,\n",
       " 2,\n",
       " 2,\n",
       " 2,\n",
       " 2,\n",
       " 2,\n",
       " 2,\n",
       " 2,\n",
       " 2,\n",
       " 2,\n",
       " 2,\n",
       " 2,\n",
       " 2,\n",
       " 2,\n",
       " 2,\n",
       " 2,\n",
       " 2,\n",
       " 2,\n",
       " 2,\n",
       " 2,\n",
       " 2,\n",
       " 2,\n",
       " 2,\n",
       " 2,\n",
       " 2,\n",
       " 2,\n",
       " 2,\n",
       " 2,\n",
       " 2,\n",
       " 2,\n",
       " 2,\n",
       " 2,\n",
       " 2,\n",
       " 2,\n",
       " 2,\n",
       " 3,\n",
       " 3,\n",
       " 3,\n",
       " 3,\n",
       " 3,\n",
       " 3,\n",
       " 3,\n",
       " 3,\n",
       " 3,\n",
       " 3,\n",
       " 3,\n",
       " 3,\n",
       " 3,\n",
       " 3,\n",
       " 3,\n",
       " 3,\n",
       " 3,\n",
       " 3,\n",
       " 3,\n",
       " 3,\n",
       " 3,\n",
       " 3,\n",
       " 3,\n",
       " 3,\n",
       " 3,\n",
       " 3,\n",
       " 3,\n",
       " 3,\n",
       " 3,\n",
       " 3,\n",
       " 3,\n",
       " 3,\n",
       " 3,\n",
       " 3,\n",
       " 3,\n",
       " 3,\n",
       " 3,\n",
       " 3,\n",
       " 3,\n",
       " 3,\n",
       " 3,\n",
       " 3,\n",
       " 3,\n",
       " 3,\n",
       " 3,\n",
       " 3,\n",
       " 3,\n",
       " 3,\n",
       " 3,\n",
       " 3,\n",
       " 3,\n",
       " 3,\n",
       " 3,\n",
       " 3,\n",
       " 3,\n",
       " 3,\n",
       " 3,\n",
       " 3,\n",
       " 3,\n",
       " 3,\n",
       " 3,\n",
       " 3,\n",
       " 3,\n",
       " 3,\n",
       " 3,\n",
       " 3,\n",
       " 3,\n",
       " 3,\n",
       " 3,\n",
       " 3,\n",
       " 3,\n",
       " 3,\n",
       " 3,\n",
       " 3,\n",
       " ...]"
      ]
     },
     "execution_count": 158,
     "metadata": {},
     "output_type": "execute_result"
    }
   ],
   "source": [
    "(num_comments_list)"
   ]
  },
  {
   "cell_type": "code",
   "execution_count": 156,
   "id": "33779ee0",
   "metadata": {},
   "outputs": [],
   "source": [
    "num_comments_list = []\n",
    "counter = 0\n",
    "\n",
    "for author in author_dict:\n",
    "    counter = author_dict[author]\n",
    "    num_comments_list.append(counter)"
   ]
  },
  {
   "cell_type": "code",
   "execution_count": 159,
   "id": "307e24db",
   "metadata": {},
   "outputs": [],
   "source": [
    "df = pd.Series( num_comments_list )"
   ]
  },
  {
   "cell_type": "code",
   "execution_count": 160,
   "id": "814f614a",
   "metadata": {},
   "outputs": [
    {
     "data": {
      "text/plain": [
       "<AxesSubplot:>"
      ]
     },
     "execution_count": 160,
     "metadata": {},
     "output_type": "execute_result"
    },
    {
     "data": {
      "image/png": "[encoded data removed]",
      "text/plain": [
       "<Figure size 432x288 with 1 Axes>"
      ]
     },
     "metadata": {
      "needs_background": "light"
     },
     "output_type": "display_data"
    }
   ],
   "source": [
    "df.plot()"
   ]
  },
  {
   "cell_type": "code",
   "execution_count": null,
   "id": "a5804822",
   "metadata": {},
   "outputs": [],
   "source": []
  },
  {
   "cell_type": "code",
   "execution_count": null,
   "id": "9a95cf69",
   "metadata": {},
   "outputs": [],
   "source": [
    "from nltk.probability import FreqDist"
   ]
  },
  {
   "cell_type": "code",
   "execution_count": null,
   "id": "6ae3f317",
   "metadata": {},
   "outputs": [],
   "source": [
    "complete_list = []\n",
    "counter = 0\n",
    "for key in title_dict:\n",
    "    complete_list = complete_list + title_dict[key]\n",
    "    \n",
    "    counter += 1\n",
    "    if(counter > 10000):\n",
    "        break;\n"
   ]
  },
  {
   "cell_type": "code",
   "execution_count": null,
   "id": "4e7ce3e8",
   "metadata": {},
   "outputs": [],
   "source": []
  },
  {
   "cell_type": "code",
   "execution_count": null,
   "id": "8dc5c47a",
   "metadata": {},
   "outputs": [],
   "source": [
    "from collections import Counter"
   ]
  },
  {
   "cell_type": "code",
   "execution_count": null,
   "id": "050feb1c",
   "metadata": {},
   "outputs": [],
   "source": [
    "complete_list"
   ]
  },
  {
   "cell_type": "code",
   "execution_count": null,
   "id": "66ab183d",
   "metadata": {},
   "outputs": [],
   "source": [
    "sorted(Counter(complete_list).items(), key = lambda x:x[1], reverse=True)"
   ]
  },
  {
   "cell_type": "code",
   "execution_count": null,
   "id": "2ec184ee",
   "metadata": {},
   "outputs": [],
   "source": []
  },
  {
   "cell_type": "code",
   "execution_count": null,
   "id": "3184f4fd",
   "metadata": {},
   "outputs": [],
   "source": [
    "fdist = FreqDist(complete_list)"
   ]
  },
  {
   "cell_type": "code",
   "execution_count": null,
   "id": "4169987b",
   "metadata": {
    "scrolled": false
   },
   "outputs": [],
   "source": [
    "fdist.plot(10, cumulative=False)"
   ]
  },
  {
   "cell_type": "markdown",
   "id": "908064d8",
   "metadata": {},
   "source": [
    "## relative frequency of word"
   ]
  },
  {
   "cell_type": "code",
   "execution_count": null,
   "id": "19ae2a19",
   "metadata": {},
   "outputs": [],
   "source": [
    "word = \"buy\""
   ]
  },
  {
   "cell_type": "code",
   "execution_count": null,
   "id": "844d4870",
   "metadata": {},
   "outputs": [],
   "source": [
    "word_dict = {}\n",
    "\n",
    "for key in title_dict:\n",
    "    \n"
   ]
  },
  {
   "cell_type": "markdown",
   "id": "292ecaa9",
   "metadata": {},
   "source": [
    "## Preprocessing"
   ]
  },
  {
   "cell_type": "code",
   "execution_count": 15,
   "id": "faee5468",
   "metadata": {},
   "outputs": [
    {
     "ename": "NameError",
     "evalue": "name 'PorterStemmer' is not defined",
     "output_type": "error",
     "traceback": [
      "\u001b[1;31m---------------------------------------------------------------------------\u001b[0m",
      "\u001b[1;31mNameError\u001b[0m                                 Traceback (most recent call last)",
      "Input \u001b[1;32mIn [15]\u001b[0m, in \u001b[0;36m<cell line: 1>\u001b[1;34m()\u001b[0m\n\u001b[1;32m----> 1\u001b[0m stemmer \u001b[38;5;241m=\u001b[39m \u001b[43mPorterStemmer\u001b[49m()\n",
      "\u001b[1;31mNameError\u001b[0m: name 'PorterStemmer' is not defined"
     ]
    }
   ],
   "source": [
    "stemmer = PorterStemmer()"
   ]
  },
  {
   "cell_type": "code",
   "execution_count": null,
   "id": "a072ca09",
   "metadata": {},
   "outputs": [],
   "source": [
    "import string"
   ]
  },
  {
   "cell_type": "code",
   "execution_count": null,
   "id": "7d81f921",
   "metadata": {},
   "outputs": [],
   "source": [
    "from nltk.stem import WordNetLemmatizer, PorterStemmer"
   ]
  },
  {
   "cell_type": "code",
   "execution_count": null,
   "id": "8be48ca5",
   "metadata": {},
   "outputs": [],
   "source": [
    "lemmatizer = WordNetLemmatizer()"
   ]
  },
  {
   "cell_type": "code",
   "execution_count": null,
   "id": "7b9f2248",
   "metadata": {},
   "outputs": [],
   "source": [
    "def preprocess(raw_text):\n",
    "    text = raw_text.lower()\n",
    "    text = text.translate(str.maketrans(\"\", \"\", string.punctuation))\n",
    "    tokens = nltk.word_tokenize(text)\n",
    "    tokens = [w for w in tokens if not w in stop_words]\n",
    "    tokens = [w for w in tokens if not w.isdigit()]\n",
    "    tokens = [lemmatizer.lemmatize(word, pos = \"v\") for word in tokens]\n",
    "    return tokens"
   ]
  },
  {
   "cell_type": "code",
   "execution_count": null,
   "id": "42e8c72b",
   "metadata": {},
   "outputs": [],
   "source": [
    "title_dict = {}\n",
    "text_dict = {}\n",
    "for index, row in df.iterrows():\n",
    "    post_id = row[\"id\"]\n",
    "    \n",
    "    title_text = row[\"title\"]\n",
    "    if(type(title_text) == str):\n",
    "        title_dict[post_id] = preprocess(title_text)\n",
    "    \n",
    "    post_text = row[\"selftext\"]\n",
    "    if(type(post_text) == str and post_text not in [\"[removed]\", \"[deleted]\"]):\n",
    "        text_dict[post_id] = preprocess(post_text)\n",
    "    "
   ]
  },
  {
   "cell_type": "markdown",
   "id": "e45c85f3",
   "metadata": {},
   "source": [
    "## Word Counter"
   ]
  },
  {
   "cell_type": "code",
   "execution_count": 16,
   "id": "7fdf4c34",
   "metadata": {},
   "outputs": [],
   "source": [
    "words = pd.DataFrame()"
   ]
  },
  {
   "cell_type": "code",
   "execution_count": 17,
   "id": "0cdc08e4",
   "metadata": {},
   "outputs": [],
   "source": [
    "def check_word(row, word):\n",
    "    title = row[\"title\"]\n",
    "    text = row[\"selftext\"]\n",
    "    \n",
    "    if(word in title):\n",
    "        return True\n",
    "    if(type(text) == str and word in text):\n",
    "        return True\n",
    "        \n",
    "    return False"
   ]
  },
  {
   "cell_type": "code",
   "execution_count": 19,
   "id": "508e931b",
   "metadata": {
    "collapsed": true
   },
   "outputs": [
    {
     "ename": "KeyError",
     "evalue": "'title'",
     "output_type": "error",
     "traceback": [
      "\u001b[1;31m---------------------------------------------------------------------------\u001b[0m",
      "\u001b[1;31mKeyError\u001b[0m                                  Traceback (most recent call last)",
      "File \u001b[1;32m~\\AppData\\Local\\Programs\\Python\\Python310\\lib\\site-packages\\pandas\\core\\indexes\\base.py:3361\u001b[0m, in \u001b[0;36mIndex.get_loc\u001b[1;34m(self, key, method, tolerance)\u001b[0m\n\u001b[0;32m   3360\u001b[0m \u001b[38;5;28;01mtry\u001b[39;00m:\n\u001b[1;32m-> 3361\u001b[0m     \u001b[38;5;28;01mreturn\u001b[39;00m \u001b[38;5;28;43mself\u001b[39;49m\u001b[38;5;241;43m.\u001b[39;49m\u001b[43m_engine\u001b[49m\u001b[38;5;241;43m.\u001b[39;49m\u001b[43mget_loc\u001b[49m\u001b[43m(\u001b[49m\u001b[43mcasted_key\u001b[49m\u001b[43m)\u001b[49m\n\u001b[0;32m   3362\u001b[0m \u001b[38;5;28;01mexcept\u001b[39;00m \u001b[38;5;167;01mKeyError\u001b[39;00m \u001b[38;5;28;01mas\u001b[39;00m err:\n",
      "File \u001b[1;32m~\\AppData\\Local\\Programs\\Python\\Python310\\lib\\site-packages\\pandas\\_libs\\index.pyx:76\u001b[0m, in \u001b[0;36mpandas._libs.index.IndexEngine.get_loc\u001b[1;34m()\u001b[0m\n",
      "File \u001b[1;32mpandas\\_libs\\index_class_helper.pxi:105\u001b[0m, in \u001b[0;36mpandas._libs.index.Int64Engine._check_type\u001b[1;34m()\u001b[0m\n",
      "File \u001b[1;32mpandas\\_libs\\index_class_helper.pxi:105\u001b[0m, in \u001b[0;36mpandas._libs.index.Int64Engine._check_type\u001b[1;34m()\u001b[0m\n",
      "\u001b[1;31mKeyError\u001b[0m: 'title'",
      "\nThe above exception was the direct cause of the following exception:\n",
      "\u001b[1;31mKeyError\u001b[0m                                  Traceback (most recent call last)",
      "Input \u001b[1;32mIn [19]\u001b[0m, in \u001b[0;36m<cell line: 1>\u001b[1;34m()\u001b[0m\n\u001b[1;32m----> 1\u001b[0m \u001b[43mdf\u001b[49m\u001b[38;5;241;43m.\u001b[39;49m\u001b[43mapply\u001b[49m\u001b[43m(\u001b[49m\u001b[38;5;28;43;01mlambda\u001b[39;49;00m\u001b[43m \u001b[49m\u001b[43mrow\u001b[49m\u001b[43m:\u001b[49m\u001b[43m \u001b[49m\u001b[38;5;241;43m1\u001b[39;49m\u001b[43m \u001b[49m\u001b[38;5;28;43;01mif\u001b[39;49;00m\u001b[43m \u001b[49m\u001b[43mcheck_word\u001b[49m\u001b[43m(\u001b[49m\u001b[43mrow\u001b[49m\u001b[43m,\u001b[49m\u001b[43m \u001b[49m\u001b[38;5;124;43m\"\u001b[39;49m\u001b[38;5;124;43mbuy\u001b[39;49m\u001b[38;5;124;43m\"\u001b[39;49m\u001b[43m)\u001b[49m\u001b[43m \u001b[49m\u001b[38;5;28;43;01melse\u001b[39;49;00m\u001b[43m \u001b[49m\u001b[38;5;241;43m0\u001b[39;49m\u001b[43m)\u001b[49m\n",
      "File \u001b[1;32m~\\AppData\\Local\\Programs\\Python\\Python310\\lib\\site-packages\\pandas\\core\\frame.py:8740\u001b[0m, in \u001b[0;36mDataFrame.apply\u001b[1;34m(self, func, axis, raw, result_type, args, **kwargs)\u001b[0m\n\u001b[0;32m   8729\u001b[0m \u001b[38;5;28;01mfrom\u001b[39;00m \u001b[38;5;21;01mpandas\u001b[39;00m\u001b[38;5;21;01m.\u001b[39;00m\u001b[38;5;21;01mcore\u001b[39;00m\u001b[38;5;21;01m.\u001b[39;00m\u001b[38;5;21;01mapply\u001b[39;00m \u001b[38;5;28;01mimport\u001b[39;00m frame_apply\n\u001b[0;32m   8731\u001b[0m op \u001b[38;5;241m=\u001b[39m frame_apply(\n\u001b[0;32m   8732\u001b[0m     \u001b[38;5;28mself\u001b[39m,\n\u001b[0;32m   8733\u001b[0m     func\u001b[38;5;241m=\u001b[39mfunc,\n\u001b[1;32m   (...)\u001b[0m\n\u001b[0;32m   8738\u001b[0m     kwargs\u001b[38;5;241m=\u001b[39mkwargs,\n\u001b[0;32m   8739\u001b[0m )\n\u001b[1;32m-> 8740\u001b[0m \u001b[38;5;28;01mreturn\u001b[39;00m \u001b[43mop\u001b[49m\u001b[38;5;241;43m.\u001b[39;49m\u001b[43mapply\u001b[49m\u001b[43m(\u001b[49m\u001b[43m)\u001b[49m\n",
      "File \u001b[1;32m~\\AppData\\Local\\Programs\\Python\\Python310\\lib\\site-packages\\pandas\\core\\apply.py:688\u001b[0m, in \u001b[0;36mFrameApply.apply\u001b[1;34m(self)\u001b[0m\n\u001b[0;32m    685\u001b[0m \u001b[38;5;28;01melif\u001b[39;00m \u001b[38;5;28mself\u001b[39m\u001b[38;5;241m.\u001b[39mraw:\n\u001b[0;32m    686\u001b[0m     \u001b[38;5;28;01mreturn\u001b[39;00m \u001b[38;5;28mself\u001b[39m\u001b[38;5;241m.\u001b[39mapply_raw()\n\u001b[1;32m--> 688\u001b[0m \u001b[38;5;28;01mreturn\u001b[39;00m \u001b[38;5;28;43mself\u001b[39;49m\u001b[38;5;241;43m.\u001b[39;49m\u001b[43mapply_standard\u001b[49m\u001b[43m(\u001b[49m\u001b[43m)\u001b[49m\n",
      "File \u001b[1;32m~\\AppData\\Local\\Programs\\Python\\Python310\\lib\\site-packages\\pandas\\core\\apply.py:812\u001b[0m, in \u001b[0;36mFrameApply.apply_standard\u001b[1;34m(self)\u001b[0m\n\u001b[0;32m    811\u001b[0m \u001b[38;5;28;01mdef\u001b[39;00m \u001b[38;5;21mapply_standard\u001b[39m(\u001b[38;5;28mself\u001b[39m):\n\u001b[1;32m--> 812\u001b[0m     results, res_index \u001b[38;5;241m=\u001b[39m \u001b[38;5;28;43mself\u001b[39;49m\u001b[38;5;241;43m.\u001b[39;49m\u001b[43mapply_series_generator\u001b[49m\u001b[43m(\u001b[49m\u001b[43m)\u001b[49m\n\u001b[0;32m    814\u001b[0m     \u001b[38;5;66;03m# wrap results\u001b[39;00m\n\u001b[0;32m    815\u001b[0m     \u001b[38;5;28;01mreturn\u001b[39;00m \u001b[38;5;28mself\u001b[39m\u001b[38;5;241m.\u001b[39mwrap_results(results, res_index)\n",
      "File \u001b[1;32m~\\AppData\\Local\\Programs\\Python\\Python310\\lib\\site-packages\\pandas\\core\\apply.py:828\u001b[0m, in \u001b[0;36mFrameApply.apply_series_generator\u001b[1;34m(self)\u001b[0m\n\u001b[0;32m    825\u001b[0m \u001b[38;5;28;01mwith\u001b[39;00m option_context(\u001b[38;5;124m\"\u001b[39m\u001b[38;5;124mmode.chained_assignment\u001b[39m\u001b[38;5;124m\"\u001b[39m, \u001b[38;5;28;01mNone\u001b[39;00m):\n\u001b[0;32m    826\u001b[0m     \u001b[38;5;28;01mfor\u001b[39;00m i, v \u001b[38;5;129;01min\u001b[39;00m \u001b[38;5;28menumerate\u001b[39m(series_gen):\n\u001b[0;32m    827\u001b[0m         \u001b[38;5;66;03m# ignore SettingWithCopy here in case the user mutates\u001b[39;00m\n\u001b[1;32m--> 828\u001b[0m         results[i] \u001b[38;5;241m=\u001b[39m \u001b[38;5;28;43mself\u001b[39;49m\u001b[38;5;241;43m.\u001b[39;49m\u001b[43mf\u001b[49m\u001b[43m(\u001b[49m\u001b[43mv\u001b[49m\u001b[43m)\u001b[49m\n\u001b[0;32m    829\u001b[0m         \u001b[38;5;28;01mif\u001b[39;00m \u001b[38;5;28misinstance\u001b[39m(results[i], ABCSeries):\n\u001b[0;32m    830\u001b[0m             \u001b[38;5;66;03m# If we have a view on v, we need to make a copy because\u001b[39;00m\n\u001b[0;32m    831\u001b[0m             \u001b[38;5;66;03m#  series_generator will swap out the underlying data\u001b[39;00m\n\u001b[0;32m    832\u001b[0m             results[i] \u001b[38;5;241m=\u001b[39m results[i]\u001b[38;5;241m.\u001b[39mcopy(deep\u001b[38;5;241m=\u001b[39m\u001b[38;5;28;01mFalse\u001b[39;00m)\n",
      "Input \u001b[1;32mIn [19]\u001b[0m, in \u001b[0;36m<lambda>\u001b[1;34m(row)\u001b[0m\n\u001b[1;32m----> 1\u001b[0m df\u001b[38;5;241m.\u001b[39mapply(\u001b[38;5;28;01mlambda\u001b[39;00m row: \u001b[38;5;241m1\u001b[39m \u001b[38;5;28;01mif\u001b[39;00m \u001b[43mcheck_word\u001b[49m\u001b[43m(\u001b[49m\u001b[43mrow\u001b[49m\u001b[43m,\u001b[49m\u001b[43m \u001b[49m\u001b[38;5;124;43m\"\u001b[39;49m\u001b[38;5;124;43mbuy\u001b[39;49m\u001b[38;5;124;43m\"\u001b[39;49m\u001b[43m)\u001b[49m \u001b[38;5;28;01melse\u001b[39;00m \u001b[38;5;241m0\u001b[39m)\n",
      "Input \u001b[1;32mIn [17]\u001b[0m, in \u001b[0;36mcheck_word\u001b[1;34m(row, word)\u001b[0m\n\u001b[0;32m      1\u001b[0m \u001b[38;5;28;01mdef\u001b[39;00m \u001b[38;5;21mcheck_word\u001b[39m(row, word):\n\u001b[1;32m----> 2\u001b[0m     title \u001b[38;5;241m=\u001b[39m \u001b[43mrow\u001b[49m\u001b[43m[\u001b[49m\u001b[38;5;124;43m\"\u001b[39;49m\u001b[38;5;124;43mtitle\u001b[39;49m\u001b[38;5;124;43m\"\u001b[39;49m\u001b[43m]\u001b[49m\n\u001b[0;32m      3\u001b[0m     text \u001b[38;5;241m=\u001b[39m row[\u001b[38;5;124m\"\u001b[39m\u001b[38;5;124mselftext\u001b[39m\u001b[38;5;124m\"\u001b[39m]\n\u001b[0;32m      5\u001b[0m     \u001b[38;5;28;01mif\u001b[39;00m(word \u001b[38;5;129;01min\u001b[39;00m title):\n",
      "File \u001b[1;32m~\\AppData\\Local\\Programs\\Python\\Python310\\lib\\site-packages\\pandas\\core\\series.py:942\u001b[0m, in \u001b[0;36mSeries.__getitem__\u001b[1;34m(self, key)\u001b[0m\n\u001b[0;32m    939\u001b[0m     \u001b[38;5;28;01mreturn\u001b[39;00m \u001b[38;5;28mself\u001b[39m\u001b[38;5;241m.\u001b[39m_values[key]\n\u001b[0;32m    941\u001b[0m \u001b[38;5;28;01melif\u001b[39;00m key_is_scalar:\n\u001b[1;32m--> 942\u001b[0m     \u001b[38;5;28;01mreturn\u001b[39;00m \u001b[38;5;28;43mself\u001b[39;49m\u001b[38;5;241;43m.\u001b[39;49m\u001b[43m_get_value\u001b[49m\u001b[43m(\u001b[49m\u001b[43mkey\u001b[49m\u001b[43m)\u001b[49m\n\u001b[0;32m    944\u001b[0m \u001b[38;5;28;01mif\u001b[39;00m is_hashable(key):\n\u001b[0;32m    945\u001b[0m     \u001b[38;5;66;03m# Otherwise index.get_value will raise InvalidIndexError\u001b[39;00m\n\u001b[0;32m    946\u001b[0m     \u001b[38;5;28;01mtry\u001b[39;00m:\n\u001b[0;32m    947\u001b[0m         \u001b[38;5;66;03m# For labels that don't resolve as scalars like tuples and frozensets\u001b[39;00m\n",
      "File \u001b[1;32m~\\AppData\\Local\\Programs\\Python\\Python310\\lib\\site-packages\\pandas\\core\\series.py:1051\u001b[0m, in \u001b[0;36mSeries._get_value\u001b[1;34m(self, label, takeable)\u001b[0m\n\u001b[0;32m   1048\u001b[0m     \u001b[38;5;28;01mreturn\u001b[39;00m \u001b[38;5;28mself\u001b[39m\u001b[38;5;241m.\u001b[39m_values[label]\n\u001b[0;32m   1050\u001b[0m \u001b[38;5;66;03m# Similar to Index.get_value, but we do not fall back to positional\u001b[39;00m\n\u001b[1;32m-> 1051\u001b[0m loc \u001b[38;5;241m=\u001b[39m \u001b[38;5;28;43mself\u001b[39;49m\u001b[38;5;241;43m.\u001b[39;49m\u001b[43mindex\u001b[49m\u001b[38;5;241;43m.\u001b[39;49m\u001b[43mget_loc\u001b[49m\u001b[43m(\u001b[49m\u001b[43mlabel\u001b[49m\u001b[43m)\u001b[49m\n\u001b[0;32m   1052\u001b[0m \u001b[38;5;28;01mreturn\u001b[39;00m \u001b[38;5;28mself\u001b[39m\u001b[38;5;241m.\u001b[39mindex\u001b[38;5;241m.\u001b[39m_get_values_for_loc(\u001b[38;5;28mself\u001b[39m, loc, label)\n",
      "File \u001b[1;32m~\\AppData\\Local\\Programs\\Python\\Python310\\lib\\site-packages\\pandas\\core\\indexes\\base.py:3363\u001b[0m, in \u001b[0;36mIndex.get_loc\u001b[1;34m(self, key, method, tolerance)\u001b[0m\n\u001b[0;32m   3361\u001b[0m         \u001b[38;5;28;01mreturn\u001b[39;00m \u001b[38;5;28mself\u001b[39m\u001b[38;5;241m.\u001b[39m_engine\u001b[38;5;241m.\u001b[39mget_loc(casted_key)\n\u001b[0;32m   3362\u001b[0m     \u001b[38;5;28;01mexcept\u001b[39;00m \u001b[38;5;167;01mKeyError\u001b[39;00m \u001b[38;5;28;01mas\u001b[39;00m err:\n\u001b[1;32m-> 3363\u001b[0m         \u001b[38;5;28;01mraise\u001b[39;00m \u001b[38;5;167;01mKeyError\u001b[39;00m(key) \u001b[38;5;28;01mfrom\u001b[39;00m \u001b[38;5;21;01merr\u001b[39;00m\n\u001b[0;32m   3365\u001b[0m \u001b[38;5;28;01mif\u001b[39;00m is_scalar(key) \u001b[38;5;129;01mand\u001b[39;00m isna(key) \u001b[38;5;129;01mand\u001b[39;00m \u001b[38;5;129;01mnot\u001b[39;00m \u001b[38;5;28mself\u001b[39m\u001b[38;5;241m.\u001b[39mhasnans:\n\u001b[0;32m   3366\u001b[0m     \u001b[38;5;28;01mraise\u001b[39;00m \u001b[38;5;167;01mKeyError\u001b[39;00m(key)\n",
      "\u001b[1;31mKeyError\u001b[0m: 'title'"
     ]
    }
   ],
   "source": [
    "df.apply(lambda row: 1 if check_word(row, \"buy\") else 0)"
   ]
  },
  {
   "cell_type": "code",
   "execution_count": null,
   "id": "89140ca7",
   "metadata": {},
   "outputs": [],
   "source": [
    "words"
   ]
  }
 ],
 "metadata": {
  "kernelspec": {
   "display_name": "Python 3 (ipykernel)",
   "language": "python",
   "name": "python3"
  },
  "language_info": {
   "codemirror_mode": {
    "name": "ipython",
    "version": 3
   },
   "file_extension": ".py",
   "mimetype": "text/x-python",
   "name": "python",
   "nbconvert_exporter": "python",
   "pygments_lexer": "ipython3",
   "version": "3.10.2"
  }
 },
 "nbformat": 4,
 "nbformat_minor": 5
}
